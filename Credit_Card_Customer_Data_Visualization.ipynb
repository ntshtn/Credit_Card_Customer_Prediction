{
  "cells": [
    {
      "cell_type": "markdown",
      "metadata": {
        "id": "HL1cWZt23jLq"
      },
      "source": [
        "# Data Exploration of the Credit Card Customers\n",
        "\n",
        "In this notebook, we will explore the data used in my master's thesis and do some visualizations. The dataset contains 30000 credit card consumers’ payment data from a major bank in Taiwan in 2005 and can be found in the UCI Machine Learning Repository [here](https://archive.ics.uci.edu/dataset/350/default+of+credit+card+clients).\n",
        "\n",
        "The dataset can be imported directly to Python using a Python package calls `ucimlrepo`."
      ]
    },
    {
      "cell_type": "markdown",
      "metadata": {
        "id": "78DUAQc13HUf"
      },
      "source": [
        "## Load the data"
      ]
    },
    {
      "cell_type": "code",
      "execution_count": 1,
      "metadata": {
        "colab": {
          "base_uri": "https://localhost:8080/"
        },
        "id": "-KvgZECa2s2x",
        "outputId": "4b335aab-47bf-4bde-f62f-fab626cdb558"
      },
      "outputs": [
        {
          "output_type": "stream",
          "name": "stdout",
          "text": [
            "Requirement already satisfied: ucimlrepo in /usr/local/lib/python3.11/dist-packages (0.0.7)\n",
            "Requirement already satisfied: pandas>=1.0.0 in /usr/local/lib/python3.11/dist-packages (from ucimlrepo) (2.2.2)\n",
            "Requirement already satisfied: certifi>=2020.12.5 in /usr/local/lib/python3.11/dist-packages (from ucimlrepo) (2024.12.14)\n",
            "Requirement already satisfied: numpy>=1.23.2 in /usr/local/lib/python3.11/dist-packages (from pandas>=1.0.0->ucimlrepo) (1.26.4)\n",
            "Requirement already satisfied: python-dateutil>=2.8.2 in /usr/local/lib/python3.11/dist-packages (from pandas>=1.0.0->ucimlrepo) (2.8.2)\n",
            "Requirement already satisfied: pytz>=2020.1 in /usr/local/lib/python3.11/dist-packages (from pandas>=1.0.0->ucimlrepo) (2024.2)\n",
            "Requirement already satisfied: tzdata>=2022.7 in /usr/local/lib/python3.11/dist-packages (from pandas>=1.0.0->ucimlrepo) (2024.2)\n",
            "Requirement already satisfied: six>=1.5 in /usr/local/lib/python3.11/dist-packages (from python-dateutil>=2.8.2->pandas>=1.0.0->ucimlrepo) (1.17.0)\n"
          ]
        }
      ],
      "source": [
        "# Install the UCI package since it's not integrated in Google Colab\n",
        "!pip install ucimlrepo"
      ]
    },
    {
      "cell_type": "code",
      "source": [
        "# Install kaleido to render the images as png\n",
        "!pip install -U kaleido"
      ],
      "metadata": {
        "colab": {
          "base_uri": "https://localhost:8080/"
        },
        "id": "uT9NkATr5MQQ",
        "outputId": "dc377cab-4f62-4e9a-879c-468508c12fe1"
      },
      "execution_count": 2,
      "outputs": [
        {
          "output_type": "stream",
          "name": "stdout",
          "text": [
            "Requirement already satisfied: kaleido in /usr/local/lib/python3.11/dist-packages (0.2.1)\n"
          ]
        }
      ]
    },
    {
      "cell_type": "code",
      "execution_count": 3,
      "metadata": {
        "id": "tnjU2OzP3bVO"
      },
      "outputs": [],
      "source": [
        "# Load the function\n",
        "from ucimlrepo import fetch_ucirepo\n",
        "\n",
        "# Fetch dataset\n",
        "default_of_credit_card_clients = fetch_ucirepo(id=350)\n",
        "X = default_of_credit_card_clients.data.features\n",
        "y = default_of_credit_card_clients.data.targets"
      ]
    },
    {
      "cell_type": "markdown",
      "metadata": {
        "id": "LsvmZAxONpbz"
      },
      "source": [
        "## Checking the data and changing column names\n",
        "\n",
        "Based on the documentation:\n",
        "\n",
        "This research employed a binary variable, default payment (Yes = 1, No = 0), as the response variable. This study reviewed the literature and used the following 23 variables as explanatory variables:\n",
        "* X1: Amount of the given credit (NT dollar): it includes both the individual consumer credit and his/her family (supplementary) credit.\n",
        "* X2: Gender (1 = male; 2 = female).\n",
        "* X3: Education (1 = graduate school; 2 = university; 3 = high school; 4 = others).\n",
        "* X4: Marital status (1 = married; 2 = single; 3 = others).\n",
        "* X5: Age (year).\n",
        "* X6 - X11: History of past payment. We tracked the past monthly payment records (from April to September, 2005) as follows: X6 = the repayment status in September, 2005; X7 = the repayment status in August, 2005; . . .;X11 = the repayment status in April, 2005. The measurement scale for the repayment status is: -1 = pay duly; 1 = payment delay for one month; 2 = payment delay for two months; . . .; 8 = payment delay for eight months; 9 = payment delay for nine months and above.\n",
        "* X12-X17: Amount of bill statement (NT dollar). X12 = amount of bill statement in September, 2005; X13 = amount of bill statement in August, 2005; . . .; X17 = amount of bill statement in April, 2005.\n",
        "* X18-X23: Amount of previous payment (NT dollar). X18 = amount paid in September, 2005; X19 = amount paid in August, 2005; . . .;X23 = amount paid in April, 2005.\n"
      ]
    },
    {
      "cell_type": "code",
      "execution_count": 4,
      "metadata": {
        "colab": {
          "base_uri": "https://localhost:8080/"
        },
        "id": "rt9MHAAMDgvR",
        "outputId": "a8a80818-378a-47c3-a478-b9a41e7ff57d"
      },
      "outputs": [
        {
          "output_type": "execute_result",
          "data": {
            "text/plain": [
              "(pandas.core.frame.DataFrame, pandas.core.frame.DataFrame)"
            ]
          },
          "metadata": {},
          "execution_count": 4
        }
      ],
      "source": [
        "# Check what type is X and y\n",
        "type(X), type(y)"
      ]
    },
    {
      "cell_type": "code",
      "execution_count": 5,
      "metadata": {
        "colab": {
          "base_uri": "https://localhost:8080/"
        },
        "id": "YrKDPcsSymTq",
        "outputId": "09698943-8371-4b2d-fa2e-e27469eecaf8"
      },
      "outputs": [
        {
          "output_type": "execute_result",
          "data": {
            "text/plain": [
              "((30000, 23), (30000, 1))"
            ]
          },
          "metadata": {},
          "execution_count": 5
        }
      ],
      "source": [
        "# Let's check the shape of the data\n",
        "X.shape, y.shape"
      ]
    },
    {
      "cell_type": "markdown",
      "metadata": {
        "id": "hsTVxIuRysF6"
      },
      "source": [
        "As explained above, the data has 30000 samples and 23 explanatory variables (or features), as well as 1 target variable."
      ]
    },
    {
      "cell_type": "code",
      "execution_count": 6,
      "metadata": {
        "colab": {
          "base_uri": "https://localhost:8080/"
        },
        "id": "cwS9tG92Fp3o",
        "outputId": "7402b06d-fc65-4509-feee-fe772d50b9e4"
      },
      "outputs": [
        {
          "output_type": "execute_result",
          "data": {
            "text/plain": [
              "(Index(['X1', 'X2', 'X3', 'X4', 'X5', 'X6', 'X7', 'X8', 'X9', 'X10', 'X11',\n",
              "        'X12', 'X13', 'X14', 'X15', 'X16', 'X17', 'X18', 'X19', 'X20', 'X21',\n",
              "        'X22', 'X23'],\n",
              "       dtype='object'),\n",
              " Index(['Y'], dtype='object'))"
            ]
          },
          "metadata": {},
          "execution_count": 6
        }
      ],
      "source": [
        "# Get column names\n",
        "X.columns, y.columns"
      ]
    },
    {
      "cell_type": "code",
      "execution_count": 7,
      "metadata": {
        "id": "zjS4lVQOGoVI"
      },
      "outputs": [],
      "source": [
        "# Changing the column names so it is easier to be understood\n",
        "new_column_names_X = ['limit',\n",
        "                    'sex',\n",
        "                    'education',\n",
        "                    'marriage',\n",
        "                    'age',\n",
        "                    'pay_1',\n",
        "                    'pay_2',\n",
        "                    'pay_3',\n",
        "                    'pay_4',\n",
        "                    'pay_5',\n",
        "                    'pay_6',\n",
        "                    'bill_amt1',\n",
        "                    'bill_amt2',\n",
        "                    'bill_amt3',\n",
        "                    'bill_amt4',\n",
        "                    'bill_amt5',\n",
        "                    'bill_amt6',\n",
        "                    'pay_amt1',\n",
        "                    'pay_amt2',\n",
        "                    'pay_amt3',\n",
        "                    'pay_amt4',\n",
        "                    'pay_amt5',\n",
        "                    'pay_amt6',\n",
        "                    ]\n",
        "new_column_names_y = ['default']\n",
        "\n",
        "X.columns = new_column_names_X\n",
        "y.columns = new_column_names_y"
      ]
    },
    {
      "cell_type": "code",
      "execution_count": 8,
      "metadata": {
        "colab": {
          "base_uri": "https://localhost:8080/"
        },
        "id": "HSCGH_L2Iger",
        "outputId": "fa22503e-b163-4dbf-9203-0b930a582878"
      },
      "outputs": [
        {
          "output_type": "stream",
          "name": "stdout",
          "text": [
            "<class 'pandas.core.frame.DataFrame'>\n",
            "RangeIndex: 30000 entries, 0 to 29999\n",
            "Data columns (total 23 columns):\n",
            " #   Column     Non-Null Count  Dtype\n",
            "---  ------     --------------  -----\n",
            " 0   limit      30000 non-null  int64\n",
            " 1   sex        30000 non-null  int64\n",
            " 2   education  30000 non-null  int64\n",
            " 3   marriage   30000 non-null  int64\n",
            " 4   age        30000 non-null  int64\n",
            " 5   pay_1      30000 non-null  int64\n",
            " 6   pay_2      30000 non-null  int64\n",
            " 7   pay_3      30000 non-null  int64\n",
            " 8   pay_4      30000 non-null  int64\n",
            " 9   pay_5      30000 non-null  int64\n",
            " 10  pay_6      30000 non-null  int64\n",
            " 11  bill_amt1  30000 non-null  int64\n",
            " 12  bill_amt2  30000 non-null  int64\n",
            " 13  bill_amt3  30000 non-null  int64\n",
            " 14  bill_amt4  30000 non-null  int64\n",
            " 15  bill_amt5  30000 non-null  int64\n",
            " 16  bill_amt6  30000 non-null  int64\n",
            " 17  pay_amt1   30000 non-null  int64\n",
            " 18  pay_amt2   30000 non-null  int64\n",
            " 19  pay_amt3   30000 non-null  int64\n",
            " 20  pay_amt4   30000 non-null  int64\n",
            " 21  pay_amt5   30000 non-null  int64\n",
            " 22  pay_amt6   30000 non-null  int64\n",
            "dtypes: int64(23)\n",
            "memory usage: 5.3 MB\n",
            "<class 'pandas.core.frame.DataFrame'>\n",
            "RangeIndex: 30000 entries, 0 to 29999\n",
            "Data columns (total 1 columns):\n",
            " #   Column   Non-Null Count  Dtype\n",
            "---  ------   --------------  -----\n",
            " 0   default  30000 non-null  int64\n",
            "dtypes: int64(1)\n",
            "memory usage: 234.5 KB\n"
          ]
        },
        {
          "output_type": "execute_result",
          "data": {
            "text/plain": [
              "(None, None)"
            ]
          },
          "metadata": {},
          "execution_count": 8
        }
      ],
      "source": [
        "# Check X and y\n",
        "X.info(), y.info()"
      ]
    },
    {
      "cell_type": "markdown",
      "metadata": {
        "id": "kwebB8qIz99r"
      },
      "source": [
        "## Changing unknown values\n",
        "\n",
        "Now, we want to check the values of the categorical features and detect wrong or unknown values."
      ]
    },
    {
      "cell_type": "code",
      "execution_count": 9,
      "metadata": {
        "colab": {
          "base_uri": "https://localhost:8080/"
        },
        "id": "12GVeTLKJs7e",
        "outputId": "274264b3-f038-47c8-cca7-f39c7311d066"
      },
      "outputs": [
        {
          "output_type": "stream",
          "name": "stdout",
          "text": [
            "Sex: [2 1] \n",
            "\n",
            "Education: [2 1 3 5 4 6 0] \n",
            "\n",
            "Marriage: [1 2 3 0] \n",
            "\n",
            "Pay_1: [ 2 -1  0 -2  1  3  4  8  7  5  6] \n",
            "\n",
            "Pay_2: [ 2  0 -1 -2  3  5  7  4  1  6  8] \n",
            "\n",
            "Pay_3: [-1  0  2 -2  3  4  6  7  1  5  8] \n",
            "\n",
            "Pay_4: [-1  0 -2  2  3  4  5  7  6  1  8] \n",
            "\n",
            "Pay_5: [-2  0 -1  2  3  5  4  7  8  6] \n",
            "\n",
            "Pay_6: [-2  2  0 -1  3  6  4  7  8  5] \n",
            "\n",
            "Default: [1 0] \n",
            "\n"
          ]
        }
      ],
      "source": [
        "# Check what unique values are there for the \"categorical\" variables (they are still integer variables)\n",
        "print(f\"Sex: {X['sex'].unique()} \\n\")\n",
        "print(f\"Education: {X['education'].unique()} \\n\")\n",
        "print(f\"Marriage: {X['marriage'].unique()} \\n\")\n",
        "print(f\"Pay_1: {X['pay_1'].unique()} \\n\")\n",
        "print(f\"Pay_2: {X['pay_2'].unique()} \\n\")\n",
        "print(f\"Pay_3: {X['pay_3'].unique()} \\n\")\n",
        "print(f\"Pay_4: {X['pay_4'].unique()} \\n\")\n",
        "print(f\"Pay_5: {X['pay_5'].unique()} \\n\")\n",
        "print(f\"Pay_6: {X['pay_6'].unique()} \\n\")\n",
        "print(f\"Default: {y['default'].unique()} \\n\")"
      ]
    },
    {
      "cell_type": "markdown",
      "metadata": {
        "id": "V3A4VCu5NHE0"
      },
      "source": [
        "The values 0, 5, and 6 in education are not documented, so we will change them to 4 (others).\n",
        "\n",
        "The value 0 in marriage is also not documented, so we change this to 3 (others)."
      ]
    },
    {
      "cell_type": "code",
      "execution_count": 10,
      "metadata": {
        "colab": {
          "base_uri": "https://localhost:8080/"
        },
        "id": "2XAtUYhXNh2B",
        "outputId": "6b7a8b78-e3ec-4fe8-f2ce-1207dcf0e532"
      },
      "outputs": [
        {
          "output_type": "stream",
          "name": "stderr",
          "text": [
            "<ipython-input-10-c0aaa63f6f11>:2: SettingWithCopyWarning: \n",
            "A value is trying to be set on a copy of a slice from a DataFrame.\n",
            "Try using .loc[row_indexer,col_indexer] = value instead\n",
            "\n",
            "See the caveats in the documentation: https://pandas.pydata.org/pandas-docs/stable/user_guide/indexing.html#returning-a-view-versus-a-copy\n",
            "  X['education'] = X['education'].replace([0, 5, 6], 4)\n",
            "<ipython-input-10-c0aaa63f6f11>:5: SettingWithCopyWarning: \n",
            "A value is trying to be set on a copy of a slice from a DataFrame.\n",
            "Try using .loc[row_indexer,col_indexer] = value instead\n",
            "\n",
            "See the caveats in the documentation: https://pandas.pydata.org/pandas-docs/stable/user_guide/indexing.html#returning-a-view-versus-a-copy\n",
            "  X['marriage'] = X['marriage'].replace(0, 3)\n"
          ]
        }
      ],
      "source": [
        "# Change the undocumented values in education\n",
        "X['education'] = X['education'].replace([0, 5, 6], 4)\n",
        "\n",
        "# Change the undocumented values in marriage\n",
        "X['marriage'] = X['marriage'].replace(0, 3)"
      ]
    },
    {
      "cell_type": "markdown",
      "metadata": {
        "id": "_TVSgwfV2Z24"
      },
      "source": [
        "## Visualization of the data\n",
        "\n",
        "Let's do some plotting since the values are all correct and understandable. We have separated X and y from the beginning. We will now combine it."
      ]
    },
    {
      "cell_type": "code",
      "execution_count": 11,
      "metadata": {
        "colab": {
          "base_uri": "https://localhost:8080/",
          "height": 439
        },
        "id": "JRX91Ugx0fRO",
        "outputId": "c1418fac-b29f-4dcc-f7fc-f4a66d6ea4ec"
      },
      "outputs": [
        {
          "output_type": "execute_result",
          "data": {
            "text/plain": [
              "        limit  sex  education  marriage  age  pay_1  pay_2  pay_3  pay_4  \\\n",
              "0       20000    2          2         1   24      2      2     -1     -1   \n",
              "1      120000    2          2         2   26     -1      2      0      0   \n",
              "2       90000    2          2         2   34      0      0      0      0   \n",
              "3       50000    2          2         1   37      0      0      0      0   \n",
              "4       50000    1          2         1   57     -1      0     -1      0   \n",
              "...       ...  ...        ...       ...  ...    ...    ...    ...    ...   \n",
              "29995  220000    1          3         1   39      0      0      0      0   \n",
              "29996  150000    1          3         2   43     -1     -1     -1     -1   \n",
              "29997   30000    1          2         2   37      4      3      2     -1   \n",
              "29998   80000    1          3         1   41      1     -1      0      0   \n",
              "29999   50000    1          2         1   46      0      0      0      0   \n",
              "\n",
              "       pay_5  ...  bill_amt4  bill_amt5  bill_amt6  pay_amt1  pay_amt2  \\\n",
              "0         -2  ...          0          0          0         0       689   \n",
              "1          0  ...       3272       3455       3261         0      1000   \n",
              "2          0  ...      14331      14948      15549      1518      1500   \n",
              "3          0  ...      28314      28959      29547      2000      2019   \n",
              "4          0  ...      20940      19146      19131      2000     36681   \n",
              "...      ...  ...        ...        ...        ...       ...       ...   \n",
              "29995      0  ...      88004      31237      15980      8500     20000   \n",
              "29996      0  ...       8979       5190          0      1837      3526   \n",
              "29997      0  ...      20878      20582      19357         0         0   \n",
              "29998      0  ...      52774      11855      48944     85900      3409   \n",
              "29999      0  ...      36535      32428      15313      2078      1800   \n",
              "\n",
              "       pay_amt3  pay_amt4  pay_amt5  pay_amt6  default  \n",
              "0             0         0         0         0        1  \n",
              "1          1000      1000         0      2000        1  \n",
              "2          1000      1000      1000      5000        0  \n",
              "3          1200      1100      1069      1000        0  \n",
              "4         10000      9000       689       679        0  \n",
              "...         ...       ...       ...       ...      ...  \n",
              "29995      5003      3047      5000      1000        0  \n",
              "29996      8998       129         0         0        0  \n",
              "29997     22000      4200      2000      3100        1  \n",
              "29998      1178      1926     52964      1804        1  \n",
              "29999      1430      1000      1000      1000        1  \n",
              "\n",
              "[30000 rows x 24 columns]"
            ],
            "text/html": [
              "\n",
              "  <div id=\"df-49e66aeb-5c8e-4c36-8f16-6cab42c844eb\" class=\"colab-df-container\">\n",
              "    <div>\n",
              "<style scoped>\n",
              "    .dataframe tbody tr th:only-of-type {\n",
              "        vertical-align: middle;\n",
              "    }\n",
              "\n",
              "    .dataframe tbody tr th {\n",
              "        vertical-align: top;\n",
              "    }\n",
              "\n",
              "    .dataframe thead th {\n",
              "        text-align: right;\n",
              "    }\n",
              "</style>\n",
              "<table border=\"1\" class=\"dataframe\">\n",
              "  <thead>\n",
              "    <tr style=\"text-align: right;\">\n",
              "      <th></th>\n",
              "      <th>limit</th>\n",
              "      <th>sex</th>\n",
              "      <th>education</th>\n",
              "      <th>marriage</th>\n",
              "      <th>age</th>\n",
              "      <th>pay_1</th>\n",
              "      <th>pay_2</th>\n",
              "      <th>pay_3</th>\n",
              "      <th>pay_4</th>\n",
              "      <th>pay_5</th>\n",
              "      <th>...</th>\n",
              "      <th>bill_amt4</th>\n",
              "      <th>bill_amt5</th>\n",
              "      <th>bill_amt6</th>\n",
              "      <th>pay_amt1</th>\n",
              "      <th>pay_amt2</th>\n",
              "      <th>pay_amt3</th>\n",
              "      <th>pay_amt4</th>\n",
              "      <th>pay_amt5</th>\n",
              "      <th>pay_amt6</th>\n",
              "      <th>default</th>\n",
              "    </tr>\n",
              "  </thead>\n",
              "  <tbody>\n",
              "    <tr>\n",
              "      <th>0</th>\n",
              "      <td>20000</td>\n",
              "      <td>2</td>\n",
              "      <td>2</td>\n",
              "      <td>1</td>\n",
              "      <td>24</td>\n",
              "      <td>2</td>\n",
              "      <td>2</td>\n",
              "      <td>-1</td>\n",
              "      <td>-1</td>\n",
              "      <td>-2</td>\n",
              "      <td>...</td>\n",
              "      <td>0</td>\n",
              "      <td>0</td>\n",
              "      <td>0</td>\n",
              "      <td>0</td>\n",
              "      <td>689</td>\n",
              "      <td>0</td>\n",
              "      <td>0</td>\n",
              "      <td>0</td>\n",
              "      <td>0</td>\n",
              "      <td>1</td>\n",
              "    </tr>\n",
              "    <tr>\n",
              "      <th>1</th>\n",
              "      <td>120000</td>\n",
              "      <td>2</td>\n",
              "      <td>2</td>\n",
              "      <td>2</td>\n",
              "      <td>26</td>\n",
              "      <td>-1</td>\n",
              "      <td>2</td>\n",
              "      <td>0</td>\n",
              "      <td>0</td>\n",
              "      <td>0</td>\n",
              "      <td>...</td>\n",
              "      <td>3272</td>\n",
              "      <td>3455</td>\n",
              "      <td>3261</td>\n",
              "      <td>0</td>\n",
              "      <td>1000</td>\n",
              "      <td>1000</td>\n",
              "      <td>1000</td>\n",
              "      <td>0</td>\n",
              "      <td>2000</td>\n",
              "      <td>1</td>\n",
              "    </tr>\n",
              "    <tr>\n",
              "      <th>2</th>\n",
              "      <td>90000</td>\n",
              "      <td>2</td>\n",
              "      <td>2</td>\n",
              "      <td>2</td>\n",
              "      <td>34</td>\n",
              "      <td>0</td>\n",
              "      <td>0</td>\n",
              "      <td>0</td>\n",
              "      <td>0</td>\n",
              "      <td>0</td>\n",
              "      <td>...</td>\n",
              "      <td>14331</td>\n",
              "      <td>14948</td>\n",
              "      <td>15549</td>\n",
              "      <td>1518</td>\n",
              "      <td>1500</td>\n",
              "      <td>1000</td>\n",
              "      <td>1000</td>\n",
              "      <td>1000</td>\n",
              "      <td>5000</td>\n",
              "      <td>0</td>\n",
              "    </tr>\n",
              "    <tr>\n",
              "      <th>3</th>\n",
              "      <td>50000</td>\n",
              "      <td>2</td>\n",
              "      <td>2</td>\n",
              "      <td>1</td>\n",
              "      <td>37</td>\n",
              "      <td>0</td>\n",
              "      <td>0</td>\n",
              "      <td>0</td>\n",
              "      <td>0</td>\n",
              "      <td>0</td>\n",
              "      <td>...</td>\n",
              "      <td>28314</td>\n",
              "      <td>28959</td>\n",
              "      <td>29547</td>\n",
              "      <td>2000</td>\n",
              "      <td>2019</td>\n",
              "      <td>1200</td>\n",
              "      <td>1100</td>\n",
              "      <td>1069</td>\n",
              "      <td>1000</td>\n",
              "      <td>0</td>\n",
              "    </tr>\n",
              "    <tr>\n",
              "      <th>4</th>\n",
              "      <td>50000</td>\n",
              "      <td>1</td>\n",
              "      <td>2</td>\n",
              "      <td>1</td>\n",
              "      <td>57</td>\n",
              "      <td>-1</td>\n",
              "      <td>0</td>\n",
              "      <td>-1</td>\n",
              "      <td>0</td>\n",
              "      <td>0</td>\n",
              "      <td>...</td>\n",
              "      <td>20940</td>\n",
              "      <td>19146</td>\n",
              "      <td>19131</td>\n",
              "      <td>2000</td>\n",
              "      <td>36681</td>\n",
              "      <td>10000</td>\n",
              "      <td>9000</td>\n",
              "      <td>689</td>\n",
              "      <td>679</td>\n",
              "      <td>0</td>\n",
              "    </tr>\n",
              "    <tr>\n",
              "      <th>...</th>\n",
              "      <td>...</td>\n",
              "      <td>...</td>\n",
              "      <td>...</td>\n",
              "      <td>...</td>\n",
              "      <td>...</td>\n",
              "      <td>...</td>\n",
              "      <td>...</td>\n",
              "      <td>...</td>\n",
              "      <td>...</td>\n",
              "      <td>...</td>\n",
              "      <td>...</td>\n",
              "      <td>...</td>\n",
              "      <td>...</td>\n",
              "      <td>...</td>\n",
              "      <td>...</td>\n",
              "      <td>...</td>\n",
              "      <td>...</td>\n",
              "      <td>...</td>\n",
              "      <td>...</td>\n",
              "      <td>...</td>\n",
              "      <td>...</td>\n",
              "    </tr>\n",
              "    <tr>\n",
              "      <th>29995</th>\n",
              "      <td>220000</td>\n",
              "      <td>1</td>\n",
              "      <td>3</td>\n",
              "      <td>1</td>\n",
              "      <td>39</td>\n",
              "      <td>0</td>\n",
              "      <td>0</td>\n",
              "      <td>0</td>\n",
              "      <td>0</td>\n",
              "      <td>0</td>\n",
              "      <td>...</td>\n",
              "      <td>88004</td>\n",
              "      <td>31237</td>\n",
              "      <td>15980</td>\n",
              "      <td>8500</td>\n",
              "      <td>20000</td>\n",
              "      <td>5003</td>\n",
              "      <td>3047</td>\n",
              "      <td>5000</td>\n",
              "      <td>1000</td>\n",
              "      <td>0</td>\n",
              "    </tr>\n",
              "    <tr>\n",
              "      <th>29996</th>\n",
              "      <td>150000</td>\n",
              "      <td>1</td>\n",
              "      <td>3</td>\n",
              "      <td>2</td>\n",
              "      <td>43</td>\n",
              "      <td>-1</td>\n",
              "      <td>-1</td>\n",
              "      <td>-1</td>\n",
              "      <td>-1</td>\n",
              "      <td>0</td>\n",
              "      <td>...</td>\n",
              "      <td>8979</td>\n",
              "      <td>5190</td>\n",
              "      <td>0</td>\n",
              "      <td>1837</td>\n",
              "      <td>3526</td>\n",
              "      <td>8998</td>\n",
              "      <td>129</td>\n",
              "      <td>0</td>\n",
              "      <td>0</td>\n",
              "      <td>0</td>\n",
              "    </tr>\n",
              "    <tr>\n",
              "      <th>29997</th>\n",
              "      <td>30000</td>\n",
              "      <td>1</td>\n",
              "      <td>2</td>\n",
              "      <td>2</td>\n",
              "      <td>37</td>\n",
              "      <td>4</td>\n",
              "      <td>3</td>\n",
              "      <td>2</td>\n",
              "      <td>-1</td>\n",
              "      <td>0</td>\n",
              "      <td>...</td>\n",
              "      <td>20878</td>\n",
              "      <td>20582</td>\n",
              "      <td>19357</td>\n",
              "      <td>0</td>\n",
              "      <td>0</td>\n",
              "      <td>22000</td>\n",
              "      <td>4200</td>\n",
              "      <td>2000</td>\n",
              "      <td>3100</td>\n",
              "      <td>1</td>\n",
              "    </tr>\n",
              "    <tr>\n",
              "      <th>29998</th>\n",
              "      <td>80000</td>\n",
              "      <td>1</td>\n",
              "      <td>3</td>\n",
              "      <td>1</td>\n",
              "      <td>41</td>\n",
              "      <td>1</td>\n",
              "      <td>-1</td>\n",
              "      <td>0</td>\n",
              "      <td>0</td>\n",
              "      <td>0</td>\n",
              "      <td>...</td>\n",
              "      <td>52774</td>\n",
              "      <td>11855</td>\n",
              "      <td>48944</td>\n",
              "      <td>85900</td>\n",
              "      <td>3409</td>\n",
              "      <td>1178</td>\n",
              "      <td>1926</td>\n",
              "      <td>52964</td>\n",
              "      <td>1804</td>\n",
              "      <td>1</td>\n",
              "    </tr>\n",
              "    <tr>\n",
              "      <th>29999</th>\n",
              "      <td>50000</td>\n",
              "      <td>1</td>\n",
              "      <td>2</td>\n",
              "      <td>1</td>\n",
              "      <td>46</td>\n",
              "      <td>0</td>\n",
              "      <td>0</td>\n",
              "      <td>0</td>\n",
              "      <td>0</td>\n",
              "      <td>0</td>\n",
              "      <td>...</td>\n",
              "      <td>36535</td>\n",
              "      <td>32428</td>\n",
              "      <td>15313</td>\n",
              "      <td>2078</td>\n",
              "      <td>1800</td>\n",
              "      <td>1430</td>\n",
              "      <td>1000</td>\n",
              "      <td>1000</td>\n",
              "      <td>1000</td>\n",
              "      <td>1</td>\n",
              "    </tr>\n",
              "  </tbody>\n",
              "</table>\n",
              "<p>30000 rows × 24 columns</p>\n",
              "</div>\n",
              "    <div class=\"colab-df-buttons\">\n",
              "\n",
              "  <div class=\"colab-df-container\">\n",
              "    <button class=\"colab-df-convert\" onclick=\"convertToInteractive('df-49e66aeb-5c8e-4c36-8f16-6cab42c844eb')\"\n",
              "            title=\"Convert this dataframe to an interactive table.\"\n",
              "            style=\"display:none;\">\n",
              "\n",
              "  <svg xmlns=\"http://www.w3.org/2000/svg\" height=\"24px\" viewBox=\"0 -960 960 960\">\n",
              "    <path d=\"M120-120v-720h720v720H120Zm60-500h600v-160H180v160Zm220 220h160v-160H400v160Zm0 220h160v-160H400v160ZM180-400h160v-160H180v160Zm440 0h160v-160H620v160ZM180-180h160v-160H180v160Zm440 0h160v-160H620v160Z\"/>\n",
              "  </svg>\n",
              "    </button>\n",
              "\n",
              "  <style>\n",
              "    .colab-df-container {\n",
              "      display:flex;\n",
              "      gap: 12px;\n",
              "    }\n",
              "\n",
              "    .colab-df-convert {\n",
              "      background-color: #E8F0FE;\n",
              "      border: none;\n",
              "      border-radius: 50%;\n",
              "      cursor: pointer;\n",
              "      display: none;\n",
              "      fill: #1967D2;\n",
              "      height: 32px;\n",
              "      padding: 0 0 0 0;\n",
              "      width: 32px;\n",
              "    }\n",
              "\n",
              "    .colab-df-convert:hover {\n",
              "      background-color: #E2EBFA;\n",
              "      box-shadow: 0px 1px 2px rgba(60, 64, 67, 0.3), 0px 1px 3px 1px rgba(60, 64, 67, 0.15);\n",
              "      fill: #174EA6;\n",
              "    }\n",
              "\n",
              "    .colab-df-buttons div {\n",
              "      margin-bottom: 4px;\n",
              "    }\n",
              "\n",
              "    [theme=dark] .colab-df-convert {\n",
              "      background-color: #3B4455;\n",
              "      fill: #D2E3FC;\n",
              "    }\n",
              "\n",
              "    [theme=dark] .colab-df-convert:hover {\n",
              "      background-color: #434B5C;\n",
              "      box-shadow: 0px 1px 3px 1px rgba(0, 0, 0, 0.15);\n",
              "      filter: drop-shadow(0px 1px 2px rgba(0, 0, 0, 0.3));\n",
              "      fill: #FFFFFF;\n",
              "    }\n",
              "  </style>\n",
              "\n",
              "    <script>\n",
              "      const buttonEl =\n",
              "        document.querySelector('#df-49e66aeb-5c8e-4c36-8f16-6cab42c844eb button.colab-df-convert');\n",
              "      buttonEl.style.display =\n",
              "        google.colab.kernel.accessAllowed ? 'block' : 'none';\n",
              "\n",
              "      async function convertToInteractive(key) {\n",
              "        const element = document.querySelector('#df-49e66aeb-5c8e-4c36-8f16-6cab42c844eb');\n",
              "        const dataTable =\n",
              "          await google.colab.kernel.invokeFunction('convertToInteractive',\n",
              "                                                    [key], {});\n",
              "        if (!dataTable) return;\n",
              "\n",
              "        const docLinkHtml = 'Like what you see? Visit the ' +\n",
              "          '<a target=\"_blank\" href=https://colab.research.google.com/notebooks/data_table.ipynb>data table notebook</a>'\n",
              "          + ' to learn more about interactive tables.';\n",
              "        element.innerHTML = '';\n",
              "        dataTable['output_type'] = 'display_data';\n",
              "        await google.colab.output.renderOutput(dataTable, element);\n",
              "        const docLink = document.createElement('div');\n",
              "        docLink.innerHTML = docLinkHtml;\n",
              "        element.appendChild(docLink);\n",
              "      }\n",
              "    </script>\n",
              "  </div>\n",
              "\n",
              "\n",
              "<div id=\"df-dca4ba7b-5cd0-40d5-83fd-b1210d500cdd\">\n",
              "  <button class=\"colab-df-quickchart\" onclick=\"quickchart('df-dca4ba7b-5cd0-40d5-83fd-b1210d500cdd')\"\n",
              "            title=\"Suggest charts\"\n",
              "            style=\"display:none;\">\n",
              "\n",
              "<svg xmlns=\"http://www.w3.org/2000/svg\" height=\"24px\"viewBox=\"0 0 24 24\"\n",
              "     width=\"24px\">\n",
              "    <g>\n",
              "        <path d=\"M19 3H5c-1.1 0-2 .9-2 2v14c0 1.1.9 2 2 2h14c1.1 0 2-.9 2-2V5c0-1.1-.9-2-2-2zM9 17H7v-7h2v7zm4 0h-2V7h2v10zm4 0h-2v-4h2v4z\"/>\n",
              "    </g>\n",
              "</svg>\n",
              "  </button>\n",
              "\n",
              "<style>\n",
              "  .colab-df-quickchart {\n",
              "      --bg-color: #E8F0FE;\n",
              "      --fill-color: #1967D2;\n",
              "      --hover-bg-color: #E2EBFA;\n",
              "      --hover-fill-color: #174EA6;\n",
              "      --disabled-fill-color: #AAA;\n",
              "      --disabled-bg-color: #DDD;\n",
              "  }\n",
              "\n",
              "  [theme=dark] .colab-df-quickchart {\n",
              "      --bg-color: #3B4455;\n",
              "      --fill-color: #D2E3FC;\n",
              "      --hover-bg-color: #434B5C;\n",
              "      --hover-fill-color: #FFFFFF;\n",
              "      --disabled-bg-color: #3B4455;\n",
              "      --disabled-fill-color: #666;\n",
              "  }\n",
              "\n",
              "  .colab-df-quickchart {\n",
              "    background-color: var(--bg-color);\n",
              "    border: none;\n",
              "    border-radius: 50%;\n",
              "    cursor: pointer;\n",
              "    display: none;\n",
              "    fill: var(--fill-color);\n",
              "    height: 32px;\n",
              "    padding: 0;\n",
              "    width: 32px;\n",
              "  }\n",
              "\n",
              "  .colab-df-quickchart:hover {\n",
              "    background-color: var(--hover-bg-color);\n",
              "    box-shadow: 0 1px 2px rgba(60, 64, 67, 0.3), 0 1px 3px 1px rgba(60, 64, 67, 0.15);\n",
              "    fill: var(--button-hover-fill-color);\n",
              "  }\n",
              "\n",
              "  .colab-df-quickchart-complete:disabled,\n",
              "  .colab-df-quickchart-complete:disabled:hover {\n",
              "    background-color: var(--disabled-bg-color);\n",
              "    fill: var(--disabled-fill-color);\n",
              "    box-shadow: none;\n",
              "  }\n",
              "\n",
              "  .colab-df-spinner {\n",
              "    border: 2px solid var(--fill-color);\n",
              "    border-color: transparent;\n",
              "    border-bottom-color: var(--fill-color);\n",
              "    animation:\n",
              "      spin 1s steps(1) infinite;\n",
              "  }\n",
              "\n",
              "  @keyframes spin {\n",
              "    0% {\n",
              "      border-color: transparent;\n",
              "      border-bottom-color: var(--fill-color);\n",
              "      border-left-color: var(--fill-color);\n",
              "    }\n",
              "    20% {\n",
              "      border-color: transparent;\n",
              "      border-left-color: var(--fill-color);\n",
              "      border-top-color: var(--fill-color);\n",
              "    }\n",
              "    30% {\n",
              "      border-color: transparent;\n",
              "      border-left-color: var(--fill-color);\n",
              "      border-top-color: var(--fill-color);\n",
              "      border-right-color: var(--fill-color);\n",
              "    }\n",
              "    40% {\n",
              "      border-color: transparent;\n",
              "      border-right-color: var(--fill-color);\n",
              "      border-top-color: var(--fill-color);\n",
              "    }\n",
              "    60% {\n",
              "      border-color: transparent;\n",
              "      border-right-color: var(--fill-color);\n",
              "    }\n",
              "    80% {\n",
              "      border-color: transparent;\n",
              "      border-right-color: var(--fill-color);\n",
              "      border-bottom-color: var(--fill-color);\n",
              "    }\n",
              "    90% {\n",
              "      border-color: transparent;\n",
              "      border-bottom-color: var(--fill-color);\n",
              "    }\n",
              "  }\n",
              "</style>\n",
              "\n",
              "  <script>\n",
              "    async function quickchart(key) {\n",
              "      const quickchartButtonEl =\n",
              "        document.querySelector('#' + key + ' button');\n",
              "      quickchartButtonEl.disabled = true;  // To prevent multiple clicks.\n",
              "      quickchartButtonEl.classList.add('colab-df-spinner');\n",
              "      try {\n",
              "        const charts = await google.colab.kernel.invokeFunction(\n",
              "            'suggestCharts', [key], {});\n",
              "      } catch (error) {\n",
              "        console.error('Error during call to suggestCharts:', error);\n",
              "      }\n",
              "      quickchartButtonEl.classList.remove('colab-df-spinner');\n",
              "      quickchartButtonEl.classList.add('colab-df-quickchart-complete');\n",
              "    }\n",
              "    (() => {\n",
              "      let quickchartButtonEl =\n",
              "        document.querySelector('#df-dca4ba7b-5cd0-40d5-83fd-b1210d500cdd button');\n",
              "      quickchartButtonEl.style.display =\n",
              "        google.colab.kernel.accessAllowed ? 'block' : 'none';\n",
              "    })();\n",
              "  </script>\n",
              "</div>\n",
              "\n",
              "  <div id=\"id_d9ecbc48-daf8-4e38-8e9f-b1bda5271fce\">\n",
              "    <style>\n",
              "      .colab-df-generate {\n",
              "        background-color: #E8F0FE;\n",
              "        border: none;\n",
              "        border-radius: 50%;\n",
              "        cursor: pointer;\n",
              "        display: none;\n",
              "        fill: #1967D2;\n",
              "        height: 32px;\n",
              "        padding: 0 0 0 0;\n",
              "        width: 32px;\n",
              "      }\n",
              "\n",
              "      .colab-df-generate:hover {\n",
              "        background-color: #E2EBFA;\n",
              "        box-shadow: 0px 1px 2px rgba(60, 64, 67, 0.3), 0px 1px 3px 1px rgba(60, 64, 67, 0.15);\n",
              "        fill: #174EA6;\n",
              "      }\n",
              "\n",
              "      [theme=dark] .colab-df-generate {\n",
              "        background-color: #3B4455;\n",
              "        fill: #D2E3FC;\n",
              "      }\n",
              "\n",
              "      [theme=dark] .colab-df-generate:hover {\n",
              "        background-color: #434B5C;\n",
              "        box-shadow: 0px 1px 3px 1px rgba(0, 0, 0, 0.15);\n",
              "        filter: drop-shadow(0px 1px 2px rgba(0, 0, 0, 0.3));\n",
              "        fill: #FFFFFF;\n",
              "      }\n",
              "    </style>\n",
              "    <button class=\"colab-df-generate\" onclick=\"generateWithVariable('combined_data')\"\n",
              "            title=\"Generate code using this dataframe.\"\n",
              "            style=\"display:none;\">\n",
              "\n",
              "  <svg xmlns=\"http://www.w3.org/2000/svg\" height=\"24px\"viewBox=\"0 0 24 24\"\n",
              "       width=\"24px\">\n",
              "    <path d=\"M7,19H8.4L18.45,9,17,7.55,7,17.6ZM5,21V16.75L18.45,3.32a2,2,0,0,1,2.83,0l1.4,1.43a1.91,1.91,0,0,1,.58,1.4,1.91,1.91,0,0,1-.58,1.4L9.25,21ZM18.45,9,17,7.55Zm-12,3A5.31,5.31,0,0,0,4.9,8.1,5.31,5.31,0,0,0,1,6.5,5.31,5.31,0,0,0,4.9,4.9,5.31,5.31,0,0,0,6.5,1,5.31,5.31,0,0,0,8.1,4.9,5.31,5.31,0,0,0,12,6.5,5.46,5.46,0,0,0,6.5,12Z\"/>\n",
              "  </svg>\n",
              "    </button>\n",
              "    <script>\n",
              "      (() => {\n",
              "      const buttonEl =\n",
              "        document.querySelector('#id_d9ecbc48-daf8-4e38-8e9f-b1bda5271fce button.colab-df-generate');\n",
              "      buttonEl.style.display =\n",
              "        google.colab.kernel.accessAllowed ? 'block' : 'none';\n",
              "\n",
              "      buttonEl.onclick = () => {\n",
              "        google.colab.notebook.generateWithVariable('combined_data');\n",
              "      }\n",
              "      })();\n",
              "    </script>\n",
              "  </div>\n",
              "\n",
              "    </div>\n",
              "  </div>\n"
            ],
            "application/vnd.google.colaboratory.intrinsic+json": {
              "type": "dataframe",
              "variable_name": "combined_data"
            }
          },
          "metadata": {},
          "execution_count": 11
        }
      ],
      "source": [
        "import pandas as pd\n",
        "\n",
        "combined_data = pd.concat([X, y], axis=1)\n",
        "combined_data"
      ]
    },
    {
      "cell_type": "markdown",
      "metadata": {
        "id": "Tn9pnYKH3BH2"
      },
      "source": [
        "### Demographic overview\n",
        "\n",
        "We will plot some diagrams of the demograpic using Dash Plotly."
      ]
    },
    {
      "cell_type": "code",
      "execution_count": 12,
      "metadata": {
        "colab": {
          "base_uri": "https://localhost:8080/"
        },
        "id": "5-pdsLNi7z08",
        "outputId": "e24a5b4c-1f64-48f0-e884-05487921d622"
      },
      "outputs": [
        {
          "output_type": "stream",
          "name": "stdout",
          "text": [
            "Requirement already satisfied: dash in /usr/local/lib/python3.11/dist-packages (2.18.2)\n",
            "Requirement already satisfied: Flask<3.1,>=1.0.4 in /usr/local/lib/python3.11/dist-packages (from dash) (3.0.3)\n",
            "Requirement already satisfied: Werkzeug<3.1 in /usr/local/lib/python3.11/dist-packages (from dash) (3.0.6)\n",
            "Requirement already satisfied: plotly>=5.0.0 in /usr/local/lib/python3.11/dist-packages (from dash) (5.24.1)\n",
            "Requirement already satisfied: dash-html-components==2.0.0 in /usr/local/lib/python3.11/dist-packages (from dash) (2.0.0)\n",
            "Requirement already satisfied: dash-core-components==2.0.0 in /usr/local/lib/python3.11/dist-packages (from dash) (2.0.0)\n",
            "Requirement already satisfied: dash-table==5.0.0 in /usr/local/lib/python3.11/dist-packages (from dash) (5.0.0)\n",
            "Requirement already satisfied: importlib-metadata in /usr/local/lib/python3.11/dist-packages (from dash) (8.5.0)\n",
            "Requirement already satisfied: typing-extensions>=4.1.1 in /usr/local/lib/python3.11/dist-packages (from dash) (4.12.2)\n",
            "Requirement already satisfied: requests in /usr/local/lib/python3.11/dist-packages (from dash) (2.32.3)\n",
            "Requirement already satisfied: retrying in /usr/local/lib/python3.11/dist-packages (from dash) (1.3.4)\n",
            "Requirement already satisfied: nest-asyncio in /usr/local/lib/python3.11/dist-packages (from dash) (1.6.0)\n",
            "Requirement already satisfied: setuptools in /usr/local/lib/python3.11/dist-packages (from dash) (75.1.0)\n",
            "Requirement already satisfied: Jinja2>=3.1.2 in /usr/local/lib/python3.11/dist-packages (from Flask<3.1,>=1.0.4->dash) (3.1.5)\n",
            "Requirement already satisfied: itsdangerous>=2.1.2 in /usr/local/lib/python3.11/dist-packages (from Flask<3.1,>=1.0.4->dash) (2.2.0)\n",
            "Requirement already satisfied: click>=8.1.3 in /usr/local/lib/python3.11/dist-packages (from Flask<3.1,>=1.0.4->dash) (8.1.8)\n",
            "Requirement already satisfied: blinker>=1.6.2 in /usr/local/lib/python3.11/dist-packages (from Flask<3.1,>=1.0.4->dash) (1.9.0)\n",
            "Requirement already satisfied: tenacity>=6.2.0 in /usr/local/lib/python3.11/dist-packages (from plotly>=5.0.0->dash) (9.0.0)\n",
            "Requirement already satisfied: packaging in /usr/local/lib/python3.11/dist-packages (from plotly>=5.0.0->dash) (24.2)\n",
            "Requirement already satisfied: MarkupSafe>=2.1.1 in /usr/local/lib/python3.11/dist-packages (from Werkzeug<3.1->dash) (3.0.2)\n",
            "Requirement already satisfied: zipp>=3.20 in /usr/local/lib/python3.11/dist-packages (from importlib-metadata->dash) (3.21.0)\n",
            "Requirement already satisfied: charset-normalizer<4,>=2 in /usr/local/lib/python3.11/dist-packages (from requests->dash) (3.4.1)\n",
            "Requirement already satisfied: idna<4,>=2.5 in /usr/local/lib/python3.11/dist-packages (from requests->dash) (3.10)\n",
            "Requirement already satisfied: urllib3<3,>=1.21.1 in /usr/local/lib/python3.11/dist-packages (from requests->dash) (2.3.0)\n",
            "Requirement already satisfied: certifi>=2017.4.17 in /usr/local/lib/python3.11/dist-packages (from requests->dash) (2024.12.14)\n",
            "Requirement already satisfied: six>=1.7.0 in /usr/local/lib/python3.11/dist-packages (from retrying->dash) (1.17.0)\n"
          ]
        }
      ],
      "source": [
        "# Install dash\n",
        "!pip install dash"
      ]
    },
    {
      "cell_type": "code",
      "source": [
        "# Import the packages for visualization\n",
        "import plotly.graph_objects as go"
      ],
      "metadata": {
        "id": "EV9Wypn_ib3U"
      },
      "execution_count": 13,
      "outputs": []
    },
    {
      "cell_type": "code",
      "source": [
        "# Let's check the default distribution of the credit card holders\n",
        "fig_default = go.Figure()\n",
        "fig_default.add_trace(go.Pie(\n",
        "    #labels=combined_data['default'].value_counts().reset_index()['default'],\n",
        "    labels=[\"Not Default\", \"Default\"],\n",
        "    values=combined_data['default'].value_counts().reset_index()['count'],\n",
        "    textinfo='value+percent',\n",
        "    hole=0.3\n",
        "))\n",
        "\n",
        "fig_default.update_layout(\n",
        "    title='Default Distribution of the Credit Card Customers',\n",
        "    legend=dict(title_text=\"Payment Status\")\n",
        ")\n",
        "\n",
        "fig_default.show(\"png\")"
      ],
      "metadata": {
        "colab": {
          "base_uri": "https://localhost:8080/",
          "height": 542
        },
        "id": "6BG-UX1air2I",
        "outputId": "2201f005-8600-4877-ff99-3acad203f8cf"
      },
      "execution_count": 14,
      "outputs": [
        {
          "output_type": "display_data",
          "data": {
            "text/html": [
              "<html>\n",
              "<head><meta charset=\"utf-8\" /></head>\n",
              "<body>\n",
              "    <div>            <script src=\"https://cdnjs.cloudflare.com/ajax/libs/mathjax/2.7.5/MathJax.js?config=TeX-AMS-MML_SVG\"></script><script type=\"text/javascript\">if (window.MathJax && window.MathJax.Hub && window.MathJax.Hub.Config) {window.MathJax.Hub.Config({SVG: {font: \"STIX-Web\"}});}</script>                <script type=\"text/javascript\">window.PlotlyConfig = {MathJaxConfig: 'local'};</script>\n",
              "        <script charset=\"utf-8\" src=\"https://cdn.plot.ly/plotly-2.35.2.min.js\"></script>                <div id=\"135edfb6-74f1-4aac-9699-56327f447984\" class=\"plotly-graph-div\" style=\"height:525px; width:100%;\"></div>            <script type=\"text/javascript\">                                    window.PLOTLYENV=window.PLOTLYENV || {};                                    if (document.getElementById(\"135edfb6-74f1-4aac-9699-56327f447984\")) {                    Plotly.newPlot(                        \"135edfb6-74f1-4aac-9699-56327f447984\",                        [{\"hole\":0.3,\"labels\":[\"Not Default\",\"Default\"],\"textinfo\":\"value+percent\",\"values\":[23364,6636],\"type\":\"pie\"}],                        {\"template\":{\"data\":{\"histogram2dcontour\":[{\"type\":\"histogram2dcontour\",\"colorbar\":{\"outlinewidth\":0,\"ticks\":\"\"},\"colorscale\":[[0.0,\"#0d0887\"],[0.1111111111111111,\"#46039f\"],[0.2222222222222222,\"#7201a8\"],[0.3333333333333333,\"#9c179e\"],[0.4444444444444444,\"#bd3786\"],[0.5555555555555556,\"#d8576b\"],[0.6666666666666666,\"#ed7953\"],[0.7777777777777778,\"#fb9f3a\"],[0.8888888888888888,\"#fdca26\"],[1.0,\"#f0f921\"]]}],\"choropleth\":[{\"type\":\"choropleth\",\"colorbar\":{\"outlinewidth\":0,\"ticks\":\"\"}}],\"histogram2d\":[{\"type\":\"histogram2d\",\"colorbar\":{\"outlinewidth\":0,\"ticks\":\"\"},\"colorscale\":[[0.0,\"#0d0887\"],[0.1111111111111111,\"#46039f\"],[0.2222222222222222,\"#7201a8\"],[0.3333333333333333,\"#9c179e\"],[0.4444444444444444,\"#bd3786\"],[0.5555555555555556,\"#d8576b\"],[0.6666666666666666,\"#ed7953\"],[0.7777777777777778,\"#fb9f3a\"],[0.8888888888888888,\"#fdca26\"],[1.0,\"#f0f921\"]]}],\"heatmap\":[{\"type\":\"heatmap\",\"colorbar\":{\"outlinewidth\":0,\"ticks\":\"\"},\"colorscale\":[[0.0,\"#0d0887\"],[0.1111111111111111,\"#46039f\"],[0.2222222222222222,\"#7201a8\"],[0.3333333333333333,\"#9c179e\"],[0.4444444444444444,\"#bd3786\"],[0.5555555555555556,\"#d8576b\"],[0.6666666666666666,\"#ed7953\"],[0.7777777777777778,\"#fb9f3a\"],[0.8888888888888888,\"#fdca26\"],[1.0,\"#f0f921\"]]}],\"heatmapgl\":[{\"type\":\"heatmapgl\",\"colorbar\":{\"outlinewidth\":0,\"ticks\":\"\"},\"colorscale\":[[0.0,\"#0d0887\"],[0.1111111111111111,\"#46039f\"],[0.2222222222222222,\"#7201a8\"],[0.3333333333333333,\"#9c179e\"],[0.4444444444444444,\"#bd3786\"],[0.5555555555555556,\"#d8576b\"],[0.6666666666666666,\"#ed7953\"],[0.7777777777777778,\"#fb9f3a\"],[0.8888888888888888,\"#fdca26\"],[1.0,\"#f0f921\"]]}],\"contourcarpet\":[{\"type\":\"contourcarpet\",\"colorbar\":{\"outlinewidth\":0,\"ticks\":\"\"}}],\"contour\":[{\"type\":\"contour\",\"colorbar\":{\"outlinewidth\":0,\"ticks\":\"\"},\"colorscale\":[[0.0,\"#0d0887\"],[0.1111111111111111,\"#46039f\"],[0.2222222222222222,\"#7201a8\"],[0.3333333333333333,\"#9c179e\"],[0.4444444444444444,\"#bd3786\"],[0.5555555555555556,\"#d8576b\"],[0.6666666666666666,\"#ed7953\"],[0.7777777777777778,\"#fb9f3a\"],[0.8888888888888888,\"#fdca26\"],[1.0,\"#f0f921\"]]}],\"surface\":[{\"type\":\"surface\",\"colorbar\":{\"outlinewidth\":0,\"ticks\":\"\"},\"colorscale\":[[0.0,\"#0d0887\"],[0.1111111111111111,\"#46039f\"],[0.2222222222222222,\"#7201a8\"],[0.3333333333333333,\"#9c179e\"],[0.4444444444444444,\"#bd3786\"],[0.5555555555555556,\"#d8576b\"],[0.6666666666666666,\"#ed7953\"],[0.7777777777777778,\"#fb9f3a\"],[0.8888888888888888,\"#fdca26\"],[1.0,\"#f0f921\"]]}],\"mesh3d\":[{\"type\":\"mesh3d\",\"colorbar\":{\"outlinewidth\":0,\"ticks\":\"\"}}],\"scatter\":[{\"fillpattern\":{\"fillmode\":\"overlay\",\"size\":10,\"solidity\":0.2},\"type\":\"scatter\"}],\"parcoords\":[{\"type\":\"parcoords\",\"line\":{\"colorbar\":{\"outlinewidth\":0,\"ticks\":\"\"}}}],\"scatterpolargl\":[{\"type\":\"scatterpolargl\",\"marker\":{\"colorbar\":{\"outlinewidth\":0,\"ticks\":\"\"}}}],\"bar\":[{\"error_x\":{\"color\":\"#2a3f5f\"},\"error_y\":{\"color\":\"#2a3f5f\"},\"marker\":{\"line\":{\"color\":\"#E5ECF6\",\"width\":0.5},\"pattern\":{\"fillmode\":\"overlay\",\"size\":10,\"solidity\":0.2}},\"type\":\"bar\"}],\"scattergeo\":[{\"type\":\"scattergeo\",\"marker\":{\"colorbar\":{\"outlinewidth\":0,\"ticks\":\"\"}}}],\"scatterpolar\":[{\"type\":\"scatterpolar\",\"marker\":{\"colorbar\":{\"outlinewidth\":0,\"ticks\":\"\"}}}],\"histogram\":[{\"marker\":{\"pattern\":{\"fillmode\":\"overlay\",\"size\":10,\"solidity\":0.2}},\"type\":\"histogram\"}],\"scattergl\":[{\"type\":\"scattergl\",\"marker\":{\"colorbar\":{\"outlinewidth\":0,\"ticks\":\"\"}}}],\"scatter3d\":[{\"type\":\"scatter3d\",\"line\":{\"colorbar\":{\"outlinewidth\":0,\"ticks\":\"\"}},\"marker\":{\"colorbar\":{\"outlinewidth\":0,\"ticks\":\"\"}}}],\"scattermapbox\":[{\"type\":\"scattermapbox\",\"marker\":{\"colorbar\":{\"outlinewidth\":0,\"ticks\":\"\"}}}],\"scatterternary\":[{\"type\":\"scatterternary\",\"marker\":{\"colorbar\":{\"outlinewidth\":0,\"ticks\":\"\"}}}],\"scattercarpet\":[{\"type\":\"scattercarpet\",\"marker\":{\"colorbar\":{\"outlinewidth\":0,\"ticks\":\"\"}}}],\"carpet\":[{\"aaxis\":{\"endlinecolor\":\"#2a3f5f\",\"gridcolor\":\"white\",\"linecolor\":\"white\",\"minorgridcolor\":\"white\",\"startlinecolor\":\"#2a3f5f\"},\"baxis\":{\"endlinecolor\":\"#2a3f5f\",\"gridcolor\":\"white\",\"linecolor\":\"white\",\"minorgridcolor\":\"white\",\"startlinecolor\":\"#2a3f5f\"},\"type\":\"carpet\"}],\"table\":[{\"cells\":{\"fill\":{\"color\":\"#EBF0F8\"},\"line\":{\"color\":\"white\"}},\"header\":{\"fill\":{\"color\":\"#C8D4E3\"},\"line\":{\"color\":\"white\"}},\"type\":\"table\"}],\"barpolar\":[{\"marker\":{\"line\":{\"color\":\"#E5ECF6\",\"width\":0.5},\"pattern\":{\"fillmode\":\"overlay\",\"size\":10,\"solidity\":0.2}},\"type\":\"barpolar\"}],\"pie\":[{\"automargin\":true,\"type\":\"pie\"}]},\"layout\":{\"autotypenumbers\":\"strict\",\"colorway\":[\"#636efa\",\"#EF553B\",\"#00cc96\",\"#ab63fa\",\"#FFA15A\",\"#19d3f3\",\"#FF6692\",\"#B6E880\",\"#FF97FF\",\"#FECB52\"],\"font\":{\"color\":\"#2a3f5f\"},\"hovermode\":\"closest\",\"hoverlabel\":{\"align\":\"left\"},\"paper_bgcolor\":\"white\",\"plot_bgcolor\":\"#E5ECF6\",\"polar\":{\"bgcolor\":\"#E5ECF6\",\"angularaxis\":{\"gridcolor\":\"white\",\"linecolor\":\"white\",\"ticks\":\"\"},\"radialaxis\":{\"gridcolor\":\"white\",\"linecolor\":\"white\",\"ticks\":\"\"}},\"ternary\":{\"bgcolor\":\"#E5ECF6\",\"aaxis\":{\"gridcolor\":\"white\",\"linecolor\":\"white\",\"ticks\":\"\"},\"baxis\":{\"gridcolor\":\"white\",\"linecolor\":\"white\",\"ticks\":\"\"},\"caxis\":{\"gridcolor\":\"white\",\"linecolor\":\"white\",\"ticks\":\"\"}},\"coloraxis\":{\"colorbar\":{\"outlinewidth\":0,\"ticks\":\"\"}},\"colorscale\":{\"sequential\":[[0.0,\"#0d0887\"],[0.1111111111111111,\"#46039f\"],[0.2222222222222222,\"#7201a8\"],[0.3333333333333333,\"#9c179e\"],[0.4444444444444444,\"#bd3786\"],[0.5555555555555556,\"#d8576b\"],[0.6666666666666666,\"#ed7953\"],[0.7777777777777778,\"#fb9f3a\"],[0.8888888888888888,\"#fdca26\"],[1.0,\"#f0f921\"]],\"sequentialminus\":[[0.0,\"#0d0887\"],[0.1111111111111111,\"#46039f\"],[0.2222222222222222,\"#7201a8\"],[0.3333333333333333,\"#9c179e\"],[0.4444444444444444,\"#bd3786\"],[0.5555555555555556,\"#d8576b\"],[0.6666666666666666,\"#ed7953\"],[0.7777777777777778,\"#fb9f3a\"],[0.8888888888888888,\"#fdca26\"],[1.0,\"#f0f921\"]],\"diverging\":[[0,\"#8e0152\"],[0.1,\"#c51b7d\"],[0.2,\"#de77ae\"],[0.3,\"#f1b6da\"],[0.4,\"#fde0ef\"],[0.5,\"#f7f7f7\"],[0.6,\"#e6f5d0\"],[0.7,\"#b8e186\"],[0.8,\"#7fbc41\"],[0.9,\"#4d9221\"],[1,\"#276419\"]]},\"xaxis\":{\"gridcolor\":\"white\",\"linecolor\":\"white\",\"ticks\":\"\",\"title\":{\"standoff\":15},\"zerolinecolor\":\"white\",\"automargin\":true,\"zerolinewidth\":2},\"yaxis\":{\"gridcolor\":\"white\",\"linecolor\":\"white\",\"ticks\":\"\",\"title\":{\"standoff\":15},\"zerolinecolor\":\"white\",\"automargin\":true,\"zerolinewidth\":2},\"scene\":{\"xaxis\":{\"backgroundcolor\":\"#E5ECF6\",\"gridcolor\":\"white\",\"linecolor\":\"white\",\"showbackground\":true,\"ticks\":\"\",\"zerolinecolor\":\"white\",\"gridwidth\":2},\"yaxis\":{\"backgroundcolor\":\"#E5ECF6\",\"gridcolor\":\"white\",\"linecolor\":\"white\",\"showbackground\":true,\"ticks\":\"\",\"zerolinecolor\":\"white\",\"gridwidth\":2},\"zaxis\":{\"backgroundcolor\":\"#E5ECF6\",\"gridcolor\":\"white\",\"linecolor\":\"white\",\"showbackground\":true,\"ticks\":\"\",\"zerolinecolor\":\"white\",\"gridwidth\":2}},\"shapedefaults\":{\"line\":{\"color\":\"#2a3f5f\"}},\"annotationdefaults\":{\"arrowcolor\":\"#2a3f5f\",\"arrowhead\":0,\"arrowwidth\":1},\"geo\":{\"bgcolor\":\"white\",\"landcolor\":\"#E5ECF6\",\"subunitcolor\":\"white\",\"showland\":true,\"showlakes\":true,\"lakecolor\":\"white\"},\"title\":{\"x\":0.05},\"mapbox\":{\"style\":\"light\"}}},\"legend\":{\"title\":{\"text\":\"Payment Status\"}},\"title\":{\"text\":\"Default Distribution of the Credit Card Customers\"}},                        {\"responsive\": true}                    ).then(function(){\n",
              "                            \n",
              "var gd = document.getElementById('135edfb6-74f1-4aac-9699-56327f447984');\n",
              "var x = new MutationObserver(function (mutations, observer) {{\n",
              "        var display = window.getComputedStyle(gd).display;\n",
              "        if (!display || display === 'none') {{\n",
              "            console.log([gd, 'removed!']);\n",
              "            Plotly.purge(gd);\n",
              "            observer.disconnect();\n",
              "        }}\n",
              "}});\n",
              "\n",
              "// Listen for the removal of the full notebook cells\n",
              "var notebookContainer = gd.closest('#notebook-container');\n",
              "if (notebookContainer) {{\n",
              "    x.observe(notebookContainer, {childList: true});\n",
              "}}\n",
              "\n",
              "// Listen for the clearing of the current output cell\n",
              "var outputEl = gd.closest('.output');\n",
              "if (outputEl) {{\n",
              "    x.observe(outputEl, {childList: true});\n",
              "}}\n",
              "\n",
              "                        })                };                            </script>        </div>\n",
              "</body>\n",
              "</html>"
            ]
          },
          "metadata": {}
        }
      ]
    },
    {
      "cell_type": "code",
      "source": [
        "# Create a function that group the dataset based on chosen feature and the default status, and calculate the percentage value of each category in a feature\n",
        "def group_and_get_percentage(dataframe, feature):\n",
        "  data_group = pd.DataFrame()\n",
        "  data_group = dataframe.groupby([feature, 'default']).size().reset_index()\n",
        "  data_group['percentage'] = dataframe.groupby([feature, 'default']).size().groupby(level=0).apply(lambda x: 100 * x / float(x.sum())).values\n",
        "  return data_group"
      ],
      "metadata": {
        "id": "2zx-14c6U2n3"
      },
      "execution_count": 15,
      "outputs": []
    },
    {
      "cell_type": "code",
      "source": [
        "test_function = group_and_get_percentage(combined_data, 'education')"
      ],
      "metadata": {
        "id": "iOh4_AmStf08"
      },
      "execution_count": 16,
      "outputs": []
    },
    {
      "cell_type": "code",
      "source": [
        "test_function[0]"
      ],
      "metadata": {
        "colab": {
          "base_uri": "https://localhost:8080/",
          "height": 331
        },
        "id": "av3e7XHQtpVF",
        "outputId": "d7cdceb8-c797-49c9-b25d-b4afa2aa2c56"
      },
      "execution_count": 17,
      "outputs": [
        {
          "output_type": "execute_result",
          "data": {
            "text/plain": [
              "0     8549\n",
              "1     2036\n",
              "2    10700\n",
              "3     3330\n",
              "4     3680\n",
              "5     1237\n",
              "6      435\n",
              "7       33\n",
              "Name: 0, dtype: int64"
            ],
            "text/html": [
              "<div>\n",
              "<style scoped>\n",
              "    .dataframe tbody tr th:only-of-type {\n",
              "        vertical-align: middle;\n",
              "    }\n",
              "\n",
              "    .dataframe tbody tr th {\n",
              "        vertical-align: top;\n",
              "    }\n",
              "\n",
              "    .dataframe thead th {\n",
              "        text-align: right;\n",
              "    }\n",
              "</style>\n",
              "<table border=\"1\" class=\"dataframe\">\n",
              "  <thead>\n",
              "    <tr style=\"text-align: right;\">\n",
              "      <th></th>\n",
              "      <th>0</th>\n",
              "    </tr>\n",
              "  </thead>\n",
              "  <tbody>\n",
              "    <tr>\n",
              "      <th>0</th>\n",
              "      <td>8549</td>\n",
              "    </tr>\n",
              "    <tr>\n",
              "      <th>1</th>\n",
              "      <td>2036</td>\n",
              "    </tr>\n",
              "    <tr>\n",
              "      <th>2</th>\n",
              "      <td>10700</td>\n",
              "    </tr>\n",
              "    <tr>\n",
              "      <th>3</th>\n",
              "      <td>3330</td>\n",
              "    </tr>\n",
              "    <tr>\n",
              "      <th>4</th>\n",
              "      <td>3680</td>\n",
              "    </tr>\n",
              "    <tr>\n",
              "      <th>5</th>\n",
              "      <td>1237</td>\n",
              "    </tr>\n",
              "    <tr>\n",
              "      <th>6</th>\n",
              "      <td>435</td>\n",
              "    </tr>\n",
              "    <tr>\n",
              "      <th>7</th>\n",
              "      <td>33</td>\n",
              "    </tr>\n",
              "  </tbody>\n",
              "</table>\n",
              "</div><br><label><b>dtype:</b> int64</label>"
            ]
          },
          "metadata": {},
          "execution_count": 17
        }
      ]
    },
    {
      "cell_type": "code",
      "source": [
        "# Let's check the distribution of age\n",
        "import plotly.express as px\n",
        "\n",
        "fig_age = px.histogram(\n",
        "            combined_data,\n",
        "            x=\"age\",\n",
        "            color=\"default\",\n",
        "            color_discrete_sequence=[\"#EF553B\", \"#636EFA\"],\n",
        "            title=\"Distribution by Age\",\n",
        "            barmode=\"group\"\n",
        "        )\n",
        "\n",
        "fig_age.update_layout(yaxis_title=\"Number of Customers\",\n",
        "                      xaxis_title=\"Age\",\n",
        "                      legend=dict(\n",
        "                          title_text=\"Payment Status\"\n",
        "                      ))\n",
        "\n",
        "fig_age.for_each_trace(lambda t: t.update(name=t.name.replace('0', 'Not Default').replace('1', 'Default')))\n",
        "\n",
        "fig_age.show(\"png\")"
      ],
      "metadata": {
        "colab": {
          "base_uri": "https://localhost:8080/",
          "height": 542
        },
        "id": "e2flbq5LlUs3",
        "outputId": "e70f7966-6a35-45bb-a03a-b9944e34de66"
      },
      "execution_count": 18,
      "outputs": [
        {
          "output_type": "display_data",
          "data": {
            "text/html": [
              "<html>\n",
              "<head><meta charset=\"utf-8\" /></head>\n",
              "<body>\n",
              "    <div>            <script src=\"https://cdnjs.cloudflare.com/ajax/libs/mathjax/2.7.5/MathJax.js?config=TeX-AMS-MML_SVG\"></script><script type=\"text/javascript\">if (window.MathJax && window.MathJax.Hub && window.MathJax.Hub.Config) {window.MathJax.Hub.Config({SVG: {font: \"STIX-Web\"}});}</script>                <script type=\"text/javascript\">window.PlotlyConfig = {MathJaxConfig: 'local'};</script>\n",
              "        <script charset=\"utf-8\" src=\"https://cdn.plot.ly/plotly-2.35.2.min.js\"></script>                <div id=\"30530841-dc8a-4faf-8c52-07940f9361e1\" class=\"plotly-graph-div\" style=\"height:525px; width:100%;\"></div>            <script type=\"text/javascript\">                                    window.PLOTLYENV=window.PLOTLYENV || {};                                    if (document.getElementById(\"30530841-dc8a-4faf-8c52-07940f9361e1\")) {                    Plotly.newPlot(                        \"30530841-dc8a-4faf-8c52-07940f9361e1\",                        [{\"alignmentgroup\":\"True\",\"bingroup\":\"x\",\"hovertemplate\":\"default=1\\u003cbr\\u003eage=%{x}\\u003cbr\\u003ecount=%{y}\\u003cextra\\u003e\\u003c\\u002fextra\\u003e\",\"legendgroup\":\"1\",\"marker\":{\"color\":\"#EF553B\",\"pattern\":{\"shape\":\"\"}},\"name\":\"Default\",\"offsetgroup\":\"1\",\"orientation\":\"v\",\"showlegend\":true,\"x\":[24,26,30,24,39,26,40,27,33,25,29,22,46,42,28,29,46,57,56,29,22,44,30,45,53,38,22,24,26,37,40,35,36,51,51,47,27,45,24,56,24,38,47,27,24,22,41,24,38,36,40,37,23,23,34,50,41,26,48,49,27,58,28,40,25,33,22,27,34,25,55,49,23,29,28,41,34,37,40,31,29,26,30,45,23,40,32,36,31,37,28,73,30,39,41,29,23,27,36,38,49,31,27,32,23,44,51,53,48,59,38,35,26,36,28,33,35,23,28,42,45,46,50,36,41,52,41,56,24,60,53,28,43,25,36,59,29,31,44,42,39,28,40,30,34,28,25,42,40,41,29,22,30,26,33,22,45,29,25,34,31,25,26,30,52,32,28,42,32,25,36,33,51,24,27,27,53,43,33,42,37,29,43,52,49,55,37,55,28,51,30,32,27,60,29,32,32,24,27,34,41,43,42,39,30,25,26,36,43,44,25,29,38,23,36,30,26,57,67,31,27,54,52,22,30,24,33,34,56,55,43,44,25,41,41,46,24,35,54,37,54,40,30,23,34,35,32,31,42,28,29,25,55,30,34,44,29,49,51,23,30,42,22,23,22,54,27,57,50,39,52,29,50,43,37,26,48,36,29,37,22,26,31,48,38,29,26,53,22,38,49,39,22,37,22,37,24,44,45,25,37,42,32,31,29,44,24,37,50,33,42,24,37,23,29,21,29,30,44,28,29,35,27,33,49,27,25,25,22,34,44,42,48,52,31,38,30,23,24,33,51,37,35,35,35,33,63,47,34,44,72,48,27,43,29,39,36,42,49,31,46,25,35,30,32,30,33,37,40,44,42,31,33,29,23,54,38,27,24,46,25,37,43,60,25,37,35,31,39,54,35,38,37,40,51,39,41,39,26,28,35,41,23,34,47,34,28,36,38,30,38,51,33,28,24,28,24,27,34,27,22,42,37,38,30,40,25,35,38,40,37,49,42,65,22,33,32,40,38,22,42,36,42,31,24,28,26,46,30,26,50,55,36,41,37,24,53,23,41,33,44,27,43,42,52,57,66,43,49,41,27,49,29,25,49,39,57,37,30,32,24,58,41,32,31,43,49,27,28,36,30,32,25,30,26,39,37,49,39,43,29,37,30,32,26,39,29,28,25,27,34,54,34,49,25,38,33,30,29,32,32,43,31,50,38,24,24,33,24,36,34,25,49,24,24,35,25,41,57,44,26,28,27,56,29,32,29,29,23,34,23,46,33,31,26,36,34,30,41,48,28,24,37,34,24,35,36,26,35,25,24,31,28,32,40,22,46,34,35,36,25,51,26,44,31,42,32,45,30,42,35,42,49,25,31,40,25,35,27,29,36,43,38,42,30,47,41,31,47,34,43,43,36,22,31,24,25,39,39,34,27,27,25,50,33,23,28,46,24,24,60,57,31,29,24,27,39,24,25,40,25,35,43,37,33,36,38,35,29,23,26,34,34,35,30,28,27,22,32,47,32,56,52,33,38,32,27,38,44,41,25,38,36,59,44,36,36,31,38,40,60,45,25,33,28,30,22,48,44,41,29,54,37,49,41,21,52,26,28,38,31,23,35,24,28,52,23,38,34,26,30,34,25,28,48,50,40,56,22,28,47,24,65,62,39,29,59,33,30,24,31,37,26,39,23,29,31,36,28,31,59,41,31,49,27,29,25,33,44,27,28,37,28,37,48,36,36,37,44,45,22,40,26,33,43,40,55,37,33,26,36,46,30,32,28,40,23,29,42,45,34,56,26,27,28,26,35,28,39,45,40,25,37,31,57,33,42,24,27,27,24,42,54,51,26,51,42,27,28,31,38,41,33,36,50,25,34,34,24,26,47,30,23,33,27,28,22,29,46,23,28,29,34,37,27,27,40,26,28,43,46,28,25,28,24,32,24,27,34,48,25,27,28,50,38,48,32,39,39,39,43,33,25,52,26,24,25,27,29,30,32,26,37,43,35,40,34,34,35,42,57,23,47,26,22,52,47,22,23,43,23,39,29,35,46,22,33,39,27,40,60,34,60,39,32,29,31,24,43,34,29,37,23,31,49,32,36,25,63,26,43,32,51,39,25,24,42,46,26,44,39,51,33,46,34,46,45,32,43,52,51,26,33,36,42,43,49,32,44,37,32,52,39,49,34,29,31,44,31,23,51,37,34,39,34,25,23,25,36,24,28,54,31,52,34,51,35,21,25,41,27,25,25,22,25,46,52,26,42,38,24,36,27,42,40,38,37,27,31,37,24,64,48,45,27,27,60,43,55,26,23,50,43,54,43,45,46,32,30,46,31,27,23,48,35,25,44,44,50,57,43,27,44,37,30,37,33,28,41,41,46,36,30,46,42,45,26,33,24,45,56,37,22,50,29,42,23,40,56,24,38,35,29,43,27,42,22,37,34,37,23,33,35,32,41,32,37,29,40,29,37,29,32,30,28,29,28,27,30,35,38,53,29,24,37,36,46,33,27,56,22,43,30,26,32,36,45,45,49,40,49,23,28,42,29,28,30,34,52,53,40,44,27,27,29,48,59,45,43,43,45,29,35,29,30,36,38,37,47,34,32,28,23,30,25,33,29,36,43,29,22,26,26,46,50,27,47,45,41,36,34,25,33,47,24,48,53,21,39,50,28,29,24,42,24,51,36,33,27,38,26,23,38,31,25,28,23,24,55,40,24,25,44,23,24,37,28,27,25,36,47,25,58,49,45,47,36,28,28,38,37,25,55,36,28,33,55,69,56,35,29,48,25,38,33,60,30,25,26,58,58,52,23,29,27,51,25,53,22,32,38,55,29,49,41,23,26,38,25,39,25,30,29,28,27,27,27,25,37,40,35,23,59,38,37,30,24,35,33,38,26,40,50,53,36,24,67,25,24,22,38,34,26,26,43,28,26,41,30,35,33,23,25,26,34,53,28,32,46,30,31,29,24,24,36,27,25,28,26,24,36,33,39,30,30,47,25,49,49,43,31,42,36,45,23,55,27,26,58,51,36,49,30,48,68,25,64,23,37,36,24,26,40,38,35,47,36,35,36,24,27,29,39,29,60,33,57,30,22,36,39,41,34,24,42,40,31,27,29,32,28,35,29,35,24,27,33,30,38,56,23,60,29,30,27,37,43,39,29,23,32,26,51,40,36,43,29,24,27,51,22,24,60,33,53,27,36,34,30,40,28,27,27,27,22,52,34,27,29,30,26,33,33,27,38,45,33,39,33,24,25,21,45,22,49,29,46,45,26,31,40,47,42,25,34,48,41,22,37,24,23,61,28,31,24,27,30,22,50,32,32,48,23,25,40,29,27,34,41,24,44,24,41,53,30,46,40,26,39,39,57,42,36,38,29,42,25,30,27,26,46,36,34,43,32,23,48,46,32,50,44,45,51,31,32,26,24,50,25,32,51,24,26,53,42,25,42,39,34,25,42,34,35,33,31,22,23,38,29,43,35,32,24,25,29,27,22,26,32,44,24,39,37,27,50,25,37,40,26,33,24,38,40,25,38,43,51,41,57,31,44,40,49,32,44,55,29,46,31,29,29,23,37,40,31,36,31,36,27,28,23,41,27,30,30,45,24,33,44,35,25,38,39,30,24,27,37,32,29,51,61,30,49,26,24,25,43,56,46,47,26,34,28,28,34,41,33,52,24,28,23,24,23,42,38,31,44,54,41,33,23,22,28,50,43,30,27,24,27,36,39,35,41,66,36,29,27,39,37,38,37,33,31,37,43,26,24,34,36,41,23,32,50,25,37,24,22,26,31,32,32,43,36,39,30,42,28,28,27,36,23,60,37,35,38,26,28,36,47,32,22,28,58,46,28,41,30,30,36,32,36,22,47,25,33,51,24,41,27,42,48,36,36,44,45,58,43,34,38,41,64,47,35,39,36,33,47,30,33,23,30,23,52,24,24,22,42,44,44,32,38,27,28,46,34,28,27,46,48,25,49,22,42,31,53,48,29,34,25,24,27,28,25,25,28,24,24,33,24,41,29,47,29,40,49,37,24,30,36,29,47,70,28,24,29,37,50,25,27,45,25,36,24,23,23,36,42,27,29,26,61,45,40,29,32,50,42,36,41,24,25,65,27,24,38,27,47,39,34,40,36,39,42,48,29,35,39,34,50,24,30,29,49,32,43,23,31,32,29,28,32,41,51,25,36,51,42,30,51,43,35,46,29,26,43,28,38,23,28,46,32,37,25,42,35,23,28,29,24,47,27,42,41,39,50,58,34,29,35,53,32,52,27,53,53,34,30,24,32,30,33,46,46,29,26,45,33,29,35,23,36,45,36,37,23,22,25,48,36,24,40,29,26,49,26,52,50,44,34,23,33,32,52,47,25,32,41,47,49,24,46,28,34,49,45,46,24,23,22,47,26,31,44,42,24,24,26,46,29,29,28,36,24,45,39,26,36,39,39,27,25,41,24,30,24,27,28,37,51,26,42,25,64,49,49,24,24,33,23,28,37,22,26,52,29,31,29,51,42,30,44,41,24,26,30,36,27,51,27,23,51,29,42,30,42,40,28,29,44,31,23,23,26,37,33,34,35,41,39,46,36,35,48,34,27,36,52,31,25,30,34,27,31,35,34,53,32,27,31,30,36,37,39,45,34,57,32,46,49,38,37,24,46,34,35,27,46,33,28,25,56,30,46,51,47,35,24,41,39,31,35,27,31,48,26,25,23,47,42,36,44,24,37,37,38,34,28,23,31,40,25,42,34,40,30,30,35,28,36,45,28,27,25,29,25,39,32,25,31,23,22,45,31,24,29,33,55,55,33,69,37,22,42,25,62,66,34,26,39,31,29,36,28,44,35,30,43,37,29,25,36,47,25,29,24,32,53,59,25,38,29,25,24,33,40,34,37,26,24,28,29,24,39,52,25,40,23,23,44,29,30,26,55,42,34,37,24,34,41,35,24,35,36,23,27,48,31,38,35,23,34,27,46,49,31,26,30,25,24,45,26,50,61,37,33,34,25,34,60,40,23,23,27,49,48,28,24,67,29,23,41,25,46,52,44,28,50,50,28,37,23,25,34,28,25,38,44,37,53,38,22,31,25,51,26,34,24,37,29,33,29,30,39,38,47,31,29,30,26,48,23,26,46,24,27,53,24,31,38,28,27,36,34,37,28,47,39,30,28,42,37,28,24,48,48,36,37,24,34,27,26,46,41,48,22,28,35,50,26,22,25,39,40,22,41,46,24,34,46,25,28,35,56,41,33,35,42,50,32,23,23,22,32,41,47,32,36,35,40,43,25,30,26,58,38,33,22,25,49,30,29,53,26,29,39,32,64,32,35,49,27,24,25,50,48,34,27,23,25,33,49,33,22,34,39,35,51,33,28,40,47,27,56,25,66,30,36,41,31,28,53,28,34,50,30,51,51,46,52,26,40,44,27,38,23,40,36,48,42,30,27,26,39,31,24,34,38,39,23,31,54,48,32,48,63,42,45,52,38,26,31,22,27,53,41,39,44,30,36,30,41,27,24,27,27,22,51,36,50,37,33,23,28,38,29,28,37,46,60,40,36,32,29,30,53,40,45,32,52,27,29,42,41,39,24,27,46,28,34,37,34,44,28,32,22,35,38,37,25,24,24,37,22,38,33,32,32,34,43,53,32,27,39,45,32,52,27,43,37,31,34,41,37,45,37,31,31,23,41,58,24,37,33,30,32,28,26,57,31,46,50,39,30,40,37,48,25,38,34,34,42,49,47,32,37,33,30,29,41,43,34,30,31,30,32,29,24,42,25,56,41,27,28,25,42,29,34,63,46,35,41,37,35,43,24,36,39,27,33,49,31,23,43,29,54,47,39,46,22,22,45,23,29,26,28,23,42,43,35,46,35,39,36,34,39,42,28,38,46,30,31,30,27,47,26,35,26,52,32,38,25,28,27,24,39,34,48,54,23,26,39,23,34,48,56,29,50,39,28,35,24,22,41,29,28,34,28,24,29,42,26,28,30,47,36,51,37,45,38,33,33,44,27,29,51,26,42,44,27,40,32,34,30,30,24,35,29,28,27,26,48,21,25,43,24,34,43,25,37,28,35,43,56,42,28,47,34,30,51,30,36,28,30,53,46,38,31,36,47,64,52,28,52,35,37,49,55,60,53,53,38,41,36,42,27,34,36,27,43,46,23,25,25,51,24,25,38,31,58,30,29,53,30,55,25,35,41,25,30,40,39,36,43,28,30,36,49,22,29,34,35,28,25,23,47,37,34,26,32,22,38,40,23,27,25,36,23,53,29,28,35,32,34,42,28,39,44,35,27,39,37,37,47,45,40,38,33,30,27,24,28,29,24,34,22,37,44,26,44,34,33,29,26,34,46,52,28,50,26,27,33,42,42,24,49,38,53,42,27,30,21,37,29,40,49,25,27,44,27,47,30,46,27,30,54,34,41,37,32,48,31,33,24,28,37,42,42,36,29,22,22,46,52,24,36,38,23,23,35,35,27,27,36,34,23,27,46,38,37,31,28,36,53,52,28,25,29,34,36,44,24,26,39,33,36,40,27,25,23,28,27,40,69,27,22,46,36,29,37,29,29,33,39,33,21,24,35,34,25,24,62,33,23,28,28,40,29,27,26,36,22,43,30,40,45,56,44,41,48,40,64,45,26,39,31,24,33,43,26,31,25,41,34,27,39,46,35,51,53,28,41,28,32,41,39,50,49,32,34,39,28,50,38,34,24,32,36,42,31,52,24,23,23,23,32,35,55,22,34,48,55,26,24,29,23,43,36,32,22,41,37,26,40,59,54,27,31,42,46,31,28,47,25,23,38,31,35,35,37,25,26,32,27,22,43,23,28,49,32,44,43,53,41,36,23,48,32,27,25,36,36,42,43,41,26,37,41,36,29,35,42,55,36,24,29,39,47,49,36,25,25,28,48,36,46,42,45,26,46,51,25,31,52,27,25,25,23,30,36,42,23,22,30,29,37,22,35,28,25,30,40,32,30,27,47,36,43,35,29,58,30,29,51,23,29,26,25,34,49,22,35,36,46,39,41,23,32,42,26,43,32,30,45,39,30,28,44,44,35,38,32,29,35,34,26,50,31,43,26,33,35,24,26,49,50,26,34,46,54,55,25,24,42,46,30,36,31,29,37,45,39,31,31,36,25,27,45,45,26,31,38,24,43,28,41,50,36,61,45,23,39,28,33,50,28,25,28,41,50,36,38,25,28,35,52,44,41,23,52,51,38,42,30,30,27,24,39,50,38,26,42,29,24,47,41,50,33,26,27,57,40,49,38,33,27,38,45,23,47,24,22,50,56,23,60,64,46,27,36,28,47,43,38,43,33,46,26,56,51,24,26,41,42,54,26,23,39,24,22,45,25,32,25,31,24,39,31,40,28,37,48,28,29,34,56,29,23,42,38,33,44,31,29,31,38,46,35,31,30,31,39,24,50,34,61,34,47,43,32,27,35,22,29,23,38,23,52,33,25,47,28,37,28,34,30,59,28,30,34,30,29,30,46,30,25,31,46,64,42,36,29,40,24,25,36,29,25,51,25,43,36,49,35,45,49,34,35,26,34,41,50,46,28,29,37,24,39,32,29,40,23,26,25,38,29,29,42,29,26,28,30,25,41,39,24,51,31,30,55,28,58,31,55,23,31,42,27,22,43,46,46,36,39,38,34,35,39,33,38,35,35,47,41,35,35,38,45,50,51,56,53,50,55,63,55,23,53,23,23,21,22,22,23,23,28,23,24,24,30,23,27,27,35,40,44,42,43,26,31,32,42,29,46,48,41,29,41,34,45,38,37,45,36,37,40,44,45,34,53,49,49,63,53,27,38,30,26,27,28,26,23,37,40,33,46,33,37,29,42,31,41,35,34,28,47,37,32,37,34,41,47,38,39,39,40,32,37,36,40,37,38,42,40,51,55,51,52,52,50,53,22,56,24,28,28,26,30,25,29,37,55,31,31,24,25,30,22,26,33,32,35,22,22,30,22,23,22,22,22,23,22,23,24,24,24,25,24,23,26,23,25,27,27,26,27,27,27,28,27,26,28,27,25,29,29,30,22,28,28,22,25,25,30,29,29,30,30,29,31,32,25,32,30,31,38,29,34,39,35,49,38,48,41,35,48,41,31,48,31,23,37,25,44,34,35,37,43,39,43,31,46,40,48,32,39,38,30,28,32,33,37,40,37,42,42,46,29,30,48,46,42,42,33,43,36,30,40,34,32,40,41,28,39,36,33,41,38,43,25,46,29,41,29,29,31,37,30,32,42,36,42,35,35,46,44,43,31,33,34,34,37,34,41,45,56,38,38,29,30,40,40,31,35,41,43,38,44,36,45,36,33,33,33,42,44,40,45,36,39,41,43,35,45,37,39,37,38,42,35,48,46,33,40,36,29,33,34,44,32,37,54,50,55,53,49,51,53,54,53,56,56,62,57,50,53,50,53,56,54,52,56,53,56,56,21,22,23,25,24,24,22,23,24,24,24,24,24,24,24,26,25,26,27,27,28,30,25,30,27,29,28,29,23,29,26,26,29,28,30,30,29,29,27,29,30,32,32,34,35,25,34,29,30,48,31,40,46,42,30,28,39,32,32,44,41,44,46,36,35,47,39,33,39,36,31,47,33,34,39,49,33,41,25,36,35,42,35,38,39,39,47,40,31,43,39,29,32,37,39,47,35,49,29,40,38,32,37,44,40,38,49,43,29,43,37,36,40,45,41,36,47,35,46,36,31,45,41,37,37,32,45,35,42,50,49,52,53,59,51,59,57,58,61,49,48,52,54,55,54,67,29,30,30,33,22,23,24,22,24,24,24,24,22,24,23,22,25,25,23,23,24,24,26,25,25,24,25,22,24,25,22,22,22,23,22,23,25,26,24,22,23,23,24,25,25,25,27,27,24,24,27,24,25,25,25,25,26,27,27,29,26,27,29,28,28,31,28,29,27,29,27,24,25,39,46,35,39,40,41,36,31,38,42,37,29,47,43,33,46,31,33,39,37,41,40,46,32,37,37,36,42,49,48,30,39,25,31,48,44,43,48,42,36,36,43,46,33,48,44,46,46,47,43,36,44,31,32,34,39,43,33,38,44,46,43,44,40,46,30,33,39,41,43,28,45,37,36,33,32,40,41,43,36,37,35,42,38,48,40,44,35,35,35,34,40,36,42,40,49,39,31,35,30,30,32,33,31,32,29,30,34,44,37,47,41,46,30,47,35,35,44,41,44,50,51,50,60,50,53,59,63,61,56,58,51,61,55,54,58,66,55,51,23,24,23,35,24,24,22,24,25,25,25,25,24,26,24,25,23,26,26,27,26,26,26,28,28,30,27,29,27,27,29,28,32,34,25,28,38,32,34,33,25,29,36,44,40,32,44,42,43,33,32,32,31,45,33,33,48,36,37,39,39,41,43,46,30,48,49,31,38,32,38,30,44,35,31,41,38,36,34,34,47,32,36,35,42,41,49,39,38,40,43,48,36,42,40,36,46,32,32,36,35,41,36,38,44,35,48,39,40,39,50,51,53,49,53,54,50,47,52,60,54,66,61,53,53,47,58,59,54,33,66,54,31,26,24,22,29,25,33,23,22,22,22,23,22,22,22,22,22,22,23,23,23,23,28,22,22,23,23,24,24,24,24,25,22,24,25,23,23,24,26,25,22,24,26,25,25,26,26,23,47,25,26,26,23,24,22,24,24,26,26,24,25,24,27,25,25,24,22,24,25,25,24,26,27,26,26,27,25,27,26,22,23,27,27,28,25,26,28,25,27,26,26,26,28,23,23,25,25,25,26,30,26,26,27,27,29,29,27,30,25,26,27,28,25,27,27,27,30,27,27,28,28,31,28,28,28,28,29,28,28,28,28,28,28,29,28,30,23,23,23,28,29,29,30,33,30,29,30,31,34,42,28,29,45,45,41,26,23,30,30,26,37,35,25,27,27,32,35,32,32,29,31,27,28,49,40,39,49,27,29,26,30,40,36,35,33,41,40,43,32,46,25,31,47,38,42,45,42,47,36,30,30,39,33,29,35,39,43,32,32,32,39,40,33,34,44,42,40,44,48,31,36,40,39,34,41,29,37,36,37,45,35,39,37,32,35,49,40,32,33,46,42,43,46,49,26,35,28,28,35,36,41,44,38,24,32,37,29,34,48,44,39,45,35,30,42,48,30,34,37,44,49,32,33,33,33,33,44,40,46,38,39,49,38,48,47,24,29,30,46,43,33,41,42,34,46,37,37,36,40,32,41,35,45,33,42,46,46,36,35,43,42,38,27,41,38,36,47,32,33,41,42,31,32,44,31,34,42,49,39,46,47,43,42,37,43,45,34,30,36,43,37,39,43,38,35,30,33,42,37,36,45,45,42,38,42,46,35,42,36,48,37,34,42,36,43,39,35,50,52,50,50,52,52,50,51,51,54,49,52,54,58,48,57,54,50,50,50,52,52,56,60,55,62,61,54,56,61,55,62,27,22,22,36,37,37,22,23,23,23,23,23,22,21,23,24,23,23,23,23,24,27,26,24,24,22,24,26,25,26,26,26,34,27,27,28,26,28,28,28,26,24,30,28,27,27,32,29,30,25,27,29,26,29,28,28,32,32,33,31,29,30,29,30,32,32,33,37,42,26,22,27,31,45,31,36,44,39,30,49,32,32,35,31,40,47,47,29,40,40,41,34,44,35,44,44,37,38,41,41,30,44,46,45,40,40,40,46,34,30,46,42,34,40,34,31,43,44,41,34,37,42,37,31,49,39,47,42,38,38,48,47,44,41,40,35,32,34,30,41,31,36,41,34,33,28,48,40,41,26,32,46,36,39,46,33,39,35,39,37,44,32,38,45,44,41,40,34,45,38,44,47,49,40,32,32,47,43,38,41,32,33,32,43,39,35,36,39,34,38,35,37,34,38,34,36,37,46,34,40,45,39,36,33,35,44,40,41,38,48,34,36,36,35,42,38,31,45,49,36,39,38,31,43,44,36,37,38,49,36,37,45,37,56,50,52,51,50,51,53,61,52,51,52,53,51,51,52,55,52,61,57,52,55,50,50,52,52,53,57,57,55,55,54,54,58,54,59,26,28,27,27,29,24,27,25,26,27,28,24,29,29,29,29,28,26,24,24,29,27,39,22,22,23,23,22,23,22,23,23,22,22,22,22,23,25,22,30,23,22,25,23,23,23,24,24,23,22,23,23,24,25,25,25,26,24,25,23,24,25,23,24,23,22,26,24,24,24,24,24,25,24,25,25,25,26,25,25,26,26,24,25,26,27,27,22,24,27,25,26,26,25,28,25,26,26,27,27,23,23,25,24,27,27,27,27,28,28,27,27,28,23,25,27,28,27,28,29,27,25,28,29,27,26,28,27,28,28,28,28,28,29,29,26,27,29,30,29,28,27,28,27,31,27,25,29,27,31,25,25,25,27,29,29,31,29,30,28,30,29,29,30,30,31,32,29,27,30,24,30,32,29,29,30,32,33,28,34,35,37,33,36,46,36,40,41,36,44,48,49,39,44,35,49,32,44,32,33,33,37,40,37,40,48,41,40,47,48,33,34,32,36,31,34,41,45,47,36,43,37,43,33,42,47,44,43,33,33,32,46,36,34,35,44,33,30,32,40,39,40,36,44,29,43,29,39,40,35,36,33,45,33,31,37,29,31,42,28,46,41,31,33,32,31,44,34,37,43,27,31,35,39,29,44,44,31,31,36,36,41,46,33,34,43,43,39,33,41,33,41,27,29,33,31,41,35,45,47,36,37,41,33,46,49,44,42,28,27,30,46,37,34,34,41,38,36,35,47,39,43,45,36,37,37,35,41,44,33,39,39,37,36,42,39,39,31,28,30,39,46,40,31,44,38,36,44,30,30,31,41,28,28,28,34,28,31,32,44,40,38,37,35,46,34,46,40,38,32,29,39,31,38,46,32,33,39,30,31,30,33,31,33,33,34,35,49,35,35,35,48,36,36,34,37,40,33,37,39,42,46,34,44,32,44,48,35,38,43,37,36,36,48,38,47,38,50,50,54,51,53,55,47,53,53,53,56,51,51,54,55,58,58,49,50,49,50,50,51,62,53,67,61,50,51,50,47,50,53,52,58,31,30,28,27,29,36,29,26,23,22,22,22,22,22,22,27,27,24,25,24,25,27,25,25,23,37,26,26,25,24,24,24,25,26,26,25,27,27,27,27,22,28,24,29,27,27,29,29,29,29,29,29,28,29,22,28,31,27,30,30,29,30,30,29,27,30,30,30,32,27,23,31,32,31,30,31,30,29,26,24,24,33,40,31,34,49,32,38,49,35,37,42,49,38,38,42,45,45,33,38,46,32,33,41,46,31,36,38,49,32,37,38,39,39,39,35,41,36,49,38,32,46,32,31,35,44,31,31,41,34,36,46,41,41,34,41,36,38,33,48,37,31,46,31,35,41,34,32,29,47,45,45,38,46,28,40,36,31,40,47,32,35,44,31,45,41,37,34,43,35,47,33,34,36,34,38,49,33,40,43,35,42,33,37,38,40,41,35,35,44,39,35,42,44,35,46,43,31,31,37,36,30,30,35,47,38,41,35,37,36,46,30,42,32,32,33,33,34,47,36,44,37,40,40,30,30,48,37,37,36,36,31,43,47,37,35,50,50,53,50,50,50,55,55,61,52,58,54,61,55,49,49,55,61,48,52,49,60,53,55,54,50,58,54,51,75,56,56,54,27,26,22,29,30,21,21,22,23,23,23,23,23,24,24,25,25,24,24,25,23,23,24,23,23,23,27,26,26,24,25,25,24,25,26,27,25,24,26,27,27,30,26,29,28,24,27,27,27,23,30,29,27,26,23,28,28,28,25,30,23,28,33,26,27,29,28,31,28,24,25,26,34,44,45,41,49,43,43,41,36,36,35,33,34,42,39,41,42,30,30,34,44,47,43,25,43,42,29,33,44,38,34,30,26,35,34,45,37,40,31,43,38,31,38,33,33,44,38,32,47,44,34,31,32,47,31,32,42,48,45,32,43,37,40,39,35,31,34,40,37,35,28,39,31,39,44,47,29,31,45,40,46,47,31,35,30,30,27,28,42,30,42,27,27,33,44,43,27,27,32,36,44,30,29,36,34,35,28,35,47,30,46,38,36,29,30,37,47,35,32,45,30,34,43,45,42,47,35,32,33,29,33,34,29,47,41,44,40,47,33,32,27,28,30,48,47,39,40,34,41,46,36,40,42,49,50,49,50,52,48,50,49,49,49,50,49,50,52,54,50,55,58,59,54,61,58,52,63,48,57,58,56,55,56,54,51,51,51,59,52,51,52,22,24,27,24,28,55,25,23,23,22,23,23,23,25,23,24,26,23,23,24,24,23,26,26,24,25,24,27,27,25,25,22,27,27,28,26,27,27,25,24,28,27,23,27,26,29,29,27,29,27,26,25,25,29,27,26,29,30,27,31,31,29,27,32,34,40,40,26,32,38,35,48,37,48,34,45,33,42,35,47,44,36,34,40,34,38,45,44,38,44,27,28,37,46,41,35,38,34,31,43,32,36,33,46,49,29,36,35,28,38,39,44,35,35,44,39,39,44,46,45,47,37,46,48,41,31,31,42,37,33,46,42,30,43,29,29,43,30,40,29,42,27,29,32,32,33,48,35,40,31,27,49,42,36,30,34,40,36,39,33,37,48,30,38,37,42,46,30,41,41,31,45,43,32,37,41,31,44,37,33,39,32,38,31,43,33,34,35,35,44,41,48,43,40,45,40,36,32,40,40,41,42,35,38,33,41,49,49,50,47,51,57,54,58,57,51,57,55,59,54,51,54,51,55,56,54,51,53,51,55,53,51,52,65,55,52,51,52,53,54,56,55,59,53,53,50,55,55,51,52,56,55,29,38,26,24,25,26,27,22,22,23,24,21,23,23,24,22,22,22,27,23,23,23,24,24,23,24,22,24,25,26,25,25,25,25,24,24,24,23,25,22,25,26,26,23,23,25,25,24,24,24,26,26,25,29,28,27,26,26,26,25,27,27,28,23,25,26,27,27,29,26,27,29,28,28,25,27,27,26,28,28,29,28,30,29,30,29,27,28,29,30,33,29,29,29,32,32,34,35,40,30,26,42,38,44,41,39,31,30,31,37,39,43,39,41,39,48,31,32,45,29,32,33,33,34,36,48,39,39,39,33,35,42,37,34,44,32,44,42,38,49,44,40,41,32,32,32,36,31,31,48,28,29,30,40,36,35,39,41,36,46,40,27,27,29,30,44,40,36,35,38,40,38,35,31,41,39,47,36,30,34,37,36,40,44,31,31,44,37,39,46,30,34,47,46,44,45,40,31,35,35,44,33,44,38,44,44,27,28,35,49,28,30,30,31,31,35,44,39,40,35,28,27,32,43,34,32,39,42,37,46,41,31,40,36,48,33,42,38,39,43,49,41,36,43,41,42,33,47,35,44,48,37,33,29,34,36,35,42,48,35,35,47,39,40,30,31,34,43,40,40,28,28,28,41,31,52,50,50,50,54,52,51,53,54,54,58,65,52,56,50,57,54,54,50,59,49,53,58,51,70,61,60,61,56,59,53,73,54,56,53,56,73,60,34,28,29,28,23,22,22,24,24,23,23,23,24,24,25,25,25,25,25,25,25,23,26,26,27,25,26,26,25,25,25,26,26,30,26,26,24,27,28,29,29,28,28,26,28,28,29,29,30,30,28,28,29,30,29,30,30,28,37,41,32,31,41,42,36,28,45,46,33,38,34,36,42,34,49,40,30,31,32,33,44,38,41,40,38,45,42,36,39,39,40,44,39,45,40,39,33,47,32,39,44,39,30,37,29,30,36,41,48,44,38,42,35,40,32,37,32,31,33,38,47,40,41,36,46,41,49,40,46,38,32,31,38,31,37,34,29,32,47,43,33,45,34,48,40,36,42,47,35,37,33,31,43,48,42,37,44,39,42,38,43,30,30,35,36,38,39,45,45,47,29,29,30,30,29,29,31,33,37,45,34,46,42,48,45,39,31,35,37,47,36,34,34,37,41,46],\"xaxis\":\"x\",\"yaxis\":\"y\",\"type\":\"histogram\"},{\"alignmentgroup\":\"True\",\"bingroup\":\"x\",\"hovertemplate\":\"default=0\\u003cbr\\u003eage=%{x}\\u003cbr\\u003ecount=%{y}\\u003cextra\\u003e\\u003c\\u002fextra\\u003e\",\"legendgroup\":\"0\",\"marker\":{\"color\":\"#636EFA\",\"pattern\":{\"shape\":\"\"}},\"name\":\"Not Default\",\"offsetgroup\":\"0\",\"orientation\":\"v\",\"showlegend\":true,\"x\":[34,37,57,37,29,23,28,35,34,51,41,29,23,49,49,29,39,23,23,30,47,26,27,32,54,58,30,40,22,31,33,25,22,37,30,32,24,43,49,25,29,45,34,34,34,29,39,51,30,29,22,31,32,37,32,24,25,45,33,26,44,49,33,32,35,44,39,27,37,23,35,43,27,22,32,30,63,26,24,36,52,38,35,31,47,41,24,41,28,34,38,48,27,23,52,55,23,41,34,46,22,34,27,33,24,28,23,29,29,28,34,23,60,32,25,41,56,26,34,37,30,57,41,27,47,34,46,27,50,27,35,22,37,30,22,29,30,30,22,29,37,35,47,25,32,34,31,32,29,24,36,34,22,34,38,31,26,26,48,43,47,50,24,43,39,27,42,36,31,38,45,35,33,28,44,37,24,24,26,33,35,27,31,28,39,27,32,40,40,75,27,25,46,26,28,28,29,25,48,33,43,29,29,38,37,37,25,23,48,32,34,33,36,26,33,31,27,44,30,28,32,46,38,46,46,43,29,31,29,36,36,37,36,40,27,26,36,27,27,38,34,40,27,36,53,46,29,27,24,32,43,55,40,28,43,27,28,30,31,34,30,36,29,39,26,29,26,31,26,36,43,58,26,34,24,34,30,32,35,56,61,24,40,30,34,54,46,58,43,28,30,29,36,25,42,29,43,38,44,29,51,27,38,22,30,25,29,42,48,52,25,37,27,31,38,32,41,35,31,30,48,24,29,38,30,32,27,33,25,29,36,55,27,37,25,23,32,26,27,34,28,53,42,30,37,26,42,39,39,32,41,38,36,26,28,56,32,38,41,41,34,38,32,29,44,37,38,31,40,28,48,43,31,42,39,34,32,43,30,28,41,47,23,49,38,38,35,46,53,35,43,28,30,26,31,28,23,56,32,47,22,34,31,27,32,27,27,26,21,23,30,26,25,35,44,52,40,38,28,24,34,31,25,28,27,42,24,47,33,32,29,53,34,52,42,38,45,35,28,26,40,29,23,33,49,28,31,36,35,33,26,53,42,25,29,31,30,34,35,32,46,43,29,31,24,43,53,28,31,34,36,24,36,34,43,37,23,37,33,37,56,25,39,39,28,27,37,24,24,46,39,48,45,49,23,25,47,56,44,49,41,40,31,42,28,32,28,31,39,24,46,32,26,22,33,27,23,28,33,37,22,32,43,27,35,35,34,41,28,31,56,45,29,35,28,40,47,27,40,32,35,27,30,37,29,34,34,41,31,40,27,22,38,46,24,49,49,42,30,42,31,49,27,35,48,22,27,47,34,39,33,29,26,38,34,37,57,50,28,31,25,33,30,51,51,46,38,34,26,25,43,36,58,26,31,24,24,35,29,33,35,35,28,40,35,53,44,33,32,33,26,26,26,31,29,27,26,38,35,29,29,51,27,32,40,34,30,29,22,48,35,37,44,28,29,36,23,26,37,44,39,24,29,39,24,45,30,51,50,22,33,24,37,58,48,28,24,30,23,23,55,34,22,31,32,39,38,34,57,23,32,37,23,49,25,29,27,26,41,31,32,46,35,35,39,34,52,40,38,45,40,25,33,27,43,43,30,38,57,23,30,30,24,28,34,37,32,27,31,36,30,36,25,50,40,27,26,27,27,25,32,46,45,30,39,48,46,23,33,24,40,24,24,46,22,36,34,24,36,30,29,34,32,25,44,37,23,29,37,59,33,51,32,42,39,46,41,30,35,47,31,30,24,36,28,36,27,32,33,30,22,28,54,24,29,49,23,33,53,25,54,39,27,39,45,25,29,28,40,29,36,37,34,27,31,31,38,36,46,36,40,45,57,25,37,35,33,38,31,41,33,40,33,35,39,23,23,24,26,42,36,23,42,49,31,33,42,41,53,23,33,29,67,49,42,25,30,40,35,61,33,66,40,47,27,35,47,39,29,32,30,23,43,40,35,28,38,31,29,31,29,26,42,29,50,46,28,40,41,47,33,29,44,24,33,54,27,24,34,26,41,29,38,35,52,29,34,44,36,28,31,31,41,44,47,25,25,39,24,33,30,52,36,30,30,47,29,23,39,48,26,33,44,36,39,24,25,52,59,23,48,62,38,32,35,27,38,24,29,27,29,29,23,50,38,24,29,38,37,66,39,45,44,36,40,29,48,23,50,33,37,26,26,43,32,54,30,22,38,24,24,26,21,41,50,46,37,47,40,30,33,35,45,32,45,35,26,35,42,35,22,30,46,28,26,28,33,24,37,44,29,27,32,34,32,57,46,53,26,34,54,26,31,30,31,34,36,34,26,43,29,41,24,23,53,34,41,30,29,34,36,30,25,49,23,28,24,47,24,32,31,37,49,45,34,43,31,35,42,36,51,48,48,25,41,49,28,28,41,32,31,23,49,34,26,35,49,40,34,29,30,28,27,38,29,41,32,30,29,25,46,47,42,27,35,44,30,42,28,24,50,54,37,58,26,31,52,36,27,22,39,36,39,39,22,30,26,23,23,35,35,51,23,25,36,33,36,26,41,31,45,58,38,30,25,25,24,29,37,27,31,28,24,27,33,27,42,32,44,29,52,44,33,54,23,24,33,51,25,23,34,25,54,25,26,32,43,26,36,27,50,24,27,39,39,45,36,39,37,26,44,31,40,25,36,32,22,32,41,28,52,48,43,25,36,34,48,27,43,30,43,54,39,70,24,30,53,33,34,48,24,31,25,27,39,36,40,27,37,35,27,38,50,32,34,25,29,44,48,24,27,28,22,30,34,32,23,33,29,47,41,28,37,50,48,34,44,56,29,37,23,27,45,33,40,43,25,46,36,36,38,42,47,40,70,32,52,49,31,36,50,48,33,44,35,29,35,37,29,30,27,31,53,38,26,26,42,43,23,30,38,44,32,25,26,29,26,36,37,48,31,31,34,43,32,38,50,29,49,40,47,34,27,29,44,39,40,45,26,34,30,31,28,31,22,55,27,40,31,36,30,40,51,51,32,36,37,31,50,40,24,29,24,44,30,61,28,22,23,24,54,27,53,47,45,25,31,51,40,29,24,35,29,36,40,64,38,26,26,29,45,36,27,27,29,26,54,42,41,33,27,36,37,41,25,33,29,32,29,22,29,31,24,27,40,38,29,27,34,34,32,36,26,33,53,27,33,26,26,27,56,56,26,28,47,26,48,41,48,28,22,34,27,25,26,44,26,33,29,34,33,27,36,28,47,31,31,30,58,27,35,46,36,53,27,37,23,40,44,32,41,29,61,30,23,30,32,39,24,32,32,24,35,22,36,31,40,48,53,30,43,30,33,27,45,54,34,30,32,39,24,46,24,35,23,29,46,31,26,32,22,32,38,29,31,40,25,65,33,31,41,32,26,30,30,41,31,42,32,44,22,42,39,32,37,36,42,29,36,29,31,42,37,33,29,28,26,35,33,32,30,26,22,26,35,49,49,36,39,35,40,30,26,53,45,30,31,33,39,50,28,36,41,41,41,37,31,57,53,25,32,26,29,37,43,42,41,26,27,31,26,50,29,24,35,25,34,28,67,43,52,43,24,59,34,32,52,23,35,34,40,49,33,26,51,35,27,35,38,31,36,39,41,30,32,39,30,34,27,25,39,32,39,22,53,29,38,36,32,40,25,28,40,47,27,42,37,55,51,35,48,28,40,30,55,23,40,33,26,29,29,40,50,37,27,49,34,43,24,33,42,37,39,28,39,54,42,31,23,34,23,36,47,28,34,35,30,71,28,38,49,22,31,43,44,39,42,28,34,36,27,29,30,31,26,42,31,27,27,23,36,34,22,41,28,55,26,29,30,24,51,25,25,42,38,54,62,52,48,30,35,38,37,35,30,29,34,53,36,29,53,35,36,33,55,37,31,31,55,42,27,24,22,50,29,38,43,47,23,22,47,35,45,53,30,33,37,21,45,41,27,30,21,25,41,38,36,63,38,32,38,24,29,38,50,25,50,30,26,24,35,50,35,45,22,34,32,32,30,36,35,48,32,24,36,33,28,37,26,25,27,39,33,24,23,44,35,56,29,48,40,53,35,41,56,49,29,37,27,33,28,54,35,46,32,38,27,33,44,29,26,44,26,30,25,40,47,26,56,28,31,43,47,46,60,24,39,53,30,52,40,41,23,36,28,23,38,26,29,45,27,36,25,33,50,29,34,46,30,28,41,42,32,26,25,52,29,35,41,26,24,44,66,25,33,42,28,23,39,29,35,41,28,44,51,35,47,42,24,43,47,39,32,49,24,27,29,47,29,28,30,29,29,38,40,35,42,25,35,27,24,24,33,51,35,39,47,29,22,67,47,27,36,45,48,40,55,42,54,44,29,40,28,23,25,35,51,44,25,41,26,25,31,26,38,47,30,25,53,37,27,28,51,27,39,28,23,30,39,32,47,28,45,26,28,30,30,44,25,38,36,25,33,28,38,24,47,28,29,30,23,25,33,49,27,22,29,23,26,46,42,49,37,28,34,51,26,32,23,26,28,26,33,30,28,39,28,29,32,23,30,31,48,54,59,38,31,41,29,28,48,42,27,27,31,43,33,22,25,32,34,25,22,49,49,42,41,27,24,34,43,62,30,24,47,34,47,39,32,25,39,42,37,27,44,39,24,38,45,58,46,23,36,32,55,34,31,28,40,33,25,39,41,37,37,26,35,23,25,46,41,53,45,46,22,32,38,34,34,41,29,40,60,51,37,43,40,36,34,30,32,44,48,44,31,47,35,42,22,33,36,40,26,47,36,23,47,22,23,22,25,24,26,23,36,37,39,28,35,31,24,44,39,49,30,33,47,51,25,39,27,42,40,30,25,31,47,37,28,57,53,28,28,40,27,55,28,38,32,39,22,25,38,23,31,35,30,39,22,27,35,36,41,47,23,35,46,30,40,55,26,24,33,47,49,31,36,33,41,44,38,38,36,43,46,28,30,39,38,26,46,44,45,30,27,26,49,49,27,38,38,45,31,57,32,32,42,30,60,37,39,26,34,31,32,47,51,28,29,34,31,25,28,37,47,24,39,34,41,28,28,37,46,42,26,41,27,36,25,42,37,33,25,26,23,23,26,23,35,23,31,44,36,37,47,36,48,46,36,53,37,24,40,37,36,29,29,39,49,32,38,25,40,49,45,50,29,26,44,48,53,48,23,42,32,27,28,25,27,30,28,24,29,33,31,31,22,26,24,48,26,31,46,42,24,26,38,24,37,32,36,33,35,49,42,33,33,46,38,43,37,30,42,24,39,40,25,31,33,27,43,30,37,43,27,32,40,36,43,38,37,52,34,28,37,27,44,24,25,32,50,28,28,35,22,34,30,25,45,32,49,30,37,22,25,54,37,37,34,36,37,39,29,38,48,38,41,26,38,37,26,29,44,33,40,36,47,37,26,27,26,25,42,36,23,38,39,40,31,29,29,33,32,36,29,36,45,33,24,29,27,28,33,41,27,30,39,34,37,50,32,28,41,42,33,39,35,28,48,35,47,43,44,32,46,25,27,43,28,36,44,32,30,37,37,33,42,35,29,34,24,28,26,28,34,40,25,24,41,40,30,25,39,33,46,39,25,38,26,51,42,37,28,41,32,28,37,33,46,35,22,23,26,28,29,27,43,59,49,48,22,26,39,23,26,25,38,39,31,33,24,25,38,28,37,34,23,25,30,49,25,28,59,31,52,39,29,36,24,33,25,44,57,32,26,27,29,59,26,33,41,38,25,44,29,26,26,33,34,45,27,30,33,40,22,32,46,42,33,40,37,27,29,34,45,40,23,35,43,24,23,48,39,31,52,27,21,35,47,28,41,53,23,36,26,34,41,24,52,32,33,39,21,51,27,36,27,36,47,31,29,27,46,44,24,42,33,45,39,35,29,40,42,50,24,24,41,28,28,39,44,33,25,41,33,41,48,27,34,42,39,51,26,41,35,36,32,31,34,48,37,26,28,29,23,38,45,32,29,37,22,32,43,26,30,33,32,43,25,46,28,24,30,32,26,63,30,37,25,50,43,37,37,30,54,46,29,30,35,24,26,46,48,42,30,55,40,22,40,58,49,34,50,27,33,44,35,31,40,42,26,33,34,50,37,29,51,37,35,37,22,34,40,52,39,53,41,30,35,22,28,29,36,27,27,28,27,25,27,30,28,30,45,24,25,59,23,37,28,40,30,50,27,26,36,33,24,29,41,25,29,33,36,34,34,44,37,33,30,39,28,42,50,24,33,24,41,27,40,23,39,31,41,39,23,28,28,46,36,27,35,35,29,53,23,33,46,39,39,39,35,37,24,45,28,37,28,56,48,32,28,40,31,38,40,47,31,28,66,37,35,23,49,29,35,34,57,59,35,32,28,41,27,32,39,29,46,35,36,55,48,37,27,35,38,22,35,64,28,30,30,34,35,41,37,35,34,26,41,32,36,44,34,44,26,51,37,30,25,31,35,28,27,30,31,29,28,31,35,37,36,29,26,33,25,26,37,42,29,36,23,32,26,32,28,27,51,29,39,29,44,23,33,32,48,29,29,46,34,30,27,31,39,39,36,38,41,27,30,29,47,30,29,31,29,53,38,24,33,52,36,43,43,47,33,31,44,37,28,47,45,26,39,39,43,32,27,29,31,37,41,36,26,45,27,57,37,22,41,22,30,29,38,53,42,40,66,32,34,24,39,29,39,48,25,32,39,37,23,46,45,33,24,22,32,25,44,27,22,34,48,59,27,26,46,35,40,46,33,42,32,48,35,42,41,39,28,38,22,35,35,37,28,23,30,53,22,54,31,24,33,33,26,25,48,29,28,28,32,24,24,28,36,44,48,23,36,31,26,49,34,43,43,23,52,51,32,34,24,35,41,43,50,37,28,45,36,29,27,22,49,36,24,48,33,30,30,46,33,24,27,26,44,43,32,26,25,42,41,35,25,24,50,29,40,27,32,27,32,38,30,44,40,34,29,31,45,35,44,25,42,30,28,44,37,30,49,33,22,23,31,28,56,33,25,53,26,26,31,35,29,36,48,25,41,22,31,26,28,30,44,39,34,64,56,43,33,26,29,25,38,42,24,24,47,31,49,29,33,39,23,23,31,44,48,24,36,29,39,27,26,35,45,32,50,36,49,58,38,42,36,42,30,23,45,40,30,29,32,24,35,26,24,28,44,24,50,44,46,25,30,37,28,35,49,28,37,31,42,23,28,45,39,24,54,37,34,29,24,33,33,43,30,46,51,43,26,23,40,29,32,29,45,28,25,38,43,34,36,47,47,41,25,40,32,41,33,52,29,26,27,33,25,26,48,33,42,31,26,44,44,34,34,27,30,34,35,27,45,40,29,25,29,42,51,34,27,40,41,48,34,27,31,40,50,33,28,34,30,46,41,25,22,43,33,25,46,46,41,32,29,44,23,25,37,36,23,30,41,24,31,31,39,30,24,29,30,33,38,52,35,26,26,41,49,57,30,33,55,29,29,34,30,30,66,32,35,35,26,42,31,44,57,39,51,25,30,39,46,37,33,50,42,34,27,33,29,36,21,52,35,28,27,43,25,25,35,22,23,25,52,48,30,56,26,49,40,34,23,31,31,30,44,36,24,32,28,34,49,49,32,28,32,26,24,34,40,45,30,31,31,49,30,41,35,25,24,26,37,39,30,58,36,30,50,57,34,32,26,37,38,27,44,33,51,54,34,25,52,34,43,25,53,35,33,27,49,44,25,34,25,29,36,47,42,35,41,27,28,45,36,29,27,39,29,29,59,23,25,32,37,32,54,50,48,26,28,39,27,46,50,42,27,39,28,39,48,37,42,37,28,47,29,34,51,49,28,44,41,35,38,29,42,46,30,35,49,45,56,44,25,49,47,36,29,37,52,29,36,27,45,28,39,32,47,45,27,52,26,36,54,36,38,26,35,29,26,32,44,45,40,25,39,40,39,50,39,23,21,45,24,32,27,23,25,31,65,24,31,23,30,29,51,25,24,42,25,25,34,34,29,39,40,39,32,46,37,33,36,25,31,23,25,29,30,27,33,56,30,24,33,36,29,26,44,38,28,44,32,29,31,32,33,39,30,38,26,41,32,58,41,23,29,40,33,22,29,35,43,22,35,31,49,25,36,38,28,35,24,32,26,45,49,40,29,51,42,30,23,42,35,24,39,52,24,29,43,30,25,39,41,37,40,28,40,46,26,30,27,27,28,28,44,39,31,45,36,37,47,29,50,44,25,50,30,27,54,46,26,45,28,36,27,23,34,24,47,52,30,42,26,44,29,53,35,29,29,36,47,48,32,44,26,30,39,25,36,29,58,24,35,42,45,31,41,32,37,44,32,42,24,25,35,39,38,33,25,38,34,31,46,32,34,29,42,23,52,43,48,24,45,26,36,43,56,41,28,27,60,24,58,29,44,42,25,27,51,45,37,30,44,22,33,44,37,31,40,23,24,48,25,53,29,30,30,36,34,36,28,52,35,44,44,25,40,41,32,49,24,22,41,38,45,33,28,27,53,31,42,38,37,31,27,33,35,29,43,49,57,31,25,34,31,28,48,36,24,52,26,39,48,33,33,27,30,23,33,22,54,42,27,30,27,32,55,41,27,28,40,34,54,42,53,30,52,41,33,49,27,43,27,29,31,29,28,36,33,33,47,38,41,42,37,34,50,50,22,34,46,43,23,34,29,57,33,42,45,32,39,31,26,27,30,29,42,31,49,30,28,38,24,22,45,24,37,46,26,35,31,31,25,32,59,24,51,51,35,34,35,24,34,29,30,42,44,22,45,25,37,36,63,26,30,26,39,31,44,36,35,24,33,31,29,24,28,32,50,58,40,36,34,44,40,61,28,48,28,24,31,44,31,26,26,40,38,38,24,33,34,26,48,42,38,26,37,40,27,25,30,53,53,23,32,45,33,28,58,45,42,36,30,52,61,39,23,25,32,31,25,43,35,24,25,30,33,32,49,35,48,55,41,49,31,43,36,57,52,23,31,28,53,29,26,32,26,27,31,26,48,25,33,40,45,35,25,39,31,33,24,31,29,29,47,37,23,40,23,51,38,25,39,34,42,37,53,43,27,42,43,30,48,29,36,31,24,47,27,30,32,28,32,35,26,58,37,40,32,34,40,27,29,48,30,39,47,36,40,34,39,40,28,24,30,41,31,28,25,42,51,24,36,58,43,35,45,53,40,35,43,23,28,30,50,32,27,34,35,49,22,24,50,45,27,24,25,35,35,27,46,32,28,31,31,28,31,34,27,28,32,40,44,29,63,40,55,25,32,29,36,37,33,45,54,41,40,25,39,37,28,32,53,34,35,27,55,37,33,38,36,57,35,44,42,24,47,33,34,33,24,29,36,48,30,29,29,31,31,24,35,38,31,46,24,50,27,28,33,60,30,26,34,28,38,45,32,28,30,41,42,52,22,31,25,31,41,48,48,27,31,41,28,23,34,36,48,39,27,37,34,27,30,33,26,34,23,52,30,29,40,44,44,44,29,33,30,28,28,41,26,44,23,38,29,48,35,38,24,29,52,39,55,49,58,34,31,27,25,48,33,45,43,40,49,23,44,67,38,31,50,36,41,27,54,50,42,40,40,26,28,26,41,41,33,34,42,39,42,30,53,40,36,29,49,57,49,31,53,31,29,53,39,48,32,25,25,34,43,33,30,27,37,40,48,33,37,35,31,39,27,21,29,47,23,32,41,23,28,24,34,36,48,49,66,39,44,34,31,42,37,25,36,39,49,30,36,27,40,29,31,29,47,39,25,22,33,27,40,33,52,30,39,27,25,33,41,24,29,34,23,29,30,24,27,60,24,35,26,22,53,40,27,44,32,25,33,34,28,29,25,43,36,48,24,35,33,62,33,38,24,35,42,41,34,22,37,43,28,24,39,38,49,49,26,23,27,48,50,37,33,29,38,39,43,32,29,33,37,38,48,23,33,35,23,35,23,33,44,45,39,33,39,36,24,40,27,34,45,42,37,42,29,25,42,34,42,41,49,42,26,33,36,38,27,28,43,24,39,29,24,24,42,33,28,26,33,27,40,29,23,37,28,43,55,40,52,36,57,35,31,31,39,32,37,36,42,28,28,26,23,40,32,30,48,28,35,62,40,24,22,35,41,33,41,49,34,48,22,37,49,33,27,37,48,44,35,30,32,34,34,34,22,36,27,42,26,30,51,56,29,30,44,38,39,27,35,22,33,26,43,32,45,40,22,26,49,35,38,27,45,36,31,33,31,24,24,40,44,29,26,30,26,48,33,26,33,23,31,23,29,26,24,28,25,26,36,31,33,34,44,25,30,45,49,28,43,70,50,42,22,28,45,26,47,36,22,25,26,30,23,37,27,59,30,30,61,28,29,53,30,31,40,46,27,40,41,26,44,31,30,24,31,37,27,30,27,26,27,33,23,35,32,53,29,23,43,37,41,36,40,38,27,36,35,30,43,27,30,45,32,46,39,40,30,24,24,26,53,41,44,33,29,45,29,33,53,41,25,54,43,29,39,31,34,34,36,46,32,25,30,42,38,31,39,24,26,41,47,41,26,22,38,25,55,24,52,29,54,32,26,32,26,27,45,34,31,29,24,26,28,45,23,42,27,33,44,28,32,45,47,25,47,44,30,54,26,33,36,33,37,36,33,53,56,50,42,35,30,21,28,57,25,39,39,71,29,33,36,36,46,33,41,35,39,29,23,49,32,32,38,30,29,52,60,55,33,44,48,36,36,36,27,33,45,56,41,28,30,27,41,41,42,38,26,28,36,47,41,21,52,26,58,34,24,31,30,31,33,38,51,47,62,39,31,28,23,51,35,37,26,29,41,32,47,36,47,27,27,39,30,33,53,53,56,35,23,46,38,39,37,31,48,47,44,62,40,28,49,37,42,33,32,27,48,27,48,25,37,29,31,48,28,25,31,44,53,45,28,41,30,27,49,55,37,39,29,28,45,29,46,30,34,52,26,25,35,41,43,38,40,27,27,32,28,34,29,28,47,25,28,29,30,31,30,42,44,29,25,36,28,28,38,30,29,36,27,43,37,27,29,45,34,32,26,28,38,29,53,38,29,47,27,55,26,30,39,50,32,54,36,36,31,29,32,30,48,33,44,28,22,55,26,32,27,27,23,24,24,49,27,25,35,49,28,44,33,52,29,28,32,35,44,38,40,30,49,51,35,43,31,29,44,34,29,26,53,35,25,35,49,31,31,39,43,33,46,53,34,26,48,27,32,32,59,37,26,34,31,33,45,29,41,26,32,42,30,29,22,36,28,31,40,33,47,34,37,24,26,24,23,29,24,38,35,33,48,43,41,33,47,25,38,27,28,34,28,38,39,23,35,37,53,38,39,36,26,35,54,33,30,24,27,32,48,46,47,22,23,23,46,23,25,28,32,36,28,47,54,45,52,34,29,34,49,27,27,34,34,48,43,23,29,29,32,40,24,23,26,25,25,39,34,38,34,35,28,46,40,32,26,54,29,36,32,52,24,36,38,61,41,38,27,37,26,36,33,30,24,49,23,28,36,27,35,26,29,40,28,52,52,43,32,60,26,36,46,23,43,28,38,30,43,63,29,39,31,28,25,48,56,22,26,33,38,31,41,41,25,36,26,42,38,47,34,42,41,45,56,24,23,50,27,33,30,24,50,38,40,27,43,36,27,22,47,27,25,33,25,31,52,26,37,48,38,45,30,27,40,37,31,35,29,28,34,37,30,27,26,29,29,56,29,45,33,30,36,29,50,58,30,26,44,36,33,30,33,30,39,51,30,26,42,31,34,34,32,30,24,25,39,28,37,29,40,29,47,38,26,42,24,43,31,27,29,43,45,27,25,29,35,23,24,23,25,23,50,31,45,25,39,29,26,55,47,31,29,25,39,60,34,21,31,23,33,47,32,32,27,29,41,26,34,37,30,24,28,24,29,26,29,45,41,29,34,36,57,25,28,53,46,42,30,46,30,27,42,43,34,32,24,42,30,31,25,45,35,22,40,29,34,38,47,34,32,53,30,27,33,47,45,30,42,30,36,37,29,31,54,27,27,46,44,43,27,23,28,37,26,36,26,24,31,36,51,52,36,25,29,26,32,38,55,33,43,29,48,32,42,36,48,30,37,39,29,25,38,56,58,30,56,30,29,52,40,42,38,45,36,33,55,44,23,29,31,29,36,29,39,38,31,26,29,30,62,46,31,38,38,63,39,25,40,28,29,35,43,49,26,31,35,28,59,28,41,28,27,51,23,33,48,33,64,35,27,31,64,50,28,27,32,34,47,41,23,32,29,45,49,37,38,24,31,36,27,44,30,57,35,24,51,40,27,50,26,59,40,36,28,28,25,33,41,22,55,39,58,29,28,33,44,41,59,43,37,29,32,41,45,38,28,24,51,43,42,25,35,27,40,43,40,31,24,30,37,35,52,61,25,39,51,26,24,42,26,53,34,51,24,28,34,30,37,30,37,25,32,30,38,32,41,45,43,42,40,43,42,35,29,40,38,55,29,32,23,34,38,47,41,24,33,35,44,37,47,43,28,36,28,27,40,31,35,48,29,35,35,26,47,42,39,31,40,39,34,22,27,29,22,48,24,21,51,35,37,42,39,27,54,34,37,24,30,27,30,35,24,26,43,68,36,37,23,39,28,47,36,55,29,33,62,42,34,21,25,47,35,25,33,33,33,42,57,35,39,53,33,39,33,26,50,28,41,44,30,23,29,53,32,52,32,28,65,34,44,37,33,45,24,37,45,36,38,24,53,27,36,24,47,24,25,28,39,28,26,43,54,27,35,28,31,25,32,33,42,27,36,42,39,32,33,35,28,50,32,35,34,30,24,38,26,34,39,33,33,41,27,45,37,35,40,57,49,26,32,34,43,37,51,30,30,46,30,35,44,54,28,42,28,43,40,31,30,40,27,29,31,54,31,25,28,34,51,42,50,34,40,23,48,49,30,23,27,23,26,27,49,54,30,30,28,30,31,37,37,36,34,27,31,24,30,51,29,47,54,23,49,55,41,38,44,25,35,41,28,32,29,23,43,39,34,48,52,32,26,36,42,34,29,59,29,31,45,25,51,34,38,45,32,30,33,28,32,31,43,38,40,49,25,51,40,41,26,26,43,29,44,34,37,30,41,52,38,34,25,52,40,35,28,63,33,38,36,31,44,39,23,26,42,36,30,27,40,33,42,32,32,53,34,33,30,30,30,32,29,36,51,30,31,48,23,29,28,52,36,37,33,24,45,45,36,32,53,31,49,27,27,41,54,38,27,42,33,27,22,34,35,37,23,51,49,44,26,38,31,30,44,40,29,27,48,33,37,48,22,42,25,37,26,31,39,27,38,38,38,39,28,25,34,42,24,27,23,22,68,39,30,35,26,56,46,26,30,46,39,27,35,24,60,36,37,49,23,47,23,39,33,23,25,29,48,42,26,38,28,33,35,24,28,27,32,32,27,34,24,49,30,57,42,39,40,38,39,24,32,46,44,31,36,50,27,33,28,34,28,25,28,35,43,48,23,26,49,48,40,30,37,28,46,31,25,45,29,27,32,31,23,31,38,53,38,25,25,37,50,31,23,34,34,30,33,43,35,25,23,31,37,41,49,35,44,53,23,29,28,41,33,48,28,24,54,31,54,41,22,40,44,22,29,29,40,33,31,23,26,31,40,24,29,37,25,30,42,44,23,45,24,32,26,49,26,32,44,26,36,38,22,47,25,22,39,36,33,29,26,42,29,40,48,43,31,27,29,51,27,38,28,36,25,46,41,32,31,25,26,39,30,26,27,26,23,27,46,27,23,34,28,36,39,25,28,25,51,27,35,22,31,30,21,28,37,37,38,26,28,44,47,26,45,25,34,42,51,36,29,44,42,30,33,34,29,29,33,31,52,23,23,44,27,53,40,36,50,35,22,29,48,55,45,27,29,37,29,35,25,25,24,53,26,30,50,35,22,26,24,29,25,35,50,36,38,45,48,39,48,53,35,30,42,62,27,23,29,33,58,26,34,46,34,24,23,56,26,40,30,34,25,33,29,32,33,40,38,28,21,32,54,27,43,52,38,30,38,30,38,34,62,26,43,30,32,25,28,28,32,55,22,36,40,28,25,27,31,27,23,50,45,34,46,52,38,25,31,30,28,36,33,35,31,26,39,40,39,43,36,32,25,25,43,35,31,27,28,24,30,41,51,44,29,32,28,47,50,33,32,36,30,46,38,28,29,30,27,36,35,29,37,30,35,26,27,28,30,23,24,30,39,48,52,27,39,40,22,32,26,28,42,29,53,28,30,41,50,42,35,30,24,37,37,51,33,33,33,27,35,28,47,23,42,35,27,30,41,35,33,30,38,29,28,35,65,32,31,56,57,31,38,47,39,27,33,45,46,23,48,58,42,37,25,43,40,35,50,49,37,27,29,24,34,44,22,40,42,45,51,28,33,34,37,58,30,33,46,26,37,30,22,33,36,29,42,30,53,24,26,28,30,26,39,30,50,38,27,34,29,39,35,34,45,22,28,34,39,33,33,31,42,36,30,25,45,32,24,28,46,27,28,34,39,27,29,30,51,36,25,32,36,31,40,28,36,22,27,29,27,24,23,26,36,25,37,30,31,30,36,27,38,45,37,43,32,28,40,32,28,48,36,41,40,57,44,43,27,39,39,50,31,30,39,38,40,29,23,23,31,34,42,36,44,31,38,28,45,30,36,40,36,29,55,34,38,47,40,36,36,39,37,29,46,34,30,47,29,28,24,55,47,24,29,24,40,37,38,32,27,32,31,24,23,29,28,30,27,21,29,23,40,33,39,53,40,23,43,43,43,30,24,32,35,43,31,44,27,41,34,39,48,56,46,27,45,40,23,30,36,28,26,30,40,35,39,35,44,27,34,28,31,29,35,25,51,31,30,24,37,30,27,27,27,55,41,26,42,32,34,21,30,61,58,36,26,34,35,28,39,22,28,22,32,52,53,31,33,29,27,50,29,26,47,24,48,26,34,32,36,25,26,26,35,25,38,29,27,29,24,37,28,49,26,36,28,38,25,28,30,49,38,32,30,30,27,32,38,33,40,69,50,32,25,31,27,35,27,37,47,32,38,25,47,63,33,44,42,24,27,49,30,38,40,29,27,37,47,47,25,34,27,32,55,44,36,34,33,46,53,45,39,26,36,42,32,25,23,23,31,41,31,43,60,31,27,55,29,39,51,28,46,38,36,28,37,38,37,44,41,25,31,33,46,31,24,23,32,32,42,33,39,35,33,29,23,46,54,28,60,34,32,52,34,34,34,23,33,43,24,32,34,50,32,26,47,43,30,44,37,36,34,36,41,36,36,25,33,24,31,54,44,41,40,27,25,31,50,34,43,22,29,43,22,26,48,29,39,26,37,26,39,34,25,38,32,28,27,41,37,25,34,28,44,36,28,41,22,37,34,33,43,22,27,23,27,29,53,25,29,29,24,24,26,30,29,34,25,30,36,39,51,40,38,60,53,53,36,31,50,28,29,50,49,59,37,51,40,36,41,36,34,39,48,61,40,35,33,34,37,45,32,27,35,41,35,31,32,32,24,66,51,33,38,56,21,24,36,29,42,26,35,22,40,33,24,45,37,37,42,24,25,37,28,26,33,28,52,43,38,43,26,39,28,32,29,33,33,24,29,55,40,47,36,34,25,49,25,46,38,22,24,34,45,28,42,30,38,33,38,43,34,41,27,31,34,31,43,34,46,36,29,26,67,30,35,28,24,53,39,30,28,30,44,46,45,37,47,45,31,31,30,34,37,23,41,42,27,33,43,30,41,34,29,43,42,44,29,34,37,36,44,30,49,31,31,35,36,31,25,33,48,58,32,26,41,29,43,69,56,31,51,31,42,51,51,37,25,27,39,22,24,54,25,24,30,25,45,36,31,44,45,52,36,54,53,25,30,31,39,50,53,42,28,57,43,28,22,46,26,32,24,27,29,34,27,53,29,35,33,26,51,47,29,44,36,45,50,28,50,23,38,35,56,50,26,32,39,28,48,39,22,50,42,22,29,30,40,32,30,53,44,32,44,39,23,36,26,43,54,28,35,46,29,28,30,34,31,37,51,41,49,32,34,30,39,45,34,37,30,29,34,44,34,55,31,22,51,35,30,31,32,24,55,32,25,24,27,25,35,26,44,26,31,32,37,33,38,50,25,29,29,36,41,40,28,34,37,46,38,47,50,23,40,37,25,31,26,30,33,26,35,33,45,31,29,26,29,32,33,38,29,30,39,29,31,30,21,43,59,34,30,30,27,23,39,33,22,26,26,28,38,27,31,31,33,38,23,49,41,24,27,34,25,40,27,36,30,38,37,41,32,30,27,33,38,52,69,26,46,41,39,44,34,24,47,23,30,28,25,37,33,30,37,30,25,35,50,36,31,24,30,36,34,30,37,28,43,42,33,28,36,33,29,42,53,33,29,36,25,50,43,45,28,33,27,38,30,28,26,70,35,33,26,42,28,42,34,23,29,48,54,24,39,23,42,28,34,28,32,55,23,29,27,40,25,32,29,30,35,43,25,45,30,23,30,24,43,32,22,43,28,33,37,34,25,31,53,29,29,22,44,44,45,26,37,35,38,30,35,39,34,51,29,23,43,31,52,33,37,35,30,47,26,47,32,37,52,22,51,29,30,34,44,32,30,34,52,35,29,36,22,35,45,31,31,36,35,31,56,23,27,48,25,39,39,36,43,52,26,28,53,39,37,46,26,31,35,48,25,32,29,32,49,30,42,22,30,44,35,52,48,29,33,44,27,27,33,40,26,35,38,48,49,33,34,34,34,27,50,50,28,21,24,36,25,40,36,31,29,41,41,41,33,29,30,24,30,30,45,25,35,25,31,44,44,39,29,55,37,33,49,25,45,23,47,36,36,53,32,50,27,34,24,28,22,25,29,29,51,57,39,27,34,35,32,31,26,26,49,30,43,58,46,36,29,51,30,24,44,39,27,48,29,39,42,29,38,23,41,37,36,23,29,39,24,38,46,46,43,29,36,23,39,29,31,24,35,29,34,27,30,24,58,54,23,29,24,26,28,33,38,35,34,42,38,41,33,46,29,22,41,37,32,29,43,32,28,33,42,27,24,27,32,52,43,34,60,30,32,25,30,37,31,49,27,28,29,33,46,32,49,50,35,30,39,44,36,42,53,42,25,42,42,34,24,32,36,33,23,28,29,24,40,34,23,22,42,32,35,36,31,32,27,33,32,53,26,35,53,28,41,26,26,23,49,46,51,54,56,54,26,41,42,32,46,30,52,45,36,43,27,27,25,50,25,45,32,38,28,25,58,30,47,25,44,40,38,43,23,48,25,34,29,35,35,26,29,47,41,26,30,42,41,38,45,42,32,53,42,36,33,42,34,39,36,39,45,42,35,30,42,44,39,24,27,40,41,34,38,38,22,37,32,29,48,32,36,32,38,48,29,25,30,22,40,33,33,35,29,25,28,54,32,46,33,50,27,27,55,29,25,33,24,26,45,38,34,27,41,32,34,46,30,44,54,41,37,27,37,27,33,28,45,31,37,44,36,40,28,35,39,45,36,35,38,26,29,35,58,35,30,37,47,43,43,32,41,39,32,33,42,30,32,41,41,26,37,30,31,27,43,39,50,44,39,46,28,30,27,24,26,26,35,43,61,23,26,37,61,31,59,34,42,31,56,36,33,29,31,43,40,28,53,44,29,23,35,31,31,41,26,43,40,31,26,24,33,63,31,40,51,23,41,24,44,47,31,42,29,29,44,26,26,23,33,38,29,27,25,38,33,35,45,22,26,44,23,39,36,54,31,35,47,42,30,28,56,36,24,30,24,32,23,40,39,26,28,40,48,57,28,34,49,30,34,30,42,38,52,27,38,36,33,38,28,34,41,32,25,29,27,62,32,48,46,28,26,45,46,31,41,30,29,52,23,46,25,47,41,26,32,60,33,51,22,38,42,38,35,36,23,62,33,41,49,24,27,29,30,38,29,35,41,32,26,33,36,23,41,32,38,25,24,26,44,32,47,26,30,44,50,36,46,29,25,42,25,27,34,35,33,28,26,47,33,41,29,56,33,26,50,25,30,31,29,24,23,41,36,47,43,39,27,51,23,41,54,30,34,25,45,47,33,42,51,51,54,26,25,24,39,34,32,23,35,27,23,45,57,28,28,65,53,53,28,35,53,35,24,58,44,48,48,35,37,41,40,28,41,32,32,39,37,28,33,30,26,24,33,47,49,29,29,30,25,34,54,29,25,23,28,30,26,22,32,32,34,30,29,51,27,33,27,40,24,29,25,33,38,23,22,35,29,50,40,49,30,26,39,36,34,33,29,40,29,38,22,37,40,22,30,41,41,31,27,52,25,31,25,38,53,34,36,36,37,29,29,43,24,28,54,26,32,41,31,31,46,25,45,40,41,43,38,41,25,31,33,38,25,25,33,37,43,43,47,32,37,32,29,25,29,44,34,39,35,41,33,37,43,29,40,24,24,40,34,42,36,43,29,52,37,27,25,37,56,48,33,39,47,28,39,28,36,26,25,31,29,36,44,27,30,29,36,36,34,24,52,33,25,40,29,31,51,22,25,31,47,24,54,38,54,45,27,24,28,33,26,31,29,31,23,23,36,43,41,24,51,31,27,29,61,31,31,26,28,35,40,55,50,26,23,24,27,37,35,57,33,46,27,32,30,24,23,24,24,25,50,48,38,37,49,45,22,33,54,25,26,36,30,30,43,29,40,34,41,29,45,42,45,29,35,28,36,40,24,37,32,33,46,33,53,31,49,47,39,27,35,23,43,27,28,57,73,27,25,23,33,23,30,38,49,38,37,28,28,26,29,28,32,26,33,35,31,47,35,33,32,44,27,36,39,26,40,41,44,47,32,27,32,31,42,53,51,29,24,39,24,23,42,34,42,22,46,23,22,24,49,37,26,48,44,40,43,24,33,39,30,48,27,24,34,48,35,42,43,34,43,29,38,26,29,36,40,33,35,41,41,31,29,31,32,23,24,30,22,23,31,34,63,26,27,36,28,52,36,44,39,28,34,34,46,27,41,28,25,38,29,48,45,31,27,34,30,42,24,22,25,33,25,36,35,42,26,25,33,23,53,26,30,53,47,47,57,26,24,41,36,43,31,39,41,41,61,37,32,31,33,47,40,45,30,41,22,28,29,22,54,36,43,50,32,25,46,29,44,22,43,44,48,24,37,23,47,54,29,36,42,28,33,24,23,44,45,41,39,34,36,35,34,28,31,37,32,36,42,43,42,33,22,48,29,24,49,49,36,27,59,35,45,38,28,35,28,26,63,41,30,27,36,49,23,27,23,37,29,28,22,32,40,26,35,45,50,48,45,38,23,32,29,38,29,48,23,43,28,30,57,26,27,48,25,28,40,35,28,26,33,30,24,43,44,28,26,32,25,34,39,34,30,24,28,37,39,45,30,40,41,24,23,31,34,35,34,29,28,26,29,40,38,50,32,27,34,24,25,29,33,23,43,34,32,47,42,37,30,25,42,31,39,39,23,29,30,44,29,26,45,39,22,43,39,39,28,27,39,46,22,37,40,29,32,34,30,39,36,36,62,23,33,37,24,37,31,31,38,39,23,35,30,33,33,32,35,25,25,36,26,31,34,29,28,30,39,45,26,34,47,29,40,39,32,29,34,29,45,25,38,29,28,54,32,37,58,44,39,31,40,36,46,35,65,34,43,35,24,26,42,58,22,26,28,23,44,29,34,31,28,59,31,51,58,42,26,44,34,26,23,24,35,30,58,42,29,43,44,24,27,32,54,27,30,25,24,31,37,26,38,43,45,29,31,29,30,41,27,29,25,26,42,32,23,31,43,31,30,50,32,31,30,27,38,40,41,27,38,33,35,40,24,29,22,35,31,40,53,24,29,40,30,25,31,24,23,31,32,38,42,23,43,32,48,25,33,29,53,27,40,41,43,39,27,58,24,35,40,40,27,23,30,33,22,31,43,37,38,41,25,44,48,34,24,28,27,23,30,34,46,38,31,29,32,39,27,31,47,37,24,37,29,52,48,38,45,37,31,37,24,26,41,25,57,35,30,23,40,53,29,28,36,50,24,30,37,24,40,27,31,23,42,32,26,29,52,38,48,35,46,41,43,42,59,24,45,30,30,25,30,26,38,44,27,25,40,47,28,34,23,38,33,48,37,45,37,22,38,42,26,40,33,37,24,38,45,25,23,34,33,34,63,29,32,28,34,33,33,56,41,42,37,26,44,41,49,38,42,42,31,45,27,36,27,45,38,34,44,29,26,32,24,44,30,40,38,35,34,39,49,33,35,40,27,43,30,41,34,32,44,31,36,24,30,39,33,39,29,34,37,30,29,36,30,34,48,27,27,33,31,31,44,34,57,25,50,43,27,34,38,46,43,29,22,35,42,33,52,33,49,29,31,29,23,27,56,48,25,58,43,39,35,27,28,21,27,39,40,39,37,26,47,30,24,25,52,38,54,45,34,27,47,26,23,32,31,26,56,27,28,30,46,39,48,43,23,24,27,53,42,29,39,33,41,32,32,53,39,53,25,45,36,25,24,25,29,38,27,47,32,58,48,41,57,27,44,25,22,47,51,32,28,28,23,36,26,23,31,33,31,34,28,49,33,27,34,45,39,57,51,27,35,28,37,34,69,27,50,39,30,46,36,34,31,57,30,36,44,23,23,44,27,27,39,41,39,40,39,33,27,36,24,22,30,35,68,55,30,27,24,37,29,30,62,23,59,40,36,25,35,28,56,25,26,28,32,32,53,36,33,29,47,28,45,34,32,24,27,42,35,39,53,47,38,34,45,32,44,43,30,27,25,41,36,29,40,46,37,34,33,48,29,31,29,36,30,26,24,29,39,38,49,26,37,50,35,45,22,23,35,37,54,32,36,26,27,29,25,35,29,28,30,30,23,38,45,33,46,43,48,55,34,44,33,49,26,35,32,29,47,34,27,39,32,21,34,40,43,51,36,49,48,37,26,50,26,29,28,42,30,38,36,32,33,36,49,48,48,42,42,42,35,29,35,25,23,61,25,27,30,33,50,30,31,26,39,32,26,27,40,39,28,22,36,34,41,37,27,35,28,62,24,39,33,30,36,37,26,35,23,36,41,35,39,31,39,43,23,24,44,44,51,28,39,44,22,52,37,46,25,35,31,25,37,26,37,52,41,31,56,28,40,36,27,31,47,43,44,26,42,39,42,25,32,46,34,36,34,56,42,34,46,32,30,29,31,43,43,29,55,32,28,40,41,30,33,28,23,59,29,29,54,32,27,29,38,37,32,46,49,26,22,27,30,42,29,24,27,36,40,27,48,29,25,25,28,31,46,50,41,32,38,45,27,27,42,29,23,35,51,33,39,34,26,42,41,32,28,32,46,23,22,51,28,25,35,32,46,55,50,30,32,27,42,23,34,35,37,54,28,29,23,41,31,39,43,36,42,45,34,39,45,28,46,24,37,55,42,35,35,44,35,38,26,29,37,36,25,31,30,50,42,35,38,34,34,25,38,39,42,26,28,34,36,36,42,38,23,40,25,47,28,26,37,36,39,42,32,29,32,38,35,39,27,36,36,35,35,36,40,35,26,39,39,35,35,54,25,34,28,45,56,47,21,39,35,23,36,37,51,29,39,33,30,34,40,26,26,24,52,28,46,57,37,36,43,27,26,38,34,24,36,26,46,24,28,46,46,29,21,32,21,54,29,33,30,41,40,37,26,24,47,28,37,41,30,55,36,27,32,44,33,27,27,30,34,42,33,32,30,51,45,46,29,36,27,40,31,22,33,39,52,43,26,23,28,31,25,52,29,49,27,25,25,30,26,24,35,33,42,56,24,35,29,47,23,33,23,49,34,51,34,28,58,28,30,31,27,41,28,23,32,43,36,27,31,40,25,50,22,23,36,27,30,30,27,28,30,46,38,25,37,34,30,28,24,22,50,46,36,25,33,31,48,29,38,31,27,43,37,36,24,29,27,23,34,52,29,32,41,48,40,23,41,37,34,24,50,29,29,34,28,23,47,37,29,28,39,49,27,38,33,26,29,23,23,29,31,25,52,31,24,25,30,49,27,32,26,28,24,44,56,33,25,39,31,40,40,40,41,26,44,37,41,38,49,38,38,55,41,23,22,29,29,36,36,47,27,39,23,24,38,37,30,47,27,26,55,28,36,27,28,27,54,49,53,24,41,24,24,30,27,27,31,40,40,32,38,24,29,61,33,34,38,34,38,49,27,38,45,39,39,55,25,26,35,30,23,25,48,35,26,41,33,30,52,28,27,29,42,28,35,27,42,38,38,42,25,25,48,33,25,39,33,38,50,40,33,38,35,33,42,41,35,29,36,32,25,34,27,49,43,28,29,32,36,34,24,33,37,26,24,30,28,62,50,46,24,52,26,31,41,29,42,23,50,35,23,48,29,30,61,30,29,42,27,22,26,30,42,44,50,46,29,35,40,38,42,46,26,44,22,55,37,43,29,30,26,22,34,46,32,36,45,54,58,37,22,44,25,47,60,46,50,31,58,59,49,25,38,26,29,55,23,42,32,29,47,43,30,42,38,38,51,23,24,40,33,47,28,54,27,45,22,41,29,43,36,38,54,25,25,35,27,34,38,29,47,32,27,40,34,41,60,33,44,29,35,36,39,25,27,31,28,41,27,33,43,45,31,23,39,33,34,31,39,29,26,61,45,33,33,36,37,32,37,28,41,32,30,29,45,33,36,38,30,33,42,30,30,24,23,36,29,28,25,40,50,53,33,35,53,34,44,29,55,23,35,33,44,31,35,51,28,31,51,36,25,50,36,23,30,29,22,26,26,26,25,36,58,24,41,35,49,26,26,54,43,23,22,30,22,27,28,28,28,40,47,31,28,35,25,32,26,33,31,52,23,30,47,40,50,35,23,40,27,29,29,29,57,48,23,48,23,30,31,30,33,28,38,28,37,29,27,58,33,29,29,29,29,28,40,39,32,55,52,55,26,30,26,35,26,34,50,49,29,39,27,28,65,29,45,44,31,33,47,42,46,38,30,38,31,34,31,39,53,36,28,38,30,34,27,32,39,27,29,26,39,29,47,25,41,39,27,50,66,36,45,26,28,48,38,59,64,30,66,39,38,37,33,25,58,24,32,27,49,25,30,36,28,24,55,28,48,39,43,26,46,27,36,46,50,24,35,37,40,42,34,23,23,35,37,35,28,51,42,32,25,24,41,51,27,29,53,28,33,33,44,23,53,36,41,29,32,41,31,29,51,44,33,28,26,27,25,29,24,36,26,60,39,23,29,37,45,30,35,33,23,29,26,26,32,52,22,25,37,46,43,30,55,34,41,31,46,26,28,36,36,25,24,26,33,31,29,26,33,40,49,42,28,34,54,44,42,29,54,46,27,28,69,27,49,25,44,31,27,31,37,30,33,29,26,38,38,36,27,51,29,28,27,27,25,36,29,27,27,37,33,23,56,42,36,35,69,28,28,35,58,29,30,27,26,26,54,27,34,56,39,45,36,62,25,35,30,34,32,26,50,35,33,39,39,48,24,29,34,37,33,30,36,29,42,31,27,24,22,26,58,25,30,32,30,39,30,39,36,35,35,29,36,53,57,27,53,30,29,22,34,32,35,39,36,46,25,26,26,45,28,46,26,56,37,27,56,33,27,37,25,35,31,25,26,36,22,45,28,58,45,46,39,37,32,23,39,38,39,47,40,48,42,45,49,24,31,33,35,44,36,40,55,47,27,31,29,60,30,41,40,53,32,35,22,28,47,43,28,39,28,40,34,22,39,27,59,30,65,56,37,38,62,28,40,55,35,25,30,37,64,23,33,29,31,48,23,28,50,34,57,28,53,42,52,44,22,39,41,33,41,39,27,33,38,31,46,34,29,32,22,39,50,24,29,29,49,37,35,41,47,48,25,57,29,28,24,29,33,26,29,24,40,41,34,32,36,26,29,53,31,28,36,35,43,33,36,26,26,38,37,39,28,38,29,38,30,40,28,27,42,24,50,22,38,40,34,34,27,66,38,34,24,53,33,47,44,52,29,49,56,31,30,28,36,37,40,32,21,24,30,45,41,33,54,35,38,30,27,38,23,35,23,28,36,36,40,23,23,32,32,46,27,37,22,25,38,34,22,27,39,33,36,44,39,36,30,27,29,27,49,35,33,27,31,48,28,26,67,32,30,25,43,36,47,30,29,35,41,25,35,37,22,33,27,28,49,33,35,24,43,24,39,27,26,57,23,47,26,43,36,37,43,23,60,32,52,35,30,41,30,29,31,30,29,34,43,44,41,29,31,55,34,25,44,45,34,45,24,52,25,32,37,55,25,43,32,26,41,44,36,31,42,32,29,53,26,35,41,45,37,39,38,44,37,51,32,30,30,46,54,39,54,23,48,27,26,50,32,41,36,28,30,48,29,27,30,50,40,29,36,46,24,42,36,44,48,31,52,34,42,27,32,42,42,43,24,56,32,31,33,32,32,51,49,30,44,50,27,46,29,33,35,30,38,34,39,39,43,34,38,23,44,41,45,35,29,29,32,30,24,44,49,40,38,42,63,38,29,47,50,35,29,32,27,40,53,34,23,55,35,41,26,38,39,36,39,36,22,38,30,42,40,22,51,50,38,48,22,28,29,47,42,26,46,45,24,38,43,34,33,51,30,31,34,26,49,40,51,30,37,28,46,35,40,44,38,39,44,35,28,29,31,42,27,24,34,33,24,40,39,54,33,32,38,46,29,33,45,28,25,50,27,53,29,39,21,52,38,49,29,23,29,28,26,40,23,28,37,37,49,27,32,29,28,57,26,33,34,26,39,53,60,54,43,26,38,35,27,45,41,22,27,23,27,43,36,35,31,34,32,27,24,23,31,26,38,23,40,29,40,33,52,25,54,29,37,28,29,41,35,27,25,27,41,32,36,50,25,26,34,26,46,22,28,37,43,40,38,41,38,30,34,54,42,44,29,40,30,28,32,24,27,35,32,26,26,45,32,28,27,36,26,37,39,40,45,46,22,34,42,25,51,44,47,28,42,34,37,49,32,38,36,42,50,42,47,27,24,32,47,36,47,29,37,26,23,25,27,25,37,32,36,58,31,27,41,42,34,49,40,36,48,44,27,24,37,22,29,62,34,26,23,34,26,25,42,24,40,41,33,34,26,28,48,25,27,42,45,26,22,46,28,40,34,34,27,24,36,36,33,54,42,28,39,27,42,27,47,31,35,31,28,25,22,25,43,31,31,22,21,34,33,29,27,40,36,50,39,52,43,29,26,55,23,50,31,26,41,48,30,40,26,26,37,24,27,33,33,28,28,37,27,41,26,28,50,31,33,41,34,28,28,26,28,28,29,52,28,26,27,32,35,26,30,32,35,36,38,47,37,35,33,25,39,35,42,26,23,47,33,33,43,27,45,26,35,41,28,39,33,30,40,42,40,25,24,27,38,27,49,35,27,26,27,52,30,30,43,32,32,43,32,44,25,31,31,43,45,38,25,38,26,43,24,36,35,35,28,62,39,23,52,35,40,27,43,36,36,29,39,27,41,38,30,50,29,41,53,33,37,43,25,40,22,34,48,30,25,40,50,34,28,28,24,44,33,28,28,29,34,38,29,23,31,42,25,35,30,46,26,28,23,39,37,32,52,34,28,31,27,34,47,46,45,27,39,53,35,25,28,34,43,41,46,32,23,52,37,36,32,25,29,22,31,42,39,37,42,24,49,51,32,25,26,33,39,23,43,57,59,50,47,27,27,27,35,45,53,39,38,28,31,25,29,30,29,38,57,31,26,34,39,33,28,43,37,46,46,32,37,39,33,22,42,35,33,39,37,32,51,33,37,49,55,43,35,40,22,29,43,40,44,41,36,45,36,58,25,29,26,44,26,38,29,30,41,26,44,29,28,24,62,28,28,43,25,33,29,30,35,37,44,32,28,35,43,25,41,26,30,28,31,22,41,44,45,28,31,35,41,41,35,29,44,24,62,29,44,36,29,29,45,33,28,26,36,25,45,23,42,35,27,48,26,37,38,40,37,41,34,35,31,46,48,27,26,39,40,38,39,43,46,35,30,40,34,34,41,27,60,53,34,44,30,30,28,32,27,53,28,32,34,50,45,37,37,30,39,36,32,30,31,27,40,49,37,42,24,32,40,46,24,31,35,31,27,42,37,56,34,53,34,25,43,38,33,24,33,29,47,30,26,31,36,41,22,35,36,55,26,53,43,31,22,30,33,49,33,42,40,44,23,24,48,28,32,42,29,25,25,34,34,22,43,24,28,31,29,36,30,41,46,25,41,40,32,51,37,26,24,29,24,27,28,24,28,27,32,34,35,36,42,33,34,35,40,39,47,42,44,41,36,45,38,38,39,45,32,31,42,48,43,38,35,35,33,38,33,39,39,40,35,40,47,44,42,38,37,45,34,40,37,34,34,39,46,33,39,34,35,35,35,47,46,33,34,45,32,44,38,33,32,32,41,42,37,36,34,32,35,41,38,36,32,33,35,40,35,39,36,45,45,47,44,50,51,51,56,51,48,55,61,53,52,50,65,48,52,52,50,52,50,54,51,53,58,66,57,26,42,28,23,24,29,26,22,23,26,22,22,25,26,22,30,31,22,23,23,23,23,23,23,23,24,23,25,25,25,25,25,25,24,24,34,24,28,22,25,26,26,26,26,26,26,26,26,29,29,27,27,28,28,27,28,28,44,39,41,38,31,32,33,28,28,29,29,36,34,38,41,30,34,34,42,36,38,34,37,27,28,29,35,35,45,28,37,26,33,38,27,29,35,29,38,29,41,39,37,34,33,30,43,44,27,30,31,32,47,30,31,28,34,41,39,26,28,28,37,37,45,47,43,44,42,31,43,40,46,38,33,42,43,39,31,37,46,39,37,35,31,48,37,44,39,42,35,43,38,37,33,39,30,37,39,40,34,40,36,43,30,30,31,32,38,40,40,37,48,44,46,46,33,35,33,33,35,31,39,36,29,42,48,29,38,45,29,30,30,32,32,33,39,41,41,43,30,30,38,48,44,45,35,33,49,42,58,53,53,51,55,50,49,54,53,51,49,53,50,48,48,53,69,45,51,52,53,56,51,57,59,54,24,53,23,24,24,28,24,29,25,23,23,26,26,27,24,30,25,22,27,25,26,28,27,27,24,29,31,28,28,29,41,36,35,38,30,30,38,30,37,39,45,48,30,30,32,39,45,36,29,43,28,41,35,30,48,31,33,34,41,27,29,33,35,44,43,38,36,34,31,42,32,35,39,48,36,40,39,32,33,30,34,35,41,38,31,34,46,30,30,47,30,33,36,46,42,39,42,31,37,34,43,38,33,43,39,40,39,40,50,55,63,49,48,50,58,56,49,57,52,50,52,51,53,53,60,61,56,23,59,23,24,25,27,27,27,27,22,25,30,30,30,25,26,28,40,31,29,30,30,33,33,37,34,35,36,27,38,38,23,26,32,40,36,38,34,39,42,49,34,35,36,36,39,41,42,40,46,37,37,37,37,41,43,45,42,27,22,27,29,30,32,31,25,26,26,27,32,28,28,29,29,29,29,24,26,29,31,33,33,34,31,33,27,29,53,35,36,39,37,41,45,35,37,41,47,39,44,34,35,35,45,44,40,38,21,22,21,51,42,30,23,38,27,27,27,27,27,27,26,26,23,23,22,23,24,23,22,22,25,23,22,22,23,23,24,22,23,24,24,24,24,24,44,27,24,23,23,24,24,26,25,25,26,23,24,25,23,27,23,23,24,24,24,24,23,27,25,28,28,28,28,27,26,27,27,26,27,27,27,27,27,26,26,26,27,27,27,28,27,27,27,29,27,27,28,25,25,28,28,28,28,27,27,27,26,29,29,29,29,29,28,29,28,28,28,28,28,29,35,23,29,27,25,23,24,25,31,29,27,35,27,24,24,29,29,29,27,24,24,26,30,30,30,32,32,28,29,29,29,30,31,31,27,28,28,37,31,32,32,32,29,25,26,29,25,42,26,27,32,32,29,33,36,28,31,30,28,31,30,31,30,30,27,30,31,36,35,38,38,41,44,35,38,40,37,49,46,44,35,28,30,32,44,39,36,33,24,47,29,37,29,34,34,22,22,30,32,37,36,26,29,45,47,28,28,31,34,35,35,36,32,41,30,32,35,41,37,26,26,28,34,45,46,26,26,26,34,37,45,39,46,36,46,35,29,29,47,39,45,43,39,46,31,31,33,33,35,40,47,38,42,46,31,31,31,28,28,43,30,35,35,36,45,32,33,37,31,31,37,45,36,45,33,41,36,39,33,41,37,36,41,45,42,37,33,35,39,41,39,36,45,32,34,30,48,38,43,29,30,39,40,32,32,47,40,33,34,34,47,40,38,28,36,47,30,31,31,23,31,37,37,45,40,36,32,34,38,34,34,43,48,37,49,41,38,45,46,34,38,33,32,34,31,38,45,38,47,43,41,33,46,34,40,43,35,37,38,35,35,43,40,45,37,24,25,45,38,27,28,33,49,32,33,34,49,46,35,42,47,38,28,42,31,31,31,32,32,33,32,32,36,34,34,34,34,35,34,38,39,41,42,32,32,33,33,33,34,36,40,38,45,37,45,36,36,36,44,40,44,47,42,49,37,43,43,35,36,37,35,38,49,45,43,39,33,34,31,38,40,48,44,34,45,32,33,32,33,36,34,35,45,31,31,39,37,49,49,41,42,46,42,42,38,46,29,40,43,46,36,39,42,34,39,36,39,44,31,33,34,31,36,38,42,38,41,36,44,43,46,45,32,32,35,50,51,50,50,47,50,50,52,51,52,53,50,50,51,53,50,55,60,47,55,55,52,51,54,51,51,59,54,47,50,58,47,50,50,51,69,59,53,55,54,33,22,23,23,54,32,26,26,23,23,25,25,24,24,25,27,26,26,23,24,28,26,25,27,27,27,27,26,26,26,26,26,28,28,27,27,27,26,29,30,29,28,29,29,30,27,27,28,29,27,28,29,29,28,29,25,28,30,24,24,28,29,29,29,29,27,27,29,29,29,25,25,31,28,30,29,29,29,29,29,31,31,32,29,29,30,31,31,39,34,45,41,35,39,41,31,32,34,45,25,30,30,41,32,33,35,32,32,40,44,47,32,34,29,34,38,34,39,34,46,39,47,45,44,26,27,35,34,38,48,46,37,32,41,43,41,36,30,36,34,33,35,49,47,44,40,49,39,47,43,42,45,33,43,40,39,41,35,44,46,29,46,40,31,32,31,33,31,32,42,42,40,30,31,32,48,38,40,39,43,33,42,36,37,42,35,49,45,36,46,33,41,38,45,38,42,37,34,35,34,43,34,37,43,31,45,31,29,39,42,34,37,30,30,34,32,41,34,38,40,37,43,38,36,38,43,33,34,34,34,35,41,44,38,36,43,46,46,45,30,38,36,35,37,48,43,45,40,37,45,33,35,37,45,36,33,40,46,38,36,40,38,43,36,42,48,43,41,38,45,39,37,38,36,33,39,42,33,37,33,38,42,40,33,34,34,38,40,46,45,37,36,33,46,39,50,50,60,64,59,51,51,52,62,55,55,50,50,52,50,52,53,55,53,58,52,50,55,66,54,52,51,57,56,53,50,56,57,50,50,50,51,52,65,53,56,53,57,54,58,27,26,28,30,35,24,25,28,22,33,28,21,22,22,27,23,22,23,23,21,22,22,22,22,24,24,30,23,23,23,23,23,24,23,22,23,22,29,24,22,23,24,24,24,24,24,25,24,26,25,22,22,22,23,24,24,24,24,25,25,26,25,24,25,23,24,24,25,25,25,25,25,25,23,23,25,25,25,24,24,25,24,25,25,24,24,24,26,26,27,27,26,26,25,26,26,27,27,27,27,27,27,26,26,26,27,31,24,23,24,28,28,26,28,28,27,27,27,27,28,30,28,26,27,28,27,30,30,27,28,29,26,27,26,26,26,27,27,29,29,29,31,29,28,28,26,26,26,29,29,29,31,29,29,29,28,28,29,29,28,28,29,28,45,28,28,25,26,30,26,33,30,22,23,22,25,26,26,22,23,24,32,30,27,33,35,40,49,34,38,36,38,34,37,37,39,27,41,37,36,29,33,34,33,37,33,34,30,31,32,32,32,33,34,34,35,46,41,47,41,38,44,34,36,44,31,32,33,34,36,39,41,40,45,40,41,45,29,30,39,25,29,33,31,32,32,36,39,39,36,38,29,29,37,36,36,30,30,31,32,32,33,31,34,34,35,39,40,45,46,38,41,41,41,49,42,38,33,35,39,27,48,39,26,28,33,31,42,38,36,28,31,41,44,40,35,40,38,42,43,40,37,29,32,31,33,36,49,48,41,48,47,36,30,39,47,36,38,33,47,49,33,38,31,46,31,33,47,38,39,38,33,45,35,45,32,44,39,30,30,31,39,38,39,47,43,36,45,37,36,35,30,32,46,37,43,38,29,44,32,44,30,29,46,36,44,35,35,33,33,32,38,35,48,39,31,34,35,41,32,28,33,35,42,37,28,30,29,33,36,43,31,46,41,35,36,33,33,35,47,44,37,34,45,40,41,42,35,35,40,45,42,37,32,47,43,40,48,35,48,35,46,39,31,42,39,45,46,45,40,42,43,37,40,35,35,46,45,31,31,46,37,43,38,43,45,49,43,35,44,33,38,29,39,31,32,37,43,43,43,34,40,38,36,42,45,32,30,33,31,31,31,31,31,33,29,30,30,30,30,30,30,31,33,29,30,29,35,39,45,38,36,42,41,43,41,40,44,40,39,44,42,49,46,40,47,48,41,41,44,39,40,46,35,37,48,35,47,37,34,35,40,36,35,34,40,41,42,43,42,38,44,41,46,43,49,43,35,37,41,34,34,33,34,34,43,36,30,50,51,50,50,36,50,50,49,53,61,51,51,51,54,58,56,58,52,55,70,53,56,54,50,52,55,61,54,55,50,53,54,52,62,64,56,52,56,55,53,62,53,53,60,58,58,53,55,59,61,60,64,58,62,46,64,58,27,38,29,24,51,54,54,23,24,24,28,27,30,23,24,22,24,22,23,23,24,25,25,24,25,23,25,25,26,24,25,25,25,26,23,24,26,22,26,27,27,28,26,26,26,27,27,28,25,26,25,28,27,28,28,28,28,28,29,30,30,27,28,27,27,28,23,26,26,28,29,33,29,28,29,30,28,27,27,28,28,28,28,29,30,44,33,40,32,25,49,38,44,30,31,31,32,34,45,37,37,35,40,33,32,30,35,45,43,36,37,49,36,43,46,39,41,45,39,32,34,48,45,49,32,34,34,48,31,35,42,45,38,45,39,36,44,36,42,32,38,36,46,41,36,37,42,30,32,42,32,33,30,33,35,46,40,37,37,31,44,40,46,34,45,44,39,47,35,31,33,34,40,31,46,31,42,39,45,47,40,42,44,40,33,29,40,46,42,45,39,43,43,47,37,32,34,31,34,40,44,36,29,48,29,40,34,42,39,41,36,29,29,33,39,40,32,33,34,40,38,41,39,38,42,33,41,36,34,31,32,37,48,42,48,35,37,38,33,35,37,33,42,37,38,36,37,45,38,37,33,33,33,42,30,30,31,31,31,32,32,30,36,31,32,33,40,42,42,32,32,46,42,35,49,49,47,41,46,45,39,35,61,44,44,38,37,48,30,45,46,37,36,36,45,45,38,40,45,33,42,49,42,42,33,39,43,48,34,34,36,42,41,50,50,52,51,50,48,49,53,51,56,62,56,50,59,57,58,56,57,51,52,55,51,51,49,57,79,54,50,50,52,55,52,55,62,54,58,54,52,51,63,55,62,57,58,56,51,51,55,54,54,55,54,54,57,54,58,56,69,28,57,55,47,31,40,47,31,27,33,23,30,32,53,28,36,22,31,25,30,29,24,32,23,24,22,29,28,23,23,46,36,24,22,22,22,23,21,21,22,21,22,22,22,23,23,23,23,24,24,22,23,22,34,23,23,23,23,22,23,23,23,23,23,23,22,22,24,25,23,23,23,24,23,23,29,23,23,23,24,23,23,24,23,23,25,24,25,22,22,22,24,24,24,22,23,24,24,24,24,25,27,23,23,25,25,23,23,23,24,24,26,26,24,22,26,27,27,23,23,23,24,24,25,23,23,27,26,26,25,25,25,25,26,26,25,25,25,25,24,24,24,26,26,27,24,27,24,25,25,25,25,26,26,26,26,26,26,24,26,27,23,25,23,25,25,25,25,25,25,25,24,22,26,26,26,26,26,27,27,27,25,26,26,23,23,24,24,24,24,25,25,25,26,28,27,25,25,25,25,26,24,24,25,25,25,25,26,26,26,27,27,27,27,24,25,24,24,25,25,25,24,26,28,27,27,27,27,28,26,24,24,23,25,26,24,25,26,27,27,27,25,24,25,24,24,25,25,25,27,27,26,25,25,26,26,26,27,28,26,26,26,26,26,26,27,25,24,24,25,26,26,26,27,28,27,28,28,28,29,29,29,29,29,26,26,27,28,22,25,27,27,27,28,22,23,25,26,22,22,28,29,29,29,29,30,30,27,28,28,28,28,25,25,25,25,28,28,27,26,25,27,27,27,28,28,27,30,26,26,25,28,26,26,26,27,28,28,28,28,29,29,28,29,23,24,25,25,26,26,26,27,29,29,29,29,25,26,26,26,26,27,27,29,30,30,30,28,29,29,30,28,28,28,28,28,26,28,29,27,27,29,28,29,30,29,27,26,27,27,28,28,28,28,29,29,29,29,29,29,25,26,26,26,26,26,29,31,31,31,30,27,28,27,27,29,30,26,26,26,27,24,27,29,29,29,31,22,24,24,25,26,27,27,29,34,30,28,27,30,28,28,24,26,26,23,28,29,28,26,27,28,28,29,30,28,27,27,27,23,26,31,30,30,28,30,31,30,32,31,30,31,31,31,30,28,27,27,28,28,29,27,27,28,28,28,29,28,28,28,29,28,28,28,29,28,28,28,29,29,29,26,30,31,31,31,32,28,34,28,28,28,28,30,31,30,30,31,32,32,32,26,23,23,39,30,30,29,30,29,29,29,27,28,28,28,28,28,28,28,29,29,29,32,32,32,33,30,30,30,30,30,31,32,32,31,28,30,30,36,28,29,27,27,29,30,29,30,30,30,29,29,30,37,48,36,27,28,28,28,35,26,30,35,49,34,34,42,36,22,26,43,23,23,29,30,39,46,40,31,42,38,25,28,29,31,31,41,37,40,35,39,35,33,37,39,36,40,45,29,29,31,34,29,37,27,31,34,34,45,37,45,30,25,27,45,28,30,35,28,28,30,31,36,28,44,42,35,34,49,32,32,32,39,31,45,44,33,32,34,34,34,34,35,34,37,37,43,27,31,32,41,29,37,46,38,47,42,37,43,36,39,46,43,38,39,47,36,33,34,40,36,43,38,33,35,39,48,36,44,34,35,35,40,22,24,38,45,37,47,38,38,32,33,27,28,35,40,43,36,22,24,24,37,30,30,31,29,31,34,27,38,40,35,34,36,42,45,38,45,32,32,41,44,38,37,39,49,36,35,35,44,41,42,37,38,44,38,30,44,41,31,31,29,31,31,37,47,37,42,42,40,32,32,32,33,41,41,39,32,40,33,29,34,35,36,42,33,37,38,36,41,40,40,37,39,39,36,31,31,31,33,32,32,42,34,34,33,41,38,39,35,36,38,39,38,38,40,39,41,41,35,35,38,36,48,35,48,43,45,41,31,34,35,44,37,41,49,43,33,41,42,31,31,33,43,43,36,40,43,39,39,35,37,42,42,37,33,35,38,36,38,43,37,48,47,41,29,30,38,42,43,31,32,32,32,32,33,30,31,35,36,40,38,37,42,36,37,32,35,35,27,47,35,45,36,29,35,27,31,33,34,43,37,28,49,38,27,25,26,26,38,30,34,35,42,45,39,23,24,28,28,29,47,27,27,31,47,36,37,44,33,33,33,37,40,38,43,32,41,31,24,32,47,38,40,32,35,39,38,28,48,46,28,28,37,35,41,48,36,28,49,34,27,30,39,44,39,40,29,30,32,32,40,29,31,27,30,38,45,34,29,26,32,33,33,38,34,46,43,43,30,40,30,31,32,38,37,41,46,28,36,41,46,25,43,28,37,42,37,40,37,30,47,47,30,33,42,38,46,43,31,45,32,44,39,31,44,36,29,30,30,38,36,33,45,40,35,32,32,40,36,32,37,38,31,31,34,34,29,38,47,30,29,30,30,30,30,31,32,33,37,45,37,42,44,46,45,35,41,42,41,42,29,29,31,29,29,29,30,30,30,31,32,32,32,32,33,33,33,33,39,44,36,37,40,41,36,34,41,44,37,34,35,38,37,41,37,40,34,39,46,35,40,33,45,37,33,37,38,49,37,33,39,32,40,37,31,47,28,34,41,27,27,28,32,34,35,28,32,27,30,39,44,28,29,30,32,35,39,31,32,38,40,27,30,35,42,30,32,48,45,43,35,40,39,31,47,36,41,38,33,35,35,34,35,35,46,39,35,45,47,40,44,48,37,42,36,42,44,42,45,40,35,40,46,38,41,41,35,45,42,39,43,40,47,40,40,46,43,34,42,37,31,47,36,42,41,41,40,36,43,46,41,32,35,43,33,43,48,35,38,40,43,38,35,44,40,49,32,33,40,37,42,30,31,34,45,45,49,46,47,38,34,34,26,27,34,33,39,38,33,34,34,35,46,39,39,42,38,46,37,38,39,42,31,32,34,48,35,36,41,40,42,37,35,49,42,45,44,40,43,45,44,33,31,31,33,46,40,49,45,44,40,44,31,34,39,36,49,36,36,45,31,31,36,45,42,39,38,45,38,34,36,39,44,39,33,37,38,39,44,35,35,45,45,35,45,35,42,41,44,36,36,35,31,32,37,41,31,32,36,41,32,32,35,45,31,43,34,33,37,48,32,32,33,34,49,41,40,41,41,37,38,39,37,47,43,46,31,37,33,41,42,41,35,36,44,42,30,30,31,30,30,44,39,30,30,36,32,32,44,32,44,44,45,40,36,48,45,32,35,41,44,45,46,43,39,37,33,45,47,48,37,47,40,37,32,41,43,45,45,37,31,36,32,40,41,49,34,35,33,41,43,40,31,31,49,45,33,35,33,42,39,32,42,40,36,39,47,37,29,29,30,30,47,42,46,36,49,44,37,42,33,45,30,32,32,36,30,48,31,43,43,34,37,45,48,43,36,35,44,43,34,41,49,46,37,40,45,49,38,40,35,34,47,37,43,34,34,31,31,33,42,49,39,34,37,43,30,32,33,28,28,28,29,30,32,33,33,42,31,30,32,36,41,30,30,39,44,29,30,35,37,52,54,53,50,59,51,54,53,51,52,53,51,51,52,52,52,51,51,50,51,51,54,56,54,52,52,61,50,55,50,50,52,50,52,50,50,52,52,51,55,58,53,57,51,51,51,51,72,50,55,52,52,52,50,50,50,62,53,50,50,50,55,51,50,51,51,52,52,52,52,52,55,53,53,59,56,53,54,56,62,53,54,55,70,54,57,53,53,56,57,59,69,58,54,55,53,53,55,60,54,53,54,64,64,58,56,55,58,63,65,66,55,39,25,29,26,29,28,22,29,34,35,23,23,22,21,22,24,23,24,23,23,23,25,24,25,24,25,40,23,22,22,37,24,22,23,24,24,32,34,25,21,26,25,26,26,26,27,25,24,24,26,24,25,26,26,27,24,24,24,25,26,26,27,27,27,24,27,27,27,28,28,26,26,26,25,25,23,26,24,27,25,25,25,25,24,24,25,26,26,26,26,25,26,27,27,28,28,25,26,26,28,26,27,26,26,27,27,27,23,25,29,29,28,28,29,28,28,28,26,27,27,27,27,30,24,25,26,29,24,30,30,26,27,27,28,28,29,29,29,26,28,28,28,27,33,30,30,27,27,26,31,28,28,28,28,29,28,29,31,32,28,28,30,25,25,30,30,27,26,27,29,31,29,28,29,29,27,30,30,29,27,31,30,29,29,29,29,29,25,27,29,29,29,31,28,28,29,30,30,30,29,29,26,29,30,30,29,29,32,33,32,32,32,32,29,29,30,30,30,31,30,30,30,31,29,38,28,33,48,31,37,23,24,25,30,47,31,32,41,42,41,35,28,29,38,32,39,28,32,48,37,28,31,36,28,29,42,35,42,36,49,33,34,47,39,42,43,49,40,47,45,40,39,39,39,44,34,34,36,37,41,36,41,46,33,45,45,49,43,22,24,30,33,39,42,41,36,34,40,36,42,37,30,33,35,34,44,42,38,40,30,44,32,37,32,32,32,33,33,33,34,34,33,34,34,42,37,38,49,34,35,49,43,37,49,49,49,43,39,37,43,33,45,48,38,38,37,30,31,31,32,44,37,42,48,33,33,33,44,41,43,49,28,42,28,45,39,29,33,28,38,38,39,40,37,45,43,45,40,32,35,46,31,31,31,33,38,39,38,40,39,34,30,32,30,47,39,29,35,48,35,36,35,41,24,26,25,27,28,30,35,40,49,49,37,34,34,41,30,38,42,38,45,34,39,33,33,35,36,38,42,39,49,39,37,40,40,48,30,32,33,35,31,31,41,41,41,36,30,33,33,41,31,31,36,47,33,44,37,34,42,43,48,41,39,40,41,32,39,33,30,29,41,40,31,40,38,38,32,40,36,37,45,28,41,38,42,41,46,35,38,37,34,34,36,41,39,39,36,38,36,46,40,37,42,44,47,41,42,41,34,39,42,41,38,33,34,32,29,31,36,36,40,37,31,37,40,34,35,44,48,43,36,34,41,41,44,43,44,36,42,38,37,40,40,36,42,38,36,40,37,42,34,31,47,34,45,45,45,36,38,39,49,47,36,39,47,31,38,34,36,40,38,41,34,37,35,33,48,39,41,35,35,36,36,45,39,39,44,42,48,38,41,45,37,36,39,36,44,34,35,34,36,44,49,42,44,40,47,40,33,45,31,32,46,37,43,35,30,32,35,46,36,35,41,46,36,35,31,32,31,30,48,45,40,32,37,38,38,45,40,33,41,44,34,49,41,33,34,47,38,33,41,49,37,32,44,33,34,48,35,43,39,48,48,44,37,35,45,43,49,39,47,42,38,51,54,50,50,50,52,51,55,50,52,52,52,50,54,60,50,51,61,50,54,48,51,52,57,50,59,51,50,50,50,49,63,56,50,51,50,60,51,60,50,47,60,55,47,50,50,50,50,52,51,64,52,59,53,54,53,66,55,53,57,55,53,56,57,64,54,67,58,59,60,55,54,56,55,53,55,57,59,70,56,70,54,54,56,56,53,56,55,57,54,58,54,54,59,54,64,53,53,68,53,57,54,58,69,67,65,58,55,53,53,56,27,37,35,32,30,34,26,24,49,26,34,30,35,27,26,56,28,47,35,29,24,35,25,26,29,28,27,23,24,30,29,51,25,27,28,26,24,28,30,24,30,22,27,29,29,27,29,25,26,26,27,28,28,34,29,28,28,28,27,27,33,29,35,30,23,27,29,28,30,29,28,28,25,34,25,30,28,29,26,24,29,27,38,23,24,25,25,26,26,48,30,33,28,22,22,44,26,35,23,22,23,23,22,22,22,24,24,24,23,23,21,22,22,22,24,23,22,22,23,22,22,23,23,23,22,23,23,23,24,25,25,26,26,22,23,24,21,25,25,31,35,23,24,22,37,38,22,24,22,25,26,24,25,27,21,22,23,25,25,23,23,24,24,24,24,24,24,24,26,23,23,24,24,24,24,24,24,24,24,25,25,26,26,22,23,24,24,25,26,26,25,25,26,26,26,27,27,27,27,27,27,22,23,23,24,24,22,23,24,24,26,23,23,23,25,23,24,24,25,23,24,22,22,24,23,23,24,25,25,27,27,30,25,25,24,25,25,25,25,26,23,24,26,26,23,23,23,23,23,42,24,24,26,26,21,21,22,22,26,27,26,25,26,26,26,24,23,23,21,23,23,23,24,23,23,24,23,25,24,24,22,24,24,24,24,25,23,24,24,24,24,24,25,25,25,25,25,25,26,24,24,25,25,25,25,25,25,25,25,26,26,25,27,24,24,25,25,25,25,25,25,25,24,25,26,26,26,26,24,25,26,26,26,26,27,25,26,24,25,26,26,26,27,29,27,27,27,23,24,24,24,24,26,25,25,27,27,27,27,26,27,27,27,27,26,26,26,27,27,27,26,26,26,27,26,24,25,25,27,23,25,26,24,24,26,22,26,26,27,27,25,26,25,27,27,27,25,27,27,27,27,27,27,27,27,27,27,27,23,24,24,22,23,28,24,24,25,27,25,26,25,29,28,29,27,27,27,27,27,27,27,27,27,27,27,27,28,28,28,28,27,26,27,27,27,28,28,27,27,27,28,28,28,28,28,28,28,24,24,24,25,27,27,27,27,28,28,28,29,29,29,29,29,29,29,26,26,27,27,27,27,28,28,28,29,29,26,27,24,28,28,27,24,25,26,27,27,27,25,26,26,27,27,29,29,28,28,28,28,28,28,28,28,28,28,28,24,25,25,25,24,25,25,25,28,29,29,28,29,29,29,29,29,27,27,27,28,28,28,29,26,27,28,23,23,26,29,27,28,28,29,29,29,28,28,27,28,29,28,28,28,29,28,29,29,29,29,28,28,29,29,29,28,29,30,30,29,31,31,30,28,29,29,29,29,29,29,26,29,28,28,24,23,22,24,22,23,23,42,25,24,24,25,28,26,29,29,29,29,29,29,29,30,30,30,30,30,29,29,29,29,29,29,30,27,27,27,30,28,31,33,29,28,27,27,28,28,28,29,29,28,28,29,29,29,30,31,30,29,29,29,29,30,31,31,31,24,25,23,24,24,31,29,27,27,27,26,26,26,29,28,29,31,30,29,28,28,28,30,31,31,32,32,31,29,32,33,31,29,30,30,31,31,24,22,25,25,26,27,29,29,30,31,31,31,29,31,30,30,29,33,33,28,29,30,30,29,29,30,30,29,30,32,32,29,29,29,29,30,29,29,30,30,30,29,30,31,27,27,27,30,30,30,30,30,31,31,30,27,27,28,28,30,30,24,24,25,27,28,30,29,29,29,28,28,25,25,25,25,26,26,26,28,30,28,28,28,31,31,32,30,31,31,32,32,28,29,31,30,26,27,31,32,32,32,29,29,29,27,32,31,27,28,29,31,32,30,34,30,29,30,31,32,33,33,30,30,30,30,27,27,28,28,28,26,27,29,30,28,37,35,37,37,39,36,36,40,23,34,33,40,37,33,34,35,35,35,39,47,45,38,38,37,38,38,36,36,36,38,37,42,44,41,38,36,44,44,31,31,31,49,41,36,42,38,40,44,48,45,42,44,41,36,36,31,34,36,38,39,46,43,41,35,45,30,34,39,40,46,46,38,37,33,33,40,41,45,40,40,34,46,32,37,43,43,40,36,35,34,38,33,43,47,35,40,46,49,45,36,37,31,33,46,45,31,32,34,35,35,35,38,32,34,43,42,30,47,30,30,31,31,30,32,31,44,48,43,37,33,34,48,31,32,31,37,49,35,39,31,34,48,46,33,36,35,40,41,49,40,41,43,36,43,38,42,43,38,37,45,46,30,32,32,33,37,40,39,34,49,44,36,41,44,34,35,42,38,41,34,38,38,47,45,44,34,33,49,37,42,38,34,43,35,37,34,34,43,36,39,45,37,48,40,41,29,30,33,33,39,41,36,39,30,31,31,31,32,32,33,42,44,47,36,39,36,43,30,38,34,38,32,32,34,35,36,35,31,41,47,34,31,34,37,31,36,33,30,30,41,44,36,44,45,35,35,35,36,35,38,32,31,38,40,32,33,38,47,32,38,34,32,30,30,36,37,40,31,38,34,46,41,33,34,45,35,30,37,34,35,36,26,30,39,38,32,31,36,36,46,30,33,41,44,46,45,36,46,35,33,36,44,34,34,30,38,37,44,30,33,38,35,33,31,35,31,40,42,33,35,38,44,33,36,35,37,46,35,47,41,31,32,42,37,42,34,39,30,30,35,35,38,33,34,36,44,49,36,39,46,30,32,34,47,31,33,32,32,32,43,40,34,34,29,28,29,39,27,28,31,30,30,39,29,35,31,31,36,37,42,36,36,45,30,27,30,33,47,43,27,27,30,32,45,48,37,37,37,33,33,33,34,35,41,27,29,27,29,36,37,43,48,34,31,32,33,32,32,46,29,30,44,43,43,33,28,44,31,34,35,43,34,29,32,34,44,44,46,25,48,46,30,41,30,34,36,33,33,25,27,38,23,27,32,31,43,39,40,43,34,43,40,33,40,37,38,42,44,41,37,46,41,44,35,39,41,49,42,46,40,32,46,45,38,43,45,38,41,37,37,42,43,34,38,40,36,36,36,43,35,45,37,33,34,45,40,42,45,33,46,32,32,32,36,36,37,33,32,41,39,27,28,29,29,29,36,32,46,47,32,33,38,45,38,31,31,32,32,34,41,47,40,37,28,33,33,40,38,32,32,34,45,47,30,36,41,31,32,35,37,28,42,32,30,31,45,47,27,33,30,40,43,33,41,40,29,35,40,28,34,35,41,35,33,34,36,39,37,32,44,37,47,36,37,32,33,34,35,36,35,40,38,47,31,32,32,45,36,33,37,39,33,48,36,45,41,35,46,38,34,35,32,45,39,37,40,45,36,42,36,41,48,48,48,39,33,39,38,48,34,38,44,36,46,46,40,42,43,34,44,39,42,45,34,39,35,41,42,31,43,39,31,32,32,33,33,35,35,49,42,37,42,37,40,39,40,38,45,33,36,37,40,45,43,40,46,38,36,37,39,44,37,42,39,40,35,37,49,49,46,44,42,42,49,37,36,44,42,35,49,35,43,34,35,45,30,31,25,29,31,32,33,35,42,25,37,42,40,32,31,31,31,33,27,29,31,29,34,39,42,41,36,47,35,35,36,40,36,34,34,43,36,29,33,33,33,30,32,33,27,28,29,40,39,37,28,35,40,48,37,49,29,34,34,39,30,31,31,31,47,32,32,34,35,35,36,34,42,34,35,43,37,39,38,32,32,40,48,33,33,34,34,35,48,43,42,30,32,38,44,32,32,39,34,31,34,29,33,40,28,37,33,44,36,31,37,34,39,32,34,40,43,38,33,47,36,45,44,34,34,34,36,33,37,41,44,40,44,46,35,30,31,31,30,31,31,31,31,32,32,31,30,31,31,32,32,33,32,33,33,32,32,32,32,33,33,33,31,31,31,33,33,32,31,31,32,32,31,30,30,32,34,33,36,36,35,45,46,47,36,36,37,45,46,40,36,38,47,36,40,45,33,41,38,44,37,38,39,35,39,36,43,44,39,39,34,34,34,36,36,39,33,37,43,43,37,49,44,40,39,37,38,39,44,37,40,44,41,38,41,39,39,41,42,38,39,39,41,43,44,43,40,42,40,41,44,35,48,42,44,37,39,39,34,35,35,37,34,40,31,36,43,41,38,42,43,43,44,49,39,46,34,35,39,35,31,40,43,35,46,34,34,38,41,37,36,32,33,39,46,41,41,39,33,34,43,48,49,36,37,49,47,43,38,46,52,44,50,63,54,51,53,56,55,54,51,51,51,52,53,52,57,51,50,50,64,59,54,52,50,65,57,52,53,54,58,59,59,52,55,50,51,51,52,53,60,50,51,49,49,57,51,50,55,52,49,59,48,51,65,54,56,59,52,49,49,48,52,51,52,49,53,50,51,62,60,54,53,54,50,52,64,60,53,54,56,55,49,53,51,57,58,49,53,40,47,49,53,55,56,49,50,51,54,53,54,50,50,67,55,53,54,53,51,51,50,51,51,51,51,50,51,52,53,50,53,52,54,54,57,54,65,56,55,52,52,53,54,60,57,57,57,40,30,49,25,26,29,30,30,27,28,29,28,25,27,29,30,27,25,29,30,25,27,30,28,27,23,35,27,30,27,29,23,30,29,36,22,26,22,25,29,22,21,21,25,26,23,22,22,23,24,24,22,22,23,23,23,24,25,26,21,22,23,23,22,21,21,22,26,27,32,26,24,24,24,22,25,29,22,26,24,24,24,23,23,24,24,25,25,24,23,26,26,27,25,26,25,26,25,26,26,23,23,24,25,25,25,25,26,27,30,26,25,24,25,25,25,25,26,26,23,27,27,27,27,23,27,23,24,25,24,25,28,25,26,25,25,25,25,26,26,25,26,26,26,27,28,26,26,27,26,23,25,25,25,27,27,28,27,28,26,26,27,23,24,28,32,27,27,27,27,23,26,27,25,26,25,25,27,28,27,28,27,27,28,29,28,28,28,28,27,28,28,27,28,28,37,28,27,28,28,25,29,26,27,27,29,30,23,24,24,22,27,28,28,29,29,27,28,28,27,28,27,29,29,29,29,29,28,27,27,28,25,29,29,29,28,28,29,27,27,24,28,28,29,29,27,29,27,27,29,28,28,28,29,28,29,29,29,30,28,27,28,28,24,30,30,30,30,27,30,30,30,30,28,28,32,29,28,30,29,30,29,30,30,31,28,31,26,27,25,23,24,31,30,28,28,28,29,29,30,30,31,32,32,30,31,32,31,31,31,31,31,31,29,30,31,30,30,30,31,30,31,30,30,30,30,31,30,31,29,30,29,25,31,31,26,27,28,31,29,32,31,31,30,26,30,31,33,33,32,30,32,29,30,30,31,30,47,35,37,41,37,29,30,29,46,37,30,42,43,41,37,32,32,32,35,35,39,48,35,44,46,33,33,48,49,45,37,39,33,48,34,38,36,36,32,39,32,32,41,36,39,33,41,40,39,34,37,37,41,34,43,41,39,37,38,32,47,39,38,38,40,39,39,49,34,33,33,49,44,38,40,39,43,33,49,49,32,33,36,40,32,34,32,42,32,32,38,40,44,42,38,43,34,38,34,37,36,47,41,40,30,37,41,40,47,37,35,32,41,42,43,31,37,48,39,47,44,31,36,31,35,36,31,41,33,35,33,30,44,36,35,35,49,36,32,34,31,46,33,38,48,33,33,34,45,38,32,39,32,45,48,36,27,42,36,32,34,44,38,32,45,44,33,31,46,36,40,47,41,43,32,46,40,33,34,31,35,32,32,36,47,43,39,47,37,37,39,37,35,35,32,39,41,37,40,42,34,36,30,31,42,42,41,31,31,44,39,42,35,39,34,33,45,36,39,31,33,40,47,36,47,33,35,45,33,34,42,28,35,47,33,28,37,28,29,35,41,37,39,32,37,32,36,33,36,31,41,47,32,38,38,42,32,32,29,43,42,48,46,36,30,28,26,27,28,30,46,36,34,39,39,44,36,42,40,39,33,43,37,41,39,46,47,45,34,41,37,36,34,37,40,47,28,33,34,42,41,37,46,40,41,45,45,44,29,31,40,36,33,47,38,40,37,46,35,43,42,31,41,39,43,38,29,31,40,29,38,36,31,31,40,38,49,37,30,36,34,47,38,47,38,45,39,43,34,40,46,43,36,39,44,38,36,39,49,37,40,34,34,36,35,38,42,33,40,45,40,46,44,41,42,35,39,44,36,46,38,44,32,34,35,41,49,48,46,33,35,41,44,26,26,31,35,36,38,40,36,41,42,45,47,32,36,47,31,37,30,31,31,34,35,35,41,40,43,39,45,41,39,37,28,28,38,46,36,43,37,44,42,46,48,32,32,41,38,42,49,41,36,38,38,37,34,36,35,38,36,43,36,37,46,32,40,36,43,30,29,34,37,32,34,40,30,46,38,39,40,43,33,34,35,31,32,30,31,32,32,32,33,34,33,34,35,38,41,39,35,42,36,34,47,35,39,38,44,35,36,42,44,39,39,39,38,36,34,42,39,37,43,42,43,35,35,29,31,31,31,48,34,35,35,42,41,38,47,44,40,37,35,35,44,38,33,33,43,40,42,43,44,39,46,38,45,45,43,40,49,44,48,35,38,40,37,49,40,50,45,34,49,50,49,52,54,49,65,61,50,50,51,50,51,61,56,57,58,61,53,54,58,55,58,63,52,60,54,52,54,53,56,50,52,54,49,55,54,54,50,50,51,65,48,54,53,50,48,48,50,48,50,59,54,48,47,51,53,53,54,66,55,56,39,63,58,66,50,51,51,54,49,55,50,50,60,53,55,51,57,56,56,51,61,50,50,53,51,50,50,50,51,57,52,50,52,54,56,56,52,52,63,61,75,72,55,37,28,25,46,33,27,24,23,37,34,27,41,28,25,27,29,22,23,21,22,22,21,22,22,22,22,23,23,22,22,22,22,22,23,22,23,25,23,23,23,23,24,22,24,22,23,23,23,23,23,23,23,24,23,23,29,23,24,23,24,24,23,23,24,25,25,24,24,22,24,24,25,25,26,26,24,26,25,26,25,25,25,23,23,24,25,25,26,23,23,23,23,23,24,24,25,25,25,26,25,25,22,22,23,27,26,26,26,24,23,22,26,26,26,27,27,26,22,24,24,24,24,23,25,25,21,25,25,25,24,25,25,25,25,26,27,27,26,25,28,28,27,27,27,29,29,27,28,28,28,28,27,27,27,24,25,25,26,27,22,25,25,26,26,27,27,23,23,22,23,25,26,26,26,26,27,25,25,25,25,24,28,27,27,28,32,26,27,29,28,26,27,29,29,29,28,28,28,29,26,26,25,25,24,26,26,27,26,24,28,28,24,27,27,27,24,23,31,30,27,27,22,31,30,31,26,26,22,22,27,28,28,28,29,27,27,30,30,25,25,28,28,26,27,27,24,25,25,28,27,27,27,25,24,23,23,24,28,34,34,34,24,29,28,24,24,28,29,29,29,31,31,31,31,27,22,22,30,29,29,28,29,31,27,29,29,31,31,32,29,27,30,26,25,24,26,25,25,33,34,34,33,34,33,32,34,31,31,33,32,32,34,33,33,35,35,37,37,38,44,35,37,36,40,39,46,37,42,37,40,42,44,46,28,28,28,30,30,31,39,26,25,27,37,34,34,44,30,46,41,37,32,31,34,34,33,37,37,35,47,38,36,37,35,43,43,45,38,40,38,32,26,44,38,28,32,33,31,29,29,28,30,31,31,29,29,38,48,43,28,30,30,30,30,31,31,32,34,34,35,34,39,36,36,42,44,38,42,29,43,38,36,29,30,31,32,33,33,34,35,34,42,25,26,47,25,27,39,35,38,43,39,46,31,32,41,31,32,38,42,39,41,33,34,34,47,43,46,40,26,34,40,39,27,45,28,43,45,29,29,39,30,45,47,35,36,32,34,35,40,46,38,45,30,38,23,37,31,41,37,47,29,46,39,29,43,33,38,41,28,30,30,31,31,33,30,33,35,28,29,30,31,32,40,31,41,30,31,33,42,44,32,31,33,46,41,32,42,43,37,31,35,37,33,35,38,45,32,31,37,45,38,37,44,35,38,27,27,28,30,35,39,28,35,38,36,35,38,45,45,30,34,46,45,31,35,38,31,32,33,35,45,45,31,37,31,49,33,27,32,35,38,47,37,30,42,35,44,44,44,35,45,46,39,34,35,45,39,38,36,33,39,47,32,29,34,26,33,30,37,26,27,30,45,28,35,33,31,37,32,34,28,36,33,33,35,29,29,32,34,40,34,48,37,33,34,34,28,39,36,29,29,41,41,40,42,48,30,36,35,30,40,30,30,37,36,30,34,33,41,32,41,39,29,32,32,32,48,36,45,42,42,40,29,30,45,38,31,30,30,35,37,45,41,31,31,33,33,34,44,38,44,45,40,40,35,35,40,36,35,37,36,38,37,42,29,32,30,33,41,46,32,31,39,33,39,35,28,44,43,39,44,37,33,38,33,44,40,31,41,37,40,28,29,29,27,31,32,30,30,33,34,34,34,33,47,35,44,42,37,49,46,38,43,29,26,27,39,28,29,29,29,29,30,30,32,32,31,32,31,35,37,38,34,35,36,46,39,38,36,40,38,37,36,39,38,40,45,43,46,46,33,37,31,37,47,36,39,27,38,49,45,39,38,35,38,27,32,32,36,30,30,30,41,47,33,40,35,30,48,36,44,29,29,44,36,37,46,37,30,32,43,42,48,47,35,39,42,35,43,28,33,32,29,31,44,44,38,27,30,34,39,45,37,30,38,43,28,28,35,30,33,33,35,32,33,30,37,31,31,47,45,27,33,29,43,39,27,48,31,33,27,27,47,36,43,27,27,29,31,34,37,42,34,38,40,37,38,28,37,39,29,38,30,44,36,40,48,48,28,31,33,33,37,36,37,30,44,31,31,31,45,28,29,29,29,30,33,33,33,34,34,32,44,46,35,46,47,41,42,38,36,36,37,36,38,35,43,29,40,41,48,30,31,43,35,40,30,34,47,29,34,29,35,44,42,29,42,29,29,31,43,28,29,38,35,30,36,36,42,34,34,48,38,26,30,31,33,42,27,26,26,27,29,29,29,28,31,31,31,31,30,30,31,33,32,32,32,33,35,35,34,34,34,38,43,42,45,35,43,43,37,37,41,43,44,30,38,29,35,36,44,38,41,43,29,30,37,45,44,41,40,46,35,37,38,43,30,46,39,40,41,38,35,41,30,47,39,36,48,37,40,36,43,31,32,36,39,47,38,48,39,36,44,42,33,49,48,50,50,49,48,50,48,49,50,50,49,50,49,49,50,51,49,50,51,50,51,53,50,51,65,50,59,55,54,56,50,50,51,51,52,50,55,52,55,52,52,55,55,49,53,52,69,53,51,55,53,55,59,60,51,52,52,52,53,51,52,52,53,59,62,54,53,50,51,59,51,51,64,50,54,54,53,54,54,51,53,51,53,51,51,51,52,56,55,54,55,50,51,56,53,55,58,53,51,51,51,51,51,58,53,34,55,34,42,39,32,29,30,27,41,35,23,24,23,23,23,23,23,24,24,23,23,22,23,22,23,22,22,25,26,26,22,24,24,25,26,24,24,24,26,23,24,25,24,25,24,24,24,24,24,25,25,24,24,25,26,26,26,24,33,25,28,27,27,27,24,27,26,25,26,27,27,24,25,26,25,26,26,27,27,28,24,23,25,29,29,29,29,27,26,25,27,26,26,26,28,28,22,23,26,25,26,26,27,27,26,24,24,24,24,27,27,27,27,27,29,28,30,29,27,28,27,28,28,28,28,27,27,27,31,25,29,26,25,25,28,29,30,30,32,25,28,29,29,30,30,30,28,29,28,29,27,26,26,27,27,28,28,34,27,31,31,28,27,27,31,31,32,27,28,30,31,32,29,29,30,30,29,29,32,27,29,29,30,34,34,33,34,40,40,39,35,37,38,41,39,47,42,41,46,46,32,39,34,48,40,39,38,39,38,47,40,37,43,38,45,40,37,37,35,40,34,49,32,39,29,29,35,39,36,33,32,38,29,33,29,31,30,49,35,32,39,41,44,37,37,38,40,46,43,38,48,39,41,34,28,48,35,33,38,37,41,38,35,38,35,28,39,39,30,48,38,47,32,31,42,41,44,34,40,44,35,41,34,37,32,35,35,48,44,32,31,32,37,42,31,28,39,38,42,47,42,43,44,45,36,32,38,44,31,40,44,31,46,45,34,48,37,45,41,30,41,40,46,31,34,35,39,46,39,40,43,38,48,35,41,37,43,32,42,41,35,38,46,41,49,29,40,33,35,46,47,45,37,32,40,37,41,35,43,37,36,47,32,32,46,34,45,33,41,45,33,39,39,35,44,39,38,30,34,35,30,34,38,31,29,32,34,39,35,36,36,48,35,30,33,35,43,38,44,34,30,44,32,41,49,36,29,33,33,33,42,43,31,41,40,38,35,35,34,38,45,47,43,47,45,48,42,47,29,30,40,33,38,45,46,36,44,37,47,40,31,42,42,40,44,29,30,34,32,33,33,38,36,36,42,38,48,45,27,46,27,28,28,28,29,34,32,45,37,42,38,43,42,39,47,41,41,41,27,27,35,37,31,42,32,31,31,33,35,34,48,43,32,35,31,38,42,39,29,42,32,35,42,35,39,30,33,34,43,46,28,45,42,35,29,34,41,49,45,32,37,35,39,33,28,44,44,39,37,46,28,32,32,34,30,35,35,40,37,34,30,43,32,48,30,31,31,31,44,44,37,33,34,34,30,49,45,38,44,47,37,43,37,44,33,39,35,30,42,40,39,49,42,31,33,44,33,37,38,40,37,31,33,30,37,30,39,30,45,31,29,29,36,38,27,27,28,28,28,28,29,33,31,31,34,40,44,41,36,36,48,35,35,47,43,37,37,44,46,40,43,39,45,41,45,47,37,37,35,45,44,47,31,45,29,30,37,45,41,36,39,37,35,43,31,44,45,44,35,45,32,44,46,37,32,45,33,32,33,33,33,33,33,42,49,49,50,50,50,50,46,49,51,50,50,50,47,51,50,50,49,49,50,51,51,51,57,54,56,52,53,53,53,53,49,57,48,53,52,58,62,56,59,57,62,48,57,51,59,55,53,67,52,56,53,54,51,56,54,59,57,56,53,57,71,52,62,54,53,52,54,56,63,64,57,56,53,56,57,52,55,53,52,52,54,53,54,54,59,60,61,58,51,52,53,55,59,29,34,29,26,29,28,27,29,28,22,26,26,25,26,28,26,24,22,22,22,23,23,23,24,24,24,23,23,22,22,22,23,23,23,24,23,23,24,24,24,24,24,25,54,23,23,22,23,22,23,21,24,24,24,23,23,24,22,36,24,23,24,23,23,24,24,24,24,25,25,25,26,25,25,25,24,25,25,25,25,24,24,25,23,23,24,25,24,23,25,26,24,24,24,24,24,22,23,23,25,24,24,24,23,25,22,23,25,22,23,24,26,24,24,26,27,23,23,23,22,22,23,25,24,22,24,24,25,25,22,23,24,26,24,24,25,25,24,24,24,25,25,25,25,25,25,24,25,25,25,25,25,25,26,26,26,24,28,26,26,25,25,25,26,25,23,28,26,26,25,26,26,27,26,26,27,27,27,26,25,26,26,26,26,26,27,26,26,24,27,26,26,26,27,27,26,23,27,26,27,27,22,25,25,25,27,27,24,25,25,26,26,27,30,26,27,27,27,29,29,29,26,27,28,28,27,27,27,26,26,26,26,27,29,29,29,29,27,28,28,28,28,25,23,29,29,28,29,29,27,26,26,27,28,27,27,27,28,26,26,26,27,27,28,28,29,25,28,28,27,28,27,27,27,28,28,28,27,29,28,28,29,28,29,25,27,29,26,29,27,29,25,28,29,27,27,28,28,28,28,28,28,27,27,30,29,28,28,28,28,31,29,30,30,30,26,29,29,29,29,30,31,31,30,31,29,29,30,27,24,25,29,28,29,30,28,28,28,27,29,29,27,32,32,30,32,34,30,29,30,29,30,30,29,29,30,28,28,28,28,28,31,30,29,29,31,32,34,33,40,47,36,44,36,33,31,40,44,35,47,48,26,26,46,48,35,41,41,36,36,39,33,40,45,48,46,41,46,41,37,45,29,30,35,39,44,45,35,36,38,43,38,41,43,41,44,39,37,39,43,40,35,49,42,28,38,39,44,42,44,36,45,37,44,36,44,46,41,47,48,36,47,49,32,40,34,42,43,32,35,45,29,46,44,41,30,32,31,31,30,48,44,30,31,31,31,46,32,32,33,33,33,34,48,43,34,34,46,49,48,40,42,42,40,46,38,48,38,36,40,40,41,45,39,37,45,38,47,33,30,30,31,33,33,46,37,34,32,39,41,43,40,43,47,37,46,37,42,41,32,33,33,34,37,48,38,42,41,45,36,48,43,34,43,41,44,43,34,38,31,31,42,40,49,45,36,46,36,42,41,44,38,46,29,29,30,30,31,31,46,42,34,34,41,29,40,30,44,36,36,38,29,34,37,27,29,35,27,28,28,30,32,42,31,31,32,34,34,34,33,41,43,45,40,36,42,36,38,40,40,41,37,36,35,44,36,39,39,42,43,32,32,47,40,40,30,35,38,37,39,42,36,40,36,37,36,44,39,32,33,34,31,42,35,34,42,38,39,42,31,37,40,43,31,33,36,41,47,45,29,28,28,28,28,34,28,28,29,28,29,29,29,30,29,29,32,32,31,31,30,31,33,33,33,33,33,45,34,45,35,37,48,34,40,37,36,42,47,44,45,49,33,37,35,37,45,46,36,42,39,45,34,49,37,35,34,41,45,32,37,36,33,30,47,39,31,44,41,44,39,41,36,37,36,30,31,34,36,37,30,34,35,39,31,46,37,28,28,29,40,42,47,28,31,33,34,30,24,47,34,38,29,30,32,32,34,48,32,32,32,33,30,30,31,35,35,35,39,33,33,34,34,34,37,40,38,41,41,35,39,38,35,36,41,40,43,40,29,29,29,29,30,30,30,44,46,32,34,33,34,32,32,34,34,35,35,35,42,45,49,41,45,38,39,40,41,37,42,41,44,38,47,35,48,39,40,30,35,41,41,42,48,41,41,31,31,31,31,32,32,35,41,41,36,37,39,31,32,38,35,38,44,34,46,49,36,43,33,33,38,46,32,34,44,46,27,40,36,34,27,27,27,28,29,29,28,28,30,30,30,31,31,31,31,32,31,32,33,34,34,34,35,44,35,37,36,42,39,40,46,48,46,39,42,37,44,41,42,39,45,41,44,46,44,44,37,28,30,31,39,29,28,29,31,29,31,30,28,29,29,29,30,32,28,30,29,41,42,34,35,48,28,31,33,33,39,37,34,40,41,37,42,38,39,32,33,32,35,38,36,48,40,32,44,36,42,36,36,32,36,42,44,43,38,31,48,42,42,42,38,34,29,36,45,35,44,36,42,46,37,38,34,36,31,33,46,39,39,38,33,41,40,30,31,37,48,31,39,45,40,35,46,44,37,47,41,44,48,31,46,33,38,37,48,37,49,48,30,32,32,48,48,39,40,37,36,35,46,33,31,41,36,43,42,30,33,44,39,39,40,41,43,42,36,46,45,33,42,41,41,47,46,41,45,28,35,38,45,29,35,40,39,34,41,38,36,39,34,37,38,46,40,33,40,40,43,49,33,45,35,40,37,34,34,37,41,44,31,46,32,34,33,43,40,39,44,42,30,43,37,33,44,29,34,29,43,36,39,34,32,35,40,40,31,34,38,45,44,39,32,33,42,35,31,41,34,35,38,43,41,40,40,43,40,36,34,35,40,34,35,40,40,41,36,40,32,46,41,39,28,29,40,28,29,50,50,50,49,50,49,50,50,54,50,50,58,65,53,55,58,50,57,53,53,52,52,64,54,53,55,55,56,50,50,51,52,52,52,51,55,56,52,56,55,55,56,56,61,56,50,51,52,52,59,56,55,50,50,50,52,56,58,51,54,50,51,57,53,60,54,56,50,50,50,53,54,56,54,52,66,52,52,51,59,50,52,50,51,51,51,52,52,52,51,52,56,56,67,56,54,56,56,55,53,56,53,55,53,58,61,54,64,53,74,58,60,57,56,30,55,41,29,26,24,29,22,22,26,24,27,27,25,35,23,23,23,23,23,23,22,24,23,23,24,24,25,23,24,24,23,24,23,22,24,23,24,24,24,24,23,23,24,24,23,25,25,25,25,25,26,25,24,24,24,25,24,23,25,26,27,26,26,27,27,27,23,26,26,27,27,27,25,25,26,26,25,26,26,27,24,26,25,25,25,26,25,26,26,26,25,26,26,26,26,29,26,26,27,26,28,26,26,26,27,26,26,27,27,27,26,26,26,41,26,27,27,27,26,27,27,28,26,27,27,27,27,27,28,28,28,28,27,27,28,28,29,22,24,26,26,28,27,27,29,29,28,27,28,27,28,28,29,30,27,28,28,27,27,28,27,29,29,28,28,28,28,29,28,28,29,29,29,29,29,27,29,30,30,31,29,28,29,29,28,30,30,30,31,30,30,30,26,26,30,30,30,30,28,28,28,29,29,28,29,30,27,27,30,30,30,31,30,29,30,30,46,42,45,26,27,27,28,31,29,31,31,31,31,30,32,31,31,34,39,42,33,32,38,41,38,41,45,45,47,28,31,33,34,34,35,37,40,43,39,40,42,39,43,34,41,39,32,29,37,48,40,29,33,46,39,47,42,38,34,36,30,34,35,34,45,47,36,35,40,30,31,33,30,29,32,32,33,45,38,38,45,35,38,37,47,41,41,48,33,32,33,39,36,37,48,26,43,33,35,33,40,49,39,40,36,44,38,32,34,37,37,38,37,37,37,39,45,48,32,36,43,39,45,36,42,35,29,29,30,30,31,31,31,32,35,45,32,29,31,34,29,29,34,34,48,42,44,43,41,37,35,37,31,31,32,36,41,39,40,37,39,44,40,36,28,34,37,47,30,31,32,33,43,36,29,29,29,30,30,44,40,48,47,32,31,31,35,43,43,36,44,33,38,48,34,36,39,34,39,35,36,38,37,34,35,49,45,37,48,35,43,31,32,32,34,40,32,34,40,30,39,37,39,43,37,30,40,48,31,44,32,36,49,37,39,29,31,39,34,35,33,32,29,32,32,30,31,36,35,41,35,44,37,35,39,43,31,31,36,33,33,32,32,40,34,34,42,46,37,35,49,35,42,48,37,44,46,41,49,32,30,30,34,34,34,34,36,47,49,39,47,46,36,46,36,44,39,44,39,47,41,40,44,44,42,29,30,31,31,41,35,31,34,36,37,37,49,34,31,46,34,40,37,49,47,37,46,46,34,29,30,30,29,32,30,31,34,32,32,33,33,35,35,40,36,46,38,42,43,41,44,45,40,44,38,37,48,45,38,42,44,46,32,39,32,30,30,30,30,32,30,31,31,32,29,33,30,31,31,32,32,34,33,34,36,37,41,34,39,32,42,44,44,38,30,35,34,34,35,41,43,38,39,43],\"xaxis\":\"x\",\"yaxis\":\"y\",\"type\":\"histogram\"}],                        {\"template\":{\"data\":{\"histogram2dcontour\":[{\"type\":\"histogram2dcontour\",\"colorbar\":{\"outlinewidth\":0,\"ticks\":\"\"},\"colorscale\":[[0.0,\"#0d0887\"],[0.1111111111111111,\"#46039f\"],[0.2222222222222222,\"#7201a8\"],[0.3333333333333333,\"#9c179e\"],[0.4444444444444444,\"#bd3786\"],[0.5555555555555556,\"#d8576b\"],[0.6666666666666666,\"#ed7953\"],[0.7777777777777778,\"#fb9f3a\"],[0.8888888888888888,\"#fdca26\"],[1.0,\"#f0f921\"]]}],\"choropleth\":[{\"type\":\"choropleth\",\"colorbar\":{\"outlinewidth\":0,\"ticks\":\"\"}}],\"histogram2d\":[{\"type\":\"histogram2d\",\"colorbar\":{\"outlinewidth\":0,\"ticks\":\"\"},\"colorscale\":[[0.0,\"#0d0887\"],[0.1111111111111111,\"#46039f\"],[0.2222222222222222,\"#7201a8\"],[0.3333333333333333,\"#9c179e\"],[0.4444444444444444,\"#bd3786\"],[0.5555555555555556,\"#d8576b\"],[0.6666666666666666,\"#ed7953\"],[0.7777777777777778,\"#fb9f3a\"],[0.8888888888888888,\"#fdca26\"],[1.0,\"#f0f921\"]]}],\"heatmap\":[{\"type\":\"heatmap\",\"colorbar\":{\"outlinewidth\":0,\"ticks\":\"\"},\"colorscale\":[[0.0,\"#0d0887\"],[0.1111111111111111,\"#46039f\"],[0.2222222222222222,\"#7201a8\"],[0.3333333333333333,\"#9c179e\"],[0.4444444444444444,\"#bd3786\"],[0.5555555555555556,\"#d8576b\"],[0.6666666666666666,\"#ed7953\"],[0.7777777777777778,\"#fb9f3a\"],[0.8888888888888888,\"#fdca26\"],[1.0,\"#f0f921\"]]}],\"heatmapgl\":[{\"type\":\"heatmapgl\",\"colorbar\":{\"outlinewidth\":0,\"ticks\":\"\"},\"colorscale\":[[0.0,\"#0d0887\"],[0.1111111111111111,\"#46039f\"],[0.2222222222222222,\"#7201a8\"],[0.3333333333333333,\"#9c179e\"],[0.4444444444444444,\"#bd3786\"],[0.5555555555555556,\"#d8576b\"],[0.6666666666666666,\"#ed7953\"],[0.7777777777777778,\"#fb9f3a\"],[0.8888888888888888,\"#fdca26\"],[1.0,\"#f0f921\"]]}],\"contourcarpet\":[{\"type\":\"contourcarpet\",\"colorbar\":{\"outlinewidth\":0,\"ticks\":\"\"}}],\"contour\":[{\"type\":\"contour\",\"colorbar\":{\"outlinewidth\":0,\"ticks\":\"\"},\"colorscale\":[[0.0,\"#0d0887\"],[0.1111111111111111,\"#46039f\"],[0.2222222222222222,\"#7201a8\"],[0.3333333333333333,\"#9c179e\"],[0.4444444444444444,\"#bd3786\"],[0.5555555555555556,\"#d8576b\"],[0.6666666666666666,\"#ed7953\"],[0.7777777777777778,\"#fb9f3a\"],[0.8888888888888888,\"#fdca26\"],[1.0,\"#f0f921\"]]}],\"surface\":[{\"type\":\"surface\",\"colorbar\":{\"outlinewidth\":0,\"ticks\":\"\"},\"colorscale\":[[0.0,\"#0d0887\"],[0.1111111111111111,\"#46039f\"],[0.2222222222222222,\"#7201a8\"],[0.3333333333333333,\"#9c179e\"],[0.4444444444444444,\"#bd3786\"],[0.5555555555555556,\"#d8576b\"],[0.6666666666666666,\"#ed7953\"],[0.7777777777777778,\"#fb9f3a\"],[0.8888888888888888,\"#fdca26\"],[1.0,\"#f0f921\"]]}],\"mesh3d\":[{\"type\":\"mesh3d\",\"colorbar\":{\"outlinewidth\":0,\"ticks\":\"\"}}],\"scatter\":[{\"fillpattern\":{\"fillmode\":\"overlay\",\"size\":10,\"solidity\":0.2},\"type\":\"scatter\"}],\"parcoords\":[{\"type\":\"parcoords\",\"line\":{\"colorbar\":{\"outlinewidth\":0,\"ticks\":\"\"}}}],\"scatterpolargl\":[{\"type\":\"scatterpolargl\",\"marker\":{\"colorbar\":{\"outlinewidth\":0,\"ticks\":\"\"}}}],\"bar\":[{\"error_x\":{\"color\":\"#2a3f5f\"},\"error_y\":{\"color\":\"#2a3f5f\"},\"marker\":{\"line\":{\"color\":\"#E5ECF6\",\"width\":0.5},\"pattern\":{\"fillmode\":\"overlay\",\"size\":10,\"solidity\":0.2}},\"type\":\"bar\"}],\"scattergeo\":[{\"type\":\"scattergeo\",\"marker\":{\"colorbar\":{\"outlinewidth\":0,\"ticks\":\"\"}}}],\"scatterpolar\":[{\"type\":\"scatterpolar\",\"marker\":{\"colorbar\":{\"outlinewidth\":0,\"ticks\":\"\"}}}],\"histogram\":[{\"marker\":{\"pattern\":{\"fillmode\":\"overlay\",\"size\":10,\"solidity\":0.2}},\"type\":\"histogram\"}],\"scattergl\":[{\"type\":\"scattergl\",\"marker\":{\"colorbar\":{\"outlinewidth\":0,\"ticks\":\"\"}}}],\"scatter3d\":[{\"type\":\"scatter3d\",\"line\":{\"colorbar\":{\"outlinewidth\":0,\"ticks\":\"\"}},\"marker\":{\"colorbar\":{\"outlinewidth\":0,\"ticks\":\"\"}}}],\"scattermapbox\":[{\"type\":\"scattermapbox\",\"marker\":{\"colorbar\":{\"outlinewidth\":0,\"ticks\":\"\"}}}],\"scatterternary\":[{\"type\":\"scatterternary\",\"marker\":{\"colorbar\":{\"outlinewidth\":0,\"ticks\":\"\"}}}],\"scattercarpet\":[{\"type\":\"scattercarpet\",\"marker\":{\"colorbar\":{\"outlinewidth\":0,\"ticks\":\"\"}}}],\"carpet\":[{\"aaxis\":{\"endlinecolor\":\"#2a3f5f\",\"gridcolor\":\"white\",\"linecolor\":\"white\",\"minorgridcolor\":\"white\",\"startlinecolor\":\"#2a3f5f\"},\"baxis\":{\"endlinecolor\":\"#2a3f5f\",\"gridcolor\":\"white\",\"linecolor\":\"white\",\"minorgridcolor\":\"white\",\"startlinecolor\":\"#2a3f5f\"},\"type\":\"carpet\"}],\"table\":[{\"cells\":{\"fill\":{\"color\":\"#EBF0F8\"},\"line\":{\"color\":\"white\"}},\"header\":{\"fill\":{\"color\":\"#C8D4E3\"},\"line\":{\"color\":\"white\"}},\"type\":\"table\"}],\"barpolar\":[{\"marker\":{\"line\":{\"color\":\"#E5ECF6\",\"width\":0.5},\"pattern\":{\"fillmode\":\"overlay\",\"size\":10,\"solidity\":0.2}},\"type\":\"barpolar\"}],\"pie\":[{\"automargin\":true,\"type\":\"pie\"}]},\"layout\":{\"autotypenumbers\":\"strict\",\"colorway\":[\"#636efa\",\"#EF553B\",\"#00cc96\",\"#ab63fa\",\"#FFA15A\",\"#19d3f3\",\"#FF6692\",\"#B6E880\",\"#FF97FF\",\"#FECB52\"],\"font\":{\"color\":\"#2a3f5f\"},\"hovermode\":\"closest\",\"hoverlabel\":{\"align\":\"left\"},\"paper_bgcolor\":\"white\",\"plot_bgcolor\":\"#E5ECF6\",\"polar\":{\"bgcolor\":\"#E5ECF6\",\"angularaxis\":{\"gridcolor\":\"white\",\"linecolor\":\"white\",\"ticks\":\"\"},\"radialaxis\":{\"gridcolor\":\"white\",\"linecolor\":\"white\",\"ticks\":\"\"}},\"ternary\":{\"bgcolor\":\"#E5ECF6\",\"aaxis\":{\"gridcolor\":\"white\",\"linecolor\":\"white\",\"ticks\":\"\"},\"baxis\":{\"gridcolor\":\"white\",\"linecolor\":\"white\",\"ticks\":\"\"},\"caxis\":{\"gridcolor\":\"white\",\"linecolor\":\"white\",\"ticks\":\"\"}},\"coloraxis\":{\"colorbar\":{\"outlinewidth\":0,\"ticks\":\"\"}},\"colorscale\":{\"sequential\":[[0.0,\"#0d0887\"],[0.1111111111111111,\"#46039f\"],[0.2222222222222222,\"#7201a8\"],[0.3333333333333333,\"#9c179e\"],[0.4444444444444444,\"#bd3786\"],[0.5555555555555556,\"#d8576b\"],[0.6666666666666666,\"#ed7953\"],[0.7777777777777778,\"#fb9f3a\"],[0.8888888888888888,\"#fdca26\"],[1.0,\"#f0f921\"]],\"sequentialminus\":[[0.0,\"#0d0887\"],[0.1111111111111111,\"#46039f\"],[0.2222222222222222,\"#7201a8\"],[0.3333333333333333,\"#9c179e\"],[0.4444444444444444,\"#bd3786\"],[0.5555555555555556,\"#d8576b\"],[0.6666666666666666,\"#ed7953\"],[0.7777777777777778,\"#fb9f3a\"],[0.8888888888888888,\"#fdca26\"],[1.0,\"#f0f921\"]],\"diverging\":[[0,\"#8e0152\"],[0.1,\"#c51b7d\"],[0.2,\"#de77ae\"],[0.3,\"#f1b6da\"],[0.4,\"#fde0ef\"],[0.5,\"#f7f7f7\"],[0.6,\"#e6f5d0\"],[0.7,\"#b8e186\"],[0.8,\"#7fbc41\"],[0.9,\"#4d9221\"],[1,\"#276419\"]]},\"xaxis\":{\"gridcolor\":\"white\",\"linecolor\":\"white\",\"ticks\":\"\",\"title\":{\"standoff\":15},\"zerolinecolor\":\"white\",\"automargin\":true,\"zerolinewidth\":2},\"yaxis\":{\"gridcolor\":\"white\",\"linecolor\":\"white\",\"ticks\":\"\",\"title\":{\"standoff\":15},\"zerolinecolor\":\"white\",\"automargin\":true,\"zerolinewidth\":2},\"scene\":{\"xaxis\":{\"backgroundcolor\":\"#E5ECF6\",\"gridcolor\":\"white\",\"linecolor\":\"white\",\"showbackground\":true,\"ticks\":\"\",\"zerolinecolor\":\"white\",\"gridwidth\":2},\"yaxis\":{\"backgroundcolor\":\"#E5ECF6\",\"gridcolor\":\"white\",\"linecolor\":\"white\",\"showbackground\":true,\"ticks\":\"\",\"zerolinecolor\":\"white\",\"gridwidth\":2},\"zaxis\":{\"backgroundcolor\":\"#E5ECF6\",\"gridcolor\":\"white\",\"linecolor\":\"white\",\"showbackground\":true,\"ticks\":\"\",\"zerolinecolor\":\"white\",\"gridwidth\":2}},\"shapedefaults\":{\"line\":{\"color\":\"#2a3f5f\"}},\"annotationdefaults\":{\"arrowcolor\":\"#2a3f5f\",\"arrowhead\":0,\"arrowwidth\":1},\"geo\":{\"bgcolor\":\"white\",\"landcolor\":\"#E5ECF6\",\"subunitcolor\":\"white\",\"showland\":true,\"showlakes\":true,\"lakecolor\":\"white\"},\"title\":{\"x\":0.05},\"mapbox\":{\"style\":\"light\"}}},\"xaxis\":{\"anchor\":\"y\",\"domain\":[0.0,1.0],\"title\":{\"text\":\"Age\"}},\"yaxis\":{\"anchor\":\"x\",\"domain\":[0.0,1.0],\"title\":{\"text\":\"Number of Customers\"}},\"legend\":{\"title\":{\"text\":\"Payment Status\"},\"tracegroupgap\":0},\"title\":{\"text\":\"Distribution by Age\"},\"barmode\":\"group\"},                        {\"responsive\": true}                    ).then(function(){\n",
              "                            \n",
              "var gd = document.getElementById('30530841-dc8a-4faf-8c52-07940f9361e1');\n",
              "var x = new MutationObserver(function (mutations, observer) {{\n",
              "        var display = window.getComputedStyle(gd).display;\n",
              "        if (!display || display === 'none') {{\n",
              "            console.log([gd, 'removed!']);\n",
              "            Plotly.purge(gd);\n",
              "            observer.disconnect();\n",
              "        }}\n",
              "}});\n",
              "\n",
              "// Listen for the removal of the full notebook cells\n",
              "var notebookContainer = gd.closest('#notebook-container');\n",
              "if (notebookContainer) {{\n",
              "    x.observe(notebookContainer, {childList: true});\n",
              "}}\n",
              "\n",
              "// Listen for the clearing of the current output cell\n",
              "var outputEl = gd.closest('.output');\n",
              "if (outputEl) {{\n",
              "    x.observe(outputEl, {childList: true});\n",
              "}}\n",
              "\n",
              "                        })                };                            </script>        </div>\n",
              "</body>\n",
              "</html>"
            ]
          },
          "metadata": {}
        }
      ]
    },
    {
      "cell_type": "code",
      "source": [
        "# Let's check the education\n",
        "fig_edu = px.histogram(\n",
        "    combined_data,\n",
        "    x=\"education\",\n",
        "    color=\"default\",\n",
        "    color_discrete_map={0: \"#636EFA\", 1 : \"#EF553B\"},\n",
        "    title=\"Distribution by Education\",\n",
        "    text_auto=True,\n",
        "    barmode=\"group\"\n",
        ")\n",
        "\n",
        "fig_edu.update_layout(bargap=0.2,\n",
        "                      yaxis_title=\"Number of Customers\",\n",
        "                      xaxis_title=\"Education\",\n",
        "                      legend=dict(\n",
        "                          title_text=\"Payment Status\"\n",
        "                      ))\n",
        "\n",
        "fig_edu.for_each_trace(lambda t: t.update(name=t.name.replace('0', 'Not Default').replace('1', 'Default')))\n",
        "\n",
        "#fig_edu.update_traces(texttemplate=percent_edu['percentage'].apply(lambda x: '{0:1.2f}%'.format(x)), textposition='outside')\n",
        "\n",
        "fig_edu.update_xaxes(\n",
        "    ticktext=['Graduate', 'University', 'High School', 'Others'],\n",
        "    tickvals=[1,2,3,4]\n",
        ")\n",
        "\n",
        "\n",
        "fig_edu.show(\"png\")"
      ],
      "metadata": {
        "colab": {
          "base_uri": "https://localhost:8080/",
          "height": 542
        },
        "id": "z9dCJoA1rpwu",
        "outputId": "5758eccf-f775-4352-c0ce-3cb75ba7b620"
      },
      "execution_count": 19,
      "outputs": [
        {
          "output_type": "display_data",
          "data": {
            "text/html": [
              "<html>\n",
              "<head><meta charset=\"utf-8\" /></head>\n",
              "<body>\n",
              "    <div>            <script src=\"https://cdnjs.cloudflare.com/ajax/libs/mathjax/2.7.5/MathJax.js?config=TeX-AMS-MML_SVG\"></script><script type=\"text/javascript\">if (window.MathJax && window.MathJax.Hub && window.MathJax.Hub.Config) {window.MathJax.Hub.Config({SVG: {font: \"STIX-Web\"}});}</script>                <script type=\"text/javascript\">window.PlotlyConfig = {MathJaxConfig: 'local'};</script>\n",
              "        <script charset=\"utf-8\" src=\"https://cdn.plot.ly/plotly-2.35.2.min.js\"></script>                <div id=\"efca4263-5837-4883-8efe-0788306ea26e\" class=\"plotly-graph-div\" style=\"height:525px; width:100%;\"></div>            <script type=\"text/javascript\">                                    window.PLOTLYENV=window.PLOTLYENV || {};                                    if (document.getElementById(\"efca4263-5837-4883-8efe-0788306ea26e\")) {                    Plotly.newPlot(                        \"efca4263-5837-4883-8efe-0788306ea26e\",                        [{\"alignmentgroup\":\"True\",\"bingroup\":\"x\",\"hovertemplate\":\"default=1\\u003cbr\\u003eeducation=%{x}\\u003cbr\\u003ecount=%{y}\\u003cextra\\u003e\\u003c\\u002fextra\\u003e\",\"legendgroup\":\"1\",\"marker\":{\"color\":\"#EF553B\",\"pattern\":{\"shape\":\"\"}},\"name\":\"Default\",\"offsetgroup\":\"1\",\"orientation\":\"v\",\"showlegend\":true,\"texttemplate\":\"%{value}\",\"x\":[2,2,2,1,2,2,1,1,2,1,1,1,4,3,3,1,2,1,2,2,2,2,3,1,1,2,3,1,2,3,1,2,1,2,3,1,2,3,1,3,2,2,3,1,1,3,2,2,1,2,1,3,2,2,2,3,2,2,1,3,2,1,2,1,2,1,2,2,1,1,3,3,2,2,2,2,2,2,2,2,2,2,1,2,2,1,2,2,2,2,2,3,1,2,1,1,1,2,1,2,3,1,1,2,1,1,1,1,2,1,1,3,2,2,1,1,2,2,1,2,2,2,3,2,1,3,1,1,1,2,1,2,1,3,2,3,1,3,2,1,2,1,2,1,2,1,2,3,2,3,2,3,2,1,2,2,2,1,2,3,1,2,2,2,2,1,1,1,2,2,3,3,3,2,1,2,3,1,2,2,3,1,3,3,2,3,2,1,1,3,1,1,1,1,2,2,2,2,1,1,1,1,1,3,2,2,2,1,3,1,1,1,1,2,1,3,1,3,2,1,2,3,2,1,3,3,3,3,2,3,2,2,1,2,2,3,2,2,2,2,3,2,2,2,2,2,2,1,2,1,2,2,2,2,2,3,2,3,2,3,1,2,3,2,2,2,2,2,3,1,1,1,2,3,2,1,3,2,1,2,3,2,2,2,2,3,2,3,1,1,2,1,2,2,3,2,2,2,1,2,1,2,2,1,1,3,1,1,3,1,2,3,2,1,3,2,3,1,2,1,1,2,1,3,3,1,2,2,2,2,2,1,2,1,3,3,1,2,1,1,1,1,1,1,2,2,3,2,1,2,3,2,1,1,1,2,1,2,2,2,3,2,2,1,3,1,3,1,3,2,2,1,2,2,2,1,2,1,1,2,2,2,3,2,2,3,2,1,2,1,2,3,2,2,3,1,1,3,2,1,2,3,2,2,2,2,1,3,1,2,1,1,2,1,1,1,1,2,1,1,1,1,2,1,1,2,1,1,1,3,1,2,2,1,2,2,2,2,3,2,2,2,2,2,2,2,2,3,2,2,3,2,2,1,3,1,3,1,2,2,2,2,3,1,3,1,2,1,3,3,2,1,1,1,2,3,1,2,1,2,2,2,1,2,1,1,1,3,3,2,1,2,2,3,2,2,3,3,3,3,1,1,1,2,1,2,1,2,2,2,2,1,1,3,2,2,1,2,2,3,1,3,2,2,2,3,2,1,2,1,2,2,1,3,2,1,2,2,1,3,2,1,2,3,3,2,1,1,2,1,2,2,2,1,3,3,1,1,3,2,3,1,1,1,2,3,2,2,1,2,1,3,1,1,1,3,3,3,2,3,3,3,2,3,2,2,2,1,2,1,3,3,2,1,1,1,1,1,1,1,2,4,1,1,1,2,1,1,2,2,2,1,3,2,2,2,1,2,2,2,1,3,1,2,1,1,2,2,2,1,3,3,2,2,2,1,2,2,2,1,1,1,1,1,2,3,2,2,1,2,2,2,1,2,2,1,2,1,1,2,3,2,3,1,2,2,2,2,3,1,3,1,3,3,3,3,3,1,1,1,1,3,1,1,1,1,3,2,1,3,1,2,2,2,2,2,3,2,2,1,1,1,2,1,1,1,2,1,2,2,1,1,1,2,2,3,3,2,1,2,3,2,2,2,2,2,3,1,1,2,1,2,2,2,2,2,1,2,1,1,1,3,1,1,2,3,2,2,2,3,2,2,2,1,2,2,2,2,2,2,3,2,2,1,3,2,1,2,2,1,2,2,2,1,1,2,1,1,3,1,2,3,1,2,1,2,1,2,1,3,2,1,2,2,3,2,2,2,1,1,1,3,1,3,2,3,2,2,2,2,3,3,1,1,2,3,2,2,2,1,3,2,2,2,2,2,1,2,2,3,2,3,1,2,1,3,2,2,1,3,1,1,2,2,2,2,2,3,1,3,3,2,3,1,3,3,1,2,2,3,2,2,2,3,2,2,2,2,1,2,2,3,1,3,1,3,1,1,1,1,2,2,3,3,2,4,1,2,2,2,1,2,1,1,3,2,2,2,2,1,3,2,1,2,2,1,3,3,2,2,2,1,2,2,2,1,1,2,1,3,2,3,2,2,1,2,1,2,3,2,2,2,2,2,1,1,2,2,2,2,2,2,2,1,1,1,2,2,3,2,2,3,2,1,2,1,2,3,2,2,3,2,1,2,1,2,2,1,2,1,1,3,3,1,2,2,2,2,2,1,1,3,1,1,1,1,3,2,3,1,2,2,2,3,2,1,1,2,1,2,1,3,1,3,2,3,1,2,2,2,2,3,1,2,2,1,2,1,1,2,2,3,3,1,2,3,1,1,2,2,1,2,1,3,2,3,3,2,3,3,2,2,2,3,4,3,1,1,2,2,3,2,2,1,1,2,1,2,2,2,2,2,2,2,3,1,2,3,2,1,3,3,1,3,2,2,1,2,2,1,1,2,1,2,2,1,1,2,2,2,2,2,2,1,2,3,1,1,1,1,2,3,1,1,2,2,2,1,1,1,2,1,1,3,1,1,2,2,2,2,3,2,2,1,2,2,3,3,2,2,3,1,2,2,1,3,1,1,1,2,1,2,1,2,2,3,3,2,1,1,1,2,2,3,1,2,1,2,2,1,1,1,2,2,2,2,3,2,1,2,2,2,2,2,1,2,2,1,2,1,1,2,1,2,3,1,1,3,3,3,1,1,3,2,3,1,2,1,1,3,2,2,1,2,3,2,2,2,3,2,2,1,3,1,3,1,2,3,2,1,2,3,2,2,2,3,2,2,2,3,3,2,2,2,2,2,2,2,2,1,2,3,2,2,2,2,2,1,1,1,1,1,1,1,1,1,3,1,2,2,2,3,3,3,2,2,1,1,2,2,2,1,1,3,1,1,1,1,2,2,1,1,2,2,1,2,2,3,1,3,2,2,1,3,1,2,2,2,3,1,2,1,3,2,2,1,1,2,1,1,2,2,3,2,1,3,2,2,2,1,1,3,2,1,2,1,2,2,2,1,1,1,2,1,2,1,2,1,1,2,2,1,3,2,3,2,2,1,2,2,2,2,1,1,2,1,2,1,2,3,3,1,1,1,2,1,2,2,1,1,3,2,1,2,1,2,1,1,1,1,2,1,1,2,2,1,2,2,2,1,1,1,2,1,2,1,2,1,2,2,2,2,1,2,3,2,2,1,1,1,2,1,3,2,2,1,1,2,2,1,1,3,2,3,1,2,1,2,2,1,2,2,1,3,2,3,2,3,2,2,2,3,2,2,3,2,2,3,1,3,4,3,1,1,2,2,3,2,3,2,2,2,2,2,3,2,2,3,2,2,3,2,3,3,1,2,2,1,2,1,1,2,2,1,1,2,2,2,1,2,1,1,2,2,1,2,3,3,1,3,2,1,2,2,2,1,2,3,2,2,2,1,2,2,2,1,2,2,2,2,2,3,1,1,1,1,2,2,2,1,2,2,2,2,3,2,1,1,1,2,2,3,1,2,2,2,2,2,2,1,2,1,1,2,2,3,3,1,3,2,2,2,1,2,1,3,2,3,3,1,2,2,2,1,2,2,1,1,1,1,2,2,2,1,1,1,2,2,2,1,1,1,2,2,1,3,2,1,2,2,2,2,2,2,2,2,2,2,3,3,2,1,1,2,1,3,3,2,2,1,2,2,2,3,1,1,1,3,1,3,2,2,1,2,1,2,1,1,1,1,2,3,2,1,2,1,2,1,2,2,2,2,3,2,2,1,2,1,2,3,2,1,3,1,1,1,2,3,2,3,1,1,2,1,2,2,2,2,2,2,2,2,2,1,2,1,1,1,2,2,2,1,1,2,1,1,2,2,1,1,2,1,3,2,2,3,2,1,2,2,3,2,3,3,2,2,2,2,3,3,2,2,2,2,1,1,3,2,1,1,1,2,2,2,2,2,2,3,3,1,3,2,1,2,2,2,2,2,3,2,1,2,1,2,2,2,2,2,1,2,1,1,1,2,2,2,2,2,1,1,1,2,2,2,2,1,2,1,2,1,2,1,2,2,2,2,2,2,2,3,1,2,2,2,2,1,2,2,1,1,3,2,2,1,3,1,2,3,2,2,2,3,3,1,1,1,2,2,1,2,1,1,1,1,2,3,1,2,1,1,1,1,2,1,1,2,1,2,2,2,2,3,2,2,1,1,3,2,2,2,2,3,1,3,1,1,1,2,2,2,1,1,2,2,1,3,1,1,2,2,2,2,2,2,1,1,2,1,1,2,2,3,2,2,3,1,2,1,2,3,1,2,1,1,2,2,1,1,3,1,1,1,2,2,2,2,1,1,1,2,2,2,2,3,1,3,1,3,1,2,1,2,3,2,1,1,2,1,2,2,2,1,2,1,2,1,2,1,1,1,1,1,2,2,3,2,1,3,2,2,3,2,3,2,2,2,2,1,1,1,2,1,3,3,2,1,1,2,3,3,3,1,1,3,1,2,1,1,2,2,2,1,2,3,1,1,1,1,1,1,1,3,2,3,2,1,2,3,2,1,3,2,2,1,2,3,2,3,1,2,3,1,1,1,1,2,1,1,2,2,2,2,1,1,2,3,3,1,2,1,1,1,1,1,1,2,1,1,1,2,2,1,2,3,2,3,1,1,1,2,1,2,3,2,3,1,2,1,2,2,3,2,1,3,3,3,2,2,1,3,2,2,2,2,2,2,2,2,1,1,3,1,1,2,1,2,1,3,1,2,2,1,2,1,2,2,2,1,1,2,2,2,2,1,2,2,2,1,1,2,2,2,2,2,1,2,1,2,2,1,2,3,3,2,2,3,2,2,1,1,2,2,2,2,1,2,2,2,2,2,2,1,2,1,1,1,1,3,3,3,2,3,2,2,2,2,2,2,2,3,2,2,1,3,2,2,3,1,2,1,1,1,1,2,1,1,3,1,3,2,2,3,2,2,1,2,1,2,1,3,2,2,3,2,2,2,2,2,1,3,1,1,3,2,2,1,2,1,2,2,1,2,1,3,3,1,2,3,2,2,1,2,1,2,1,1,3,3,3,1,1,1,2,1,2,3,3,4,2,1,2,1,2,1,2,2,2,1,1,2,1,2,1,1,2,2,2,2,2,1,1,1,2,2,2,3,1,2,1,2,1,2,1,1,1,3,2,2,1,2,1,1,2,3,3,1,2,1,2,2,2,1,2,2,1,1,1,3,2,2,2,2,3,1,3,3,2,2,3,2,3,2,3,2,2,2,2,3,1,3,2,2,1,2,2,1,3,1,2,2,2,1,2,2,1,1,2,2,2,3,1,1,2,1,2,1,1,2,1,1,2,2,1,3,2,1,1,1,2,1,2,2,2,1,2,1,2,2,2,1,2,2,3,1,2,1,1,3,1,1,3,2,1,2,3,3,2,3,1,1,3,3,1,2,2,1,1,2,2,3,2,1,1,2,2,2,1,2,2,3,3,3,4,2,2,2,1,2,2,2,2,2,1,2,1,2,1,2,3,1,2,1,2,1,1,2,2,2,3,1,2,2,1,2,2,2,2,2,3,1,1,1,1,1,2,2,1,1,2,2,2,3,1,3,1,1,2,1,1,2,2,2,1,1,2,2,1,2,1,2,2,2,1,3,2,1,1,1,1,2,2,1,1,2,1,3,2,2,3,1,2,2,3,1,2,1,2,2,1,2,2,2,1,2,3,2,2,3,2,3,1,1,1,1,1,2,2,2,2,2,2,1,3,1,2,1,1,2,3,2,1,1,2,3,2,2,1,3,2,2,2,2,2,3,1,1,1,3,2,1,3,2,1,1,3,2,3,2,1,2,2,2,2,2,3,3,2,1,2,2,3,2,1,2,2,1,1,1,2,1,1,2,1,2,1,1,2,2,2,2,2,2,3,2,2,3,2,3,1,2,2,2,2,3,1,1,2,1,1,2,2,2,2,2,1,2,2,2,3,2,3,3,1,2,1,2,2,1,1,2,3,1,2,1,2,1,1,2,1,2,2,4,2,2,1,3,2,2,1,3,1,2,1,2,3,2,2,2,2,2,1,2,2,3,2,1,3,2,1,2,3,2,1,2,2,2,2,3,2,1,3,1,2,3,2,1,1,2,2,2,3,2,2,2,2,2,3,2,3,3,1,1,1,2,1,2,2,2,2,2,2,1,2,2,2,1,2,2,3,2,1,3,2,3,1,2,2,2,1,2,2,1,3,2,2,2,1,2,2,1,3,2,2,2,3,1,1,2,1,1,3,3,3,1,2,1,2,2,2,1,2,2,1,2,2,2,2,1,1,1,2,2,3,3,2,2,1,2,2,2,1,1,1,2,2,3,3,3,1,2,2,1,1,1,1,1,2,3,1,2,1,3,2,3,3,1,1,1,2,1,2,3,2,1,3,2,2,3,2,3,2,1,1,2,1,1,2,2,2,1,1,2,1,3,1,1,2,3,2,2,2,1,1,2,1,1,2,3,1,2,2,1,2,1,2,2,1,1,1,1,3,3,2,3,1,1,2,2,2,2,2,2,4,2,2,3,1,2,1,3,3,1,3,2,2,3,1,2,3,2,2,2,1,2,3,1,1,1,2,1,1,2,3,2,1,2,1,2,2,3,2,2,2,2,3,2,2,2,2,2,2,2,1,1,2,3,3,2,2,1,2,2,2,1,1,2,1,3,2,2,1,2,1,2,2,2,2,2,2,2,1,3,3,1,2,1,2,2,2,3,2,1,2,2,2,2,2,1,3,1,2,1,2,3,2,2,1,2,1,2,1,3,2,2,2,2,1,1,2,2,3,2,1,1,1,1,1,2,3,2,3,3,3,1,2,2,2,2,2,2,1,2,3,1,2,1,3,1,1,3,1,1,2,1,1,3,3,2,2,2,1,2,3,3,2,2,3,3,2,1,2,1,2,1,1,2,2,2,1,1,2,2,1,1,1,1,2,2,3,1,2,3,1,3,1,2,2,2,1,1,2,2,3,2,3,3,3,1,1,1,1,2,2,2,1,3,2,2,1,2,2,1,3,2,2,3,1,1,1,3,1,2,2,3,1,1,3,3,1,2,1,1,2,1,2,2,2,3,1,3,1,1,1,3,3,1,3,3,3,3,2,2,3,1,2,1,3,1,2,2,1,2,2,2,2,3,1,1,2,1,1,2,1,1,1,2,2,2,2,2,2,1,2,2,1,3,1,1,1,1,1,2,2,2,2,3,2,2,2,2,1,1,1,1,2,1,2,3,1,1,2,3,2,3,1,2,1,2,1,3,1,2,2,4,2,3,2,2,2,2,1,2,1,2,2,2,3,1,1,3,2,2,3,2,2,2,1,3,1,1,3,1,3,1,1,1,1,3,1,2,2,2,2,1,2,1,2,3,2,2,1,2,2,1,2,2,2,3,2,1,2,2,3,1,2,2,2,1,2,1,2,2,1,1,3,1,1,3,1,1,2,2,3,2,2,2,3,1,2,2,1,2,2,2,2,3,2,1,2,1,1,3,2,2,2,3,1,1,3,2,1,2,2,1,2,2,1,3,1,3,3,2,1,1,2,3,1,3,2,2,3,1,1,1,1,2,1,2,2,1,2,2,1,1,2,3,2,2,2,2,1,2,2,2,1,1,1,2,3,1,3,2,2,2,1,1,3,1,3,1,2,2,1,1,1,2,1,2,3,3,2,2,3,1,1,1,3,2,3,3,2,2,3,2,3,1,1,1,2,2,2,2,2,2,2,2,2,2,2,2,1,1,2,3,4,3,1,2,2,2,2,3,2,2,2,2,3,2,1,2,1,1,2,3,3,1,3,2,3,2,2,3,2,2,2,2,2,2,3,2,2,1,2,3,3,1,1,2,1,1,3,2,2,2,3,2,2,3,2,3,3,2,1,2,2,1,1,2,3,2,1,2,3,2,2,2,2,3,1,1,2,3,2,2,2,3,1,2,1,2,2,3,2,2,2,2,2,1,1,1,1,2,2,2,3,1,2,1,2,2,3,3,2,3,2,2,2,1,2,2,2,1,2,3,2,1,2,2,2,2,1,2,2,2,2,2,1,3,3,1,2,2,1,3,2,1,2,2,2,2,2,2,2,2,1,3,2,2,2,3,2,1,2,3,2,2,2,2,2,1,1,1,2,2,3,2,3,2,3,2,3,2,2,3,2,3,3,3,2,2,2,1,2,2,2,2,2,2,3,2,2,2,2,3,2,2,3,2,2,3,2,2,1,3,3,2,2,2,2,2,2,3,1,2,1,3,1,1,3,2,2,3,1,2,1,3,2,3,2,2,2,2,2,2,2,2,2,2,1,2,2,1,3,3,2,2,1,3,3,2,2,2,2,2,2,2,2,2,1,2,2,1,1,1,1,2,3,1,2,2,3,1,2,1,1,2,2,3,2,2,3,3,3,2,2,3,3,1,2,2,2,3,2,3,2,3,3,3,2,3,3,3,3,1,2,2,2,2,2,2,3,2,2,1,3,2,1,2,2,2,2,1,2,2,3,1,2,1,2,1,1,2,2,1,1,2,1,2,2,3,3,2,1,2,3,1,2,1,3,2,2,2,3,3,2,1,3,1,2,3,3,2,2,3,2,1,2,2,1,2,3,2,1,2,2,1,2,3,2,3,1,2,2,1,2,3,3,2,2,3,2,1,2,2,2,1,2,2,3,2,2,2,1,2,1,3,2,2,2,1,3,2,1,2,1,1,2,2,1,2,1,1,1,2,3,2,2,2,1,1,2,1,2,2,2,3,3,3,1,3,1,2,2,3,2,3,2,1,3,1,2,1,1,1,2,1,2,2,3,1,1,2,1,2,1,2,2,1,3,1,2,2,2,1,2,2,2,2,2,3,2,3,2,2,2,1,1,2,2,2,1,2,2,2,3,2,2,2,2,1,3,3,1,2,3,2,2,2,2,2,3,2,2,1,1,3,2,1,1,2,1,2,2,1,2,2,3,2,2,2,1,2,1,3,1,3,3,2,2,2,1,3,3,1,3,2,2,2,2,2,1,3,3,1,3,1,1,3,2,2,3,2,2,2,1,3,1,2,2,3,3,2,3,3,2,1,2,2,2,2,1,2,2,2,2,3,2,3,2,2,3,3,2,2,2,1,2,2,2,2,2,2,2,2,2,3,2,2,1,2,1,1,1,2,2,2,2,2,2,3,1,1,2,3,1,1,2,1,1,2,1,1,1,2,2,2,2,1,2,1,3,2,2,3,1,3,3,2,2,3,3,2,1,2,3,3,2,2,2,1,2,2,3,1,2,2,2,2,2,2,2,3,2,2,1,3,2,2,2,3,1,2,2,2,2,2,2,3,3,2,2,2,3,2,2,3,2,2,2,3,2,1,2,2,3,2,2,2,2,1,2,1,1,2,2,3,1,1,2,2,2,2,2,2,3,3,2,2,2,1,1,2,2,2,3,2,3,3,1,2,3,1,3,2,3,3,1,1,1,2,1,2,3,2,1,2,2,1,3,1,1,1,1,2,2,3,2,2,2,2,2,2,1,2,1,2,2,2,2,2,2,1,3,2,2,2,2,2,3,2,3,3,2,3,3,1,2,2,2,2,1,2,2,1,4,3,2,2,2,2,2,2,3,1,1,1,2,3,2,3,1,2,1,2,1,2,2,2,2,2,1,2,3,2,2,2,1,4,2,1,3,1,2,1,2,1,2,1,2,2,2,1,1,1,2,1,1,1,2,2,1,1,1,1,1,2,2,3,2,2,2,3,2,2,1,1,2,2,2,1,2,1,2,2,2,2,3,2,1,2,2,1,2,1,3,2,2,2,2,2,2,2,2,1,2,2,2,2,1,2,2,1,1,2,2,2,1,2,4,1,2,2,2,2,1,1,2,1,3,2,2,3,2,2,1,2,2,3,2,1,3,3,2,2,2,2,1,2,2,1,2,1,2,2,3,3,1,2,2,2,3,3,3,3,2,1,3,2,2,2,2,1,2,2,1,1,1,2,3,3,2,3,2,2,2,2,2,1,3,4,2,2,1,2,1,2,1,1,2,3,2,1,1,2,2,3,1,1,3,2,3,3,3,3,2,2,3,2,2,2,2,2,1,1,2,2,2,1,1,2,2,2,2,3,1,1,1,2,2,2,2,1,2,2,2,3,2,2,1,2,2,1,3,2,2,2,1,2,2,2,1,2,1,3,3,1,1,2,3,2,3,3,3,1,2,2,2,3,2,2,1,2,2,2,2,2,2,2,3,3,2,2,3,2,3,1,3,2,3,2,2,2,1,1,1,2,2,3,2,2,1,2,1,2,2,2,2,1,2,1,3,3,1,2,1,3,1,2,1,1,2,2,1,1,1,1,1,1,1,1,2,2,3,1,2,2,2,2,1,3,2,2,2,2,2,1,2,1,2,2,1,1,2,2,3,2,1,2,1,3,3,2,1,1,3,2,3,1,2,1,2,1,3,2,1,3,2,3,3,2,2,3,2,3,2,2,1,1,1,2,2,2,2,1,3,2,2,3,2,3,1,2,2,3,1,3,2,1,2,2,2,3,2,2,1,3,2,1,2,3,1,2,1,2,2,2,2,3,1,2,2,2,2,2,1,3,2,2,3,2,2,3,2,1,1,1,2,3,2,2,1,1,3,2,2,2,2,2,3,3,2,2,1,2,2,2,3,3,2,3,2,2,2,2,2,3,2,2,2,2,3,2,2,2,2,2,1,2,3,3,2,2,2,2,2,3,1,1,3,2,2,2,2,1,2,2,2,2,2,1,2,2,3,3,2,3,2,1,1,1,2,2,3,1,2,2,1,1,2,3,2,1,2,2,3,1,1,2,2,3,2,2,3,2,1,1,3,2,2,1,2,2,3,1,1,2,3,2,2,2,3,3,2,2,1,2,3,2,3,2,3,2,2,2,2,1,2,1,2,2,1,2,2,2,2,1,2,2,1,1,1,2,3,3,2,3,2,2,1,1,2,2,2,2,2,2,1,1,2,2,1,1,1,4,3,2,3,2,3,2,3,3,3,2,3,2,2,2,2,1,2,4,3,3,3,3,1,1,1,3,2,3,2,3,2,2,2,1,1,1,2,3,2,2,2,2,1,3,2,2,1,1,2,2,2,2,1,2,2,2,2,2,2,2,2,2,2,2,2,3,2,2,3,1,2,1,2,2,1,2,2,3,3,2,2,3,2,2,2,2,4,3,2,1,2,2,2,2,2,2,2,1,2,1,2,2,1,1,3,1,2,2,2,4,1,2,1,2,2,1,3,2,3,2,2,2,2,2,2,2,2,2,1,2,2,1,2,2,1,1,2,2,2,2,1,1,2,1,2,1,3,1,2,3,2,2,3,2,1,2,2,1,2,2,2,3,1,2,1,2,1,2,3,2,2,2,2,1,1,2,2,2,2,2,2,2,1,2,1,1,2,2,2,2,1,3,1,1,1,1,1,2,1,3,2,1,2,2,1,2,3,3,2,2,3,1,1,1,1,2,1,2,2,2,3,3,1,4,2,2,2,3,3,2,3,2,3,3,2,2,2,1,2,3,1,1,2,2,2,2,1,2,1,2,1,1,1,2,2,4,1,2,1,1,2,3,2,1,3,1,1,2,1,2,3,3,4,2,2,1,2,2,1,2,3,2,2,1,2,3,3,2,2,2,1,1,2,1,2,3,2,2,3,1,3,2,1,3,2,1,2,1,2,2,2,1,2,2,1,2,2,2,2,2,2,3,2,1,2,1,1,1,1,1,1,1,3,2,1,3,1,2,2,2,2,2,3,3,3,2,1,2,2,2,2,3,2,3,2,3,3,1,3,2,2,2,1,2,2,1,1,2,1,2,2,3,3,2,2,2,1,3,2,2,2,3,1,1,3,1,2,2,3,2,2,2,3,2,2,2,2,1,3,1,3,2,2,2,1,2,1,1,2,2,1,2,2,2,2,2,2,2,1,2,2,1,2,2,1,2,2,2,3,1,2,1,2,2,2,1,2,2,3,1,3,2,2,2,1,1,1,1,2,1,3,2,3,2,2,3,2,3,3,2,1,3,3,2,2,1,2,1,2,3,1,2,3,3,3,3,3,2,3,3,1,2,2,3,1,2,3,2,2,1,2,2,2,2,1,2,2,2,2,1,1,2,3,2,2,2,3,2,1,2,2,2,2,2,2,1,2,2,3,2,1,2,2,1,2,2,3,1,3,2,2,2,2,1,2,2,4,1,2,2,2,2,2,2,2,1,2,3,2,2,2,3,1,3,3,2,1,2,1,3,1,1,2,2,1,2,2,2,2,2,1,2,1,2,1,3,2,3,2,1,1,2,2,2,2,2,3,2,2,2,2,2,4,2,3,3,2,3,2,1,2,3,2,3,2,1,2,3,2,3,2,2,3,2,2,1,2,1,2,1,2,2,2,1,1,2,1,1,3,1,1,3,1,2,1,2,1,2,2,2,2,2,2,3,2,1,1,2,1,1,2,1,2,2,2,2,1,2,2,3,1,1,2,2,1,1,3,2,2,1,3,2,2,3,2,2,1,2,2,2,1,1,1,1,1,1,2,3,2,2,1,1,2,2,2,2,2,1,2,2,1,2,1,2,3,1,2,1,2,2,1,1,1,2,2,1,1,1,2,1,1,2,2,2,2,3,2,2,1,3,1,3,2,3,2,2,3,3,1,2,1,3,1,2,1,2,1,3,3,2,3,1,1,1,1,3,3,1,2,2,2,1,1,1,2,2,1,2,2,2,1,3,2,2,1,2,1,3,1,3,2,1,1,2,3,2,2,1,1,2,1,2,3,1,2,2,2,1,2,2,2,1,3,1,2,1,1,2,3,1,2,2,2,1,1,1,3,2,1,2,1,2,2,2,2,3,2,2,2,1,2,2,3,1,2,3,3,2,1,3,2,2,1,2,3,1,2,2,2,1,2,2,2,1,3,1,1,2,2,2,1,1,2,2,1,2,2,2,1,3,2,1,1,2,1,2,1,1,2,2,1,2,2,2,2,1,3,2,2,3,3,2,1,2,1,1,2,3,2,2,2,2,1,2,2,3,1,1,3,1,2,2,2,2,1,2,1,3,3,1,3,3,2,1,2,2,1,1,3,1,3,1,1,2,2,1,1,2,1,2,2,2,2,2,2,2,3,3,3,1,2,1,3,3,2,3,2,1,1,1,1,3,2,3,2,2,1,1,1,1,2,1,2,2,2,1,2,2,2,2,2,2,1,1,2,2,2,2,3,2,3,2,3,2,2,3,2,2,3,3,1,1,3,3,3,1,1,1,2,2,2,3,3,3,2,2,3,2,3,3,3,2,2,1,2,1,3,1,2,2,3,2,2,2,2,2,2,1,1,1,3,2,2,1,2,2,2,2,2,3,2,2,3,1,2,1,2,3,2,2,3,1,2,2,1,3,1,1,2,2,1,1,2,2,1,1,2,1,1,1,1,2,1,1,1,3,1,1,2,2,1,2,2,1,2,1,1,2,2,3,1,1,2,3,1,2,2,3,2,2,2,3,2,2,1,3,2,1,1,1,2,1,3,2,1,1,3,1,2,3,1,2,3,2,1,3,2,3,2,3,2,2,2,3,4,3,1,1,2,1,3,1,3,1,2,2,1,2,3,3,2,3,2,2,1,1,1,3,2,2,3,1,1,3,2,1,3,2,1,2,2,3,3,1,2,3,1,1,1,1,1,2,1,3,1,1,1,1,1,2,1,2,1,2,3,2,1,1,2,2,2,1,2,2,2,1,2,2,1,3,2,2,2,1,2,2,2,2,2,3,2,2,2,3,1,2,3,2,3,2,4,1,2,3,2,1,3,2,2,2,2,3,1,3,3,3,3,2,3,3,2,3,2,2,4,2,3,1,1,2,3,3,1,2,2,1,2,2,2,2,3,2,1,2,2,2,2,2,2,3,2,1,2,2,3,3,1,2,1,2,2,2,1,1,1,2,2,2,2,1,2,2,1,2,3,2,1,2,3,1,1,2,2,1,2,2,2,2,2,2,2,2,1,2,1,1,2,2,3,2,3,1,1,1,1,1,2,1,2,1,3,1,3,2,1,1,2,2,2,2,2,2,1,2,3,2,1,2,2,3,3,1,2,3,3,2,3,3,2,2,1,1,1,2,3,1,2,2,3,3,1,2,1,2,1,1,1,1,3,2,3,1,2,2,3,1,3,2,2,3,2,1,2,2,4,2,2,2,2,2,2,2,2,3,2,2,3,2,2,3,1,2,3,2,1,1,1,2,3,1,2,2,2,1,2,2,1,2,3,3,2,2,2,3,3,1,3,2,2,3,1,1,1,2,3,1,3,3,3,2,2,2,3,1,2,2,2,3,3,2,1,1,3,1,2,1,2,2,3,1,2,2,2,2,2,1,2,3,1,3,1,1,2,1,1,1,1,3,3,1,3,3,2,1,4,2,2,2,1,1,2,2,1,3,1,3,2,2,2,2,2,2,1,1,2,1,2,3,2,2,2,1,1,2,1,1,1,2,3,3,2,2,3,2,2,3,2,2,1,3,2,1,3,3,1,2,3,2,3,3,1,2,3,2,3,3,1,2,3,3,1,3,2,2,2,2,1,1,1,3,2,3,2,2,1,2,2,2,2,2,3,2,3,2,2,2,2,2,2,3,2,3,2,3,2,1,2,2,2,2,4,2,2,2,3,2,1,1,2,2,1,1,1,3,2,2,3,1,1,3,2,2,1,1,2,2,1,1,1,2,1,1,2,3,2,2,3,2,3,1,2,2,3,1,2,1,3,1,2,1,2,2,1,2,3,2,1,1,2,2,2,1,2,2,2,1,3,2,2,2,1,1,2,3,2,2,2,2,3,1,3,2,2,2,1,2,3,3,1,2,1,3,2,3,2,2,1,1,1,1,2,2,4,1,2,2,2,3,1,3,2,2,1,1,1,2,1,2,2,1,3,2,2,2,2,2,1,2,2,1,3,2,3,2,3,3,1,2,3,3,1,1,2,1,3,4,1,3,3,2,3,2,4,2,2,2,2,2,2,2,3,2],\"xaxis\":\"x\",\"yaxis\":\"y\",\"type\":\"histogram\"},{\"alignmentgroup\":\"True\",\"bingroup\":\"x\",\"hovertemplate\":\"default=0\\u003cbr\\u003eeducation=%{x}\\u003cbr\\u003ecount=%{y}\\u003cextra\\u003e\\u003c\\u002fextra\\u003e\",\"legendgroup\":\"0\",\"marker\":{\"color\":\"#636EFA\",\"pattern\":{\"shape\":\"\"}},\"name\":\"Not Default\",\"offsetgroup\":\"0\",\"orientation\":\"v\",\"showlegend\":true,\"texttemplate\":\"%{value}\",\"x\":[2,2,2,1,1,2,3,3,3,1,2,1,3,1,1,1,3,1,3,3,3,1,1,1,2,1,1,2,2,1,1,1,2,2,1,2,1,3,2,1,1,1,3,2,1,2,2,2,1,3,4,1,2,1,1,2,3,1,3,1,2,3,2,2,1,3,1,1,2,2,2,1,1,3,1,1,1,2,2,2,1,2,2,1,3,2,1,2,1,2,2,1,1,2,3,3,1,1,2,3,2,2,1,2,1,2,2,2,1,1,1,2,1,2,1,1,2,3,1,1,3,3,1,2,3,1,2,1,1,2,2,2,2,1,2,1,1,2,2,2,1,3,1,2,1,2,2,1,1,1,2,2,1,1,1,1,1,2,2,3,1,1,1,3,2,2,3,2,3,1,3,2,2,1,3,2,3,1,2,2,1,2,1,1,1,2,1,1,2,2,2,1,3,2,2,1,2,2,2,2,3,1,2,1,1,1,2,3,1,3,1,2,2,1,3,2,1,2,3,1,3,1,1,2,2,2,1,1,2,2,1,2,1,3,1,2,2,2,1,2,2,1,1,2,3,3,2,1,2,2,2,2,1,1,2,1,1,1,2,1,2,2,1,1,1,1,2,2,1,1,2,3,2,2,4,1,2,2,1,2,2,2,1,1,1,3,1,3,2,1,1,2,3,2,4,1,2,1,2,2,1,1,1,2,2,2,1,3,2,1,2,1,1,1,1,1,3,3,1,1,2,1,1,2,2,2,1,2,2,1,1,3,1,3,1,2,1,1,1,2,1,1,4,3,2,1,2,2,3,1,2,2,2,2,1,3,2,2,1,2,2,3,2,2,1,2,1,1,2,2,3,2,2,1,2,1,2,2,2,2,1,3,2,1,1,2,2,4,4,1,2,2,2,1,2,1,2,3,3,2,2,1,1,2,1,2,2,1,2,2,2,1,2,1,2,1,2,1,1,1,1,1,2,1,1,1,2,2,1,2,2,3,1,2,2,2,1,3,1,3,1,1,2,1,3,1,1,2,2,2,1,3,2,1,2,2,1,1,1,2,3,1,2,3,2,2,1,2,2,1,2,1,3,2,1,2,2,2,1,1,2,1,2,2,2,1,2,1,2,1,1,3,3,3,2,3,2,3,3,3,2,1,2,2,3,2,2,2,3,2,2,1,2,1,2,3,1,2,1,1,1,2,3,3,2,3,2,1,1,2,1,2,1,1,2,1,1,2,1,2,2,2,1,2,1,1,2,1,1,2,1,2,2,3,2,2,1,2,1,2,1,2,2,1,2,2,1,1,2,2,2,2,3,2,1,1,2,3,3,1,1,2,1,1,1,2,3,2,2,1,2,2,2,2,2,2,2,2,3,2,1,2,1,2,1,2,1,2,2,1,1,1,2,2,1,2,1,1,1,2,2,2,1,1,3,1,2,1,1,1,2,1,3,1,2,1,2,1,2,1,1,1,3,2,3,2,1,3,2,1,2,2,2,2,2,1,3,3,1,2,2,2,2,2,2,3,1,2,3,2,2,1,2,3,2,2,2,1,1,2,1,2,2,1,2,2,2,3,3,1,3,2,1,2,2,2,1,1,3,2,1,2,2,2,3,2,2,1,1,1,1,1,2,3,2,2,2,1,1,1,1,3,3,3,1,1,1,1,1,1,1,1,2,2,2,1,1,2,2,2,2,1,2,1,2,1,2,1,2,2,2,3,2,3,2,2,1,2,1,2,2,2,2,1,1,1,2,2,2,1,2,1,3,1,2,3,1,2,3,2,3,3,2,1,1,2,2,2,2,1,2,2,2,1,1,1,1,2,1,1,3,3,1,2,3,1,2,1,2,1,1,1,1,2,2,1,3,3,2,2,1,1,1,2,2,3,1,3,2,2,1,2,3,2,1,2,3,1,1,1,1,4,2,3,1,1,3,3,2,2,1,2,2,2,3,1,2,1,3,2,1,1,1,3,1,2,3,1,1,2,2,2,3,2,1,3,1,1,2,2,2,2,1,1,2,1,2,1,2,2,2,2,2,3,3,2,1,1,2,1,1,2,2,1,1,3,2,1,3,2,2,1,2,2,2,2,2,1,3,1,3,3,3,1,2,2,2,2,2,1,1,1,2,2,2,1,1,1,1,3,1,2,2,1,3,1,1,2,2,2,1,3,3,1,1,3,1,1,2,2,1,1,2,3,2,3,1,1,2,1,1,2,1,3,2,3,1,2,3,2,1,2,1,3,1,1,1,1,1,2,2,4,2,2,2,3,2,1,1,2,2,3,2,2,1,1,4,3,2,2,2,2,2,1,3,2,2,1,2,2,3,3,2,2,1,2,2,3,2,2,1,1,2,3,1,1,1,1,1,1,2,3,2,2,2,2,1,2,2,3,1,1,3,1,2,1,2,1,1,2,1,3,2,3,2,1,2,2,1,1,1,2,4,2,4,2,2,1,1,2,3,2,2,1,3,2,1,1,1,3,1,1,2,1,2,1,2,1,3,1,2,3,1,2,2,1,1,1,2,1,2,3,2,2,2,1,3,1,2,3,1,2,2,3,1,1,1,2,2,1,2,2,2,2,2,1,1,3,2,2,3,2,2,2,2,2,3,2,1,1,2,2,2,2,1,1,1,2,2,2,2,1,2,1,2,1,1,1,2,4,3,3,2,1,2,2,2,1,2,2,2,3,2,1,1,2,3,2,3,2,2,2,2,1,2,2,2,1,2,2,1,1,2,1,1,2,1,3,3,3,3,3,3,3,3,1,2,2,2,3,1,1,1,1,2,1,2,3,1,2,2,1,3,2,2,3,2,1,3,1,2,2,3,3,1,2,3,1,1,2,2,3,2,2,1,3,2,2,1,1,2,1,3,2,2,2,2,2,2,3,3,2,1,2,1,1,1,2,1,3,3,3,1,1,1,1,2,3,2,3,3,1,2,1,2,3,1,1,1,1,2,3,1,2,3,3,1,1,2,2,2,3,2,2,3,1,1,1,1,2,2,2,1,1,2,1,2,1,2,1,2,1,2,3,3,1,1,3,1,1,1,1,2,1,1,2,1,1,2,1,2,1,1,1,2,1,3,3,2,3,1,2,2,1,2,1,1,1,2,1,2,2,2,1,2,2,2,2,3,1,1,2,2,1,1,2,1,1,2,1,2,3,3,1,1,2,3,1,3,2,1,2,2,1,2,1,1,1,1,1,2,1,1,3,3,3,1,2,2,2,2,1,2,2,2,2,1,1,2,1,1,1,3,3,3,2,3,2,2,4,1,3,1,1,2,2,2,1,2,1,1,1,1,1,3,2,1,2,2,1,2,1,2,2,2,1,2,2,1,3,2,2,2,2,1,3,1,3,2,1,2,2,1,1,1,1,2,2,2,2,2,2,1,1,2,1,2,1,2,1,1,2,2,1,1,2,2,2,2,1,1,2,2,1,2,2,2,1,1,2,1,1,1,3,1,2,2,1,2,1,1,1,2,2,2,2,1,3,3,2,2,2,2,3,1,1,2,2,1,2,3,3,2,2,2,1,2,3,3,1,3,1,1,3,2,2,1,1,2,2,2,1,2,2,1,3,2,3,2,2,3,1,2,2,1,1,2,1,1,1,2,1,2,2,3,1,2,1,2,3,1,1,2,2,3,2,3,2,3,1,2,2,1,2,1,4,2,1,2,2,2,2,2,1,1,3,1,1,1,1,2,2,3,1,2,2,1,2,3,4,1,2,2,1,2,1,1,1,3,1,2,2,2,2,2,3,2,1,2,1,1,1,1,2,1,2,2,1,2,1,2,2,1,3,4,3,2,1,2,1,2,1,2,2,2,1,2,1,1,1,2,2,1,2,1,1,1,2,1,2,1,2,2,2,3,1,3,2,1,1,2,2,2,2,1,1,2,2,2,3,1,3,1,3,1,2,2,1,1,2,1,1,2,2,3,1,1,3,3,1,1,2,2,2,1,1,3,2,2,2,1,3,1,1,2,1,3,1,2,2,2,3,3,2,2,2,3,2,2,2,1,2,2,2,2,1,1,2,2,2,1,3,2,2,3,3,1,1,2,2,2,3,3,1,1,3,1,2,1,1,2,1,2,1,2,2,2,2,1,1,2,3,1,2,3,2,2,1,2,3,2,2,2,2,1,1,1,2,1,3,2,2,2,3,2,4,2,3,1,1,1,1,1,1,2,2,1,2,2,2,2,2,1,1,2,1,2,2,3,1,2,1,2,1,1,2,3,2,3,2,1,2,1,3,2,3,2,2,1,2,2,1,2,2,3,2,2,1,1,2,2,2,2,1,1,3,2,1,2,3,1,1,1,2,3,1,3,3,2,2,2,3,1,1,1,1,1,2,2,2,1,1,1,2,3,3,2,3,3,2,2,2,3,2,1,2,2,1,1,2,1,1,3,1,1,2,2,2,1,2,4,1,2,1,1,2,2,3,2,2,2,2,1,3,1,2,1,2,2,3,1,1,3,1,2,3,3,2,3,2,2,1,1,1,1,2,1,1,2,1,1,1,2,2,3,1,1,1,1,2,1,3,2,1,2,1,1,1,2,1,2,1,2,1,4,1,3,2,2,4,1,3,1,3,2,2,2,2,2,2,2,2,1,1,2,1,2,2,1,3,2,2,2,1,3,1,2,1,3,1,2,1,2,2,1,1,1,3,2,1,3,2,1,2,2,1,1,2,1,2,2,3,2,1,1,2,2,3,1,2,1,3,2,1,1,2,2,1,2,2,1,3,3,3,2,3,3,1,2,3,2,2,1,3,2,1,1,2,2,2,1,1,2,1,1,1,3,3,2,2,2,3,2,3,1,2,2,1,2,2,1,2,2,1,1,3,3,2,1,2,1,2,2,1,1,2,1,2,2,1,2,2,2,2,2,2,3,2,3,1,2,1,1,1,2,3,2,1,3,2,1,2,2,2,3,1,2,1,2,1,1,1,2,2,2,1,2,2,1,1,2,1,1,3,1,2,2,1,3,1,2,1,1,1,2,1,2,2,1,2,1,2,1,1,3,2,2,2,2,2,2,2,2,1,1,3,1,1,1,2,1,2,2,2,2,2,1,1,1,2,1,1,2,3,2,1,2,3,2,1,2,2,3,2,1,2,1,1,2,1,1,1,2,1,1,2,2,3,2,2,3,3,2,2,2,1,2,2,1,1,2,1,2,3,2,1,2,2,2,3,2,1,2,2,2,2,2,2,1,3,2,3,1,3,3,2,2,3,2,2,3,1,2,2,1,3,1,1,1,1,2,1,1,2,2,3,2,3,3,2,2,2,1,3,1,1,1,2,2,2,2,2,1,1,1,1,1,2,2,2,3,2,1,2,3,2,2,1,1,1,2,1,2,2,1,1,2,1,1,2,2,4,1,2,1,3,2,2,1,1,2,3,2,3,2,3,3,2,3,1,1,3,3,2,1,1,3,3,2,2,3,2,2,2,2,1,1,1,1,3,1,2,2,1,2,2,1,2,3,2,3,1,1,1,2,2,1,2,1,2,3,1,1,2,1,2,2,2,1,2,1,1,1,1,2,3,2,2,1,3,2,1,1,1,3,1,2,1,1,3,2,1,3,2,1,1,2,2,3,2,2,2,2,2,2,2,1,3,3,3,2,2,1,2,4,1,3,3,1,1,2,1,2,1,1,1,2,1,3,3,2,2,2,2,3,1,1,1,2,2,3,3,4,1,2,4,2,3,2,2,1,2,1,2,2,2,2,1,2,2,1,4,2,2,3,1,2,2,2,3,1,2,1,2,2,1,2,2,2,2,1,2,1,1,3,1,2,1,1,2,2,3,1,1,2,3,3,2,2,3,2,2,2,2,1,1,1,1,2,1,1,2,1,2,1,3,2,2,2,2,2,2,2,1,2,3,2,2,2,1,3,1,2,1,1,3,2,2,2,2,1,2,2,2,3,2,2,1,1,3,2,2,1,1,3,2,3,1,1,1,2,3,1,2,1,1,2,1,2,1,2,3,2,1,1,3,1,2,1,2,2,2,2,3,3,1,2,1,2,2,2,1,2,1,3,3,1,1,2,2,3,1,1,2,1,1,1,3,1,2,1,2,2,2,2,1,2,3,2,2,3,1,2,1,1,3,2,2,1,2,2,3,1,2,1,1,2,2,1,1,1,1,2,2,2,3,1,2,1,3,2,1,1,3,2,1,2,1,2,2,2,2,1,1,2,1,2,1,2,2,1,2,2,2,1,3,3,2,3,2,2,2,1,2,2,3,2,1,2,1,2,1,1,3,2,1,2,2,1,1,1,3,2,1,3,1,1,3,2,2,3,2,1,2,1,2,1,1,3,2,1,2,2,4,1,2,1,1,1,1,1,2,2,3,3,1,3,1,2,1,2,2,3,2,3,2,1,2,2,2,3,2,2,3,1,2,2,2,3,2,2,3,2,2,2,3,2,3,2,2,2,2,1,2,2,3,2,1,4,3,1,2,2,1,2,1,3,2,1,1,2,2,2,1,2,2,2,1,1,1,2,2,1,2,1,1,1,2,3,2,1,1,4,2,2,2,2,3,2,1,2,2,1,1,2,3,1,2,1,3,2,2,2,2,2,1,1,1,1,2,2,1,1,3,1,2,2,1,1,2,1,1,1,1,4,3,2,2,1,2,2,1,4,2,1,1,1,1,2,2,1,1,1,1,2,1,1,1,4,2,3,1,1,2,2,1,2,2,2,3,1,3,2,2,3,1,1,3,1,2,1,2,2,1,1,2,2,3,3,1,2,2,2,3,1,3,1,1,1,2,2,1,1,2,3,1,2,3,2,2,1,2,2,1,1,2,3,1,1,3,1,2,1,2,2,3,4,1,2,1,2,3,3,1,3,3,1,1,2,2,4,2,2,3,2,2,3,2,1,2,1,2,1,2,2,1,1,3,3,2,1,2,1,2,2,1,2,2,1,1,1,2,2,2,2,1,3,1,3,2,2,3,1,2,2,1,2,1,2,3,2,1,2,2,2,2,1,2,1,2,1,1,1,2,2,2,1,3,1,1,2,1,1,3,2,1,3,2,1,3,1,3,3,2,2,3,2,1,2,1,1,2,2,1,1,2,3,2,2,2,2,1,1,1,2,2,3,3,3,1,2,2,2,2,2,2,3,2,1,2,2,2,3,1,1,2,1,3,3,1,2,2,2,1,2,1,2,2,2,1,1,1,1,1,1,3,2,1,2,2,1,2,2,3,4,2,2,2,1,1,1,2,2,1,3,2,1,2,2,2,1,2,1,2,3,1,1,1,4,1,2,1,2,1,1,2,3,2,2,2,3,3,1,1,1,2,1,2,1,1,1,1,2,1,2,3,1,1,3,2,1,1,1,3,3,1,2,2,1,3,1,1,1,1,1,2,2,2,3,3,1,1,2,2,2,3,3,2,3,2,2,3,3,2,2,1,1,2,1,2,2,2,1,3,2,1,2,1,3,1,2,1,1,2,3,1,2,3,1,3,2,1,2,2,2,2,2,2,1,1,2,2,1,1,3,2,1,1,2,2,1,2,2,3,1,1,1,3,4,2,2,3,1,3,2,2,3,2,1,1,1,2,2,3,2,2,2,1,2,1,1,2,1,2,3,2,3,3,2,2,2,2,1,1,2,1,2,2,1,3,2,3,3,2,2,1,1,2,1,2,2,2,3,2,1,2,2,1,3,2,2,2,1,1,1,2,2,1,2,2,4,1,1,3,1,1,2,1,1,3,1,1,2,2,2,1,1,1,1,1,1,1,3,2,1,2,2,2,2,2,2,3,1,3,1,1,2,3,3,3,1,1,1,2,2,3,2,1,1,2,2,2,3,1,2,1,2,2,3,2,2,2,2,2,2,1,2,2,3,1,3,1,2,2,2,2,2,2,2,2,3,1,3,4,3,2,1,3,1,1,2,1,2,1,1,4,1,1,2,1,1,1,3,2,2,1,3,2,2,2,2,1,3,4,2,2,2,1,1,1,2,2,2,2,1,2,2,1,2,2,3,2,2,2,1,3,2,1,1,1,2,1,2,1,3,2,3,2,1,2,2,2,1,1,2,1,1,1,1,2,1,2,2,2,1,4,1,1,2,2,2,1,3,2,1,1,1,1,2,3,1,2,3,3,2,2,1,2,1,2,1,1,2,2,2,1,2,1,1,1,2,2,3,2,2,1,2,2,1,2,3,2,1,3,2,1,1,1,2,1,2,1,2,2,1,1,2,1,3,2,1,1,3,3,2,1,3,3,1,2,2,2,1,4,1,3,1,2,1,1,2,1,2,1,3,1,1,1,2,1,1,3,1,2,2,2,2,1,2,3,2,1,2,3,3,2,2,1,1,2,2,2,1,1,3,1,2,2,2,2,1,2,2,2,3,1,2,2,2,1,2,2,1,1,2,1,1,1,2,3,2,3,2,1,1,2,1,2,2,1,3,2,1,2,3,1,2,2,1,2,2,1,1,2,3,2,2,1,1,3,2,2,2,2,1,1,3,1,2,1,2,2,1,1,1,1,2,2,1,1,3,1,2,1,3,2,2,3,3,2,2,2,2,1,2,2,1,2,3,2,1,1,1,2,2,1,2,1,2,2,1,2,3,2,2,3,2,1,1,1,1,1,1,2,2,2,2,1,2,2,3,1,2,2,3,2,2,1,2,2,2,1,4,3,1,2,2,1,1,1,2,2,1,1,2,1,1,1,2,2,2,1,2,1,1,2,2,2,2,1,2,2,1,1,2,1,3,1,1,1,1,1,1,1,3,2,3,1,2,2,2,2,1,2,1,1,1,2,1,1,1,1,2,2,1,1,2,3,1,2,4,3,1,3,1,3,2,3,1,3,2,2,3,3,1,1,1,2,2,2,3,2,1,1,2,1,2,2,1,3,1,1,2,2,1,1,3,3,3,1,1,2,3,2,1,1,2,2,1,2,1,2,2,2,2,1,3,2,2,1,2,2,2,2,2,3,2,2,1,2,2,2,1,2,1,1,2,1,1,1,1,3,2,4,2,2,2,2,1,2,2,1,2,2,2,1,4,3,2,2,3,2,1,2,3,3,1,1,1,1,3,1,3,1,2,1,2,1,3,1,2,1,2,3,1,3,4,2,2,1,3,2,1,1,2,1,2,4,1,1,1,2,2,1,2,2,1,2,2,3,1,3,2,1,3,1,2,1,2,2,1,2,3,1,3,2,1,3,2,1,2,1,1,2,1,2,1,1,1,1,2,2,1,1,1,2,1,2,1,2,1,1,1,2,3,3,1,1,2,2,2,2,2,1,2,2,3,4,1,3,2,3,4,2,3,2,2,2,1,2,2,2,2,2,2,1,1,1,2,2,1,1,2,2,1,2,2,2,1,2,3,2,2,1,1,2,2,3,2,1,2,2,2,1,1,3,1,2,3,2,2,1,3,2,2,3,3,3,3,1,2,3,1,1,2,2,2,2,1,1,2,2,1,2,3,2,3,2,1,2,2,2,2,1,1,1,2,1,2,2,2,2,1,2,1,3,1,1,2,3,2,2,1,1,3,3,1,1,4,3,2,1,2,1,1,2,2,2,1,1,3,1,1,3,2,3,2,2,2,1,2,1,1,3,2,2,2,4,1,2,3,1,1,1,2,2,2,3,1,3,1,2,1,2,3,2,3,1,3,2,1,3,2,2,2,1,2,2,2,2,3,3,3,2,1,2,1,2,1,1,3,3,1,1,2,2,1,1,2,1,2,3,3,1,1,1,1,1,1,2,2,3,1,2,1,1,2,1,3,1,3,2,2,1,1,2,2,1,1,3,2,3,1,3,2,2,2,2,3,2,2,2,1,4,2,2,2,1,1,1,2,3,2,2,1,2,1,3,2,3,1,1,2,1,2,3,2,3,2,1,3,2,1,2,2,1,1,3,2,1,2,1,3,2,1,2,2,1,3,2,2,2,2,2,2,2,2,3,3,2,1,2,2,1,3,4,2,3,1,2,2,1,2,2,2,2,2,1,2,3,1,2,2,1,1,2,2,3,2,2,2,2,2,1,1,1,2,2,1,2,2,2,3,2,3,2,3,2,1,1,1,1,2,2,3,1,1,1,2,1,1,2,1,4,1,3,2,1,2,2,1,1,2,1,3,2,2,1,1,3,1,2,1,1,1,2,1,3,1,2,1,1,1,4,1,1,3,3,3,2,1,2,1,2,2,3,2,3,2,1,2,2,1,2,3,2,2,3,3,2,3,3,1,3,1,2,2,1,2,1,2,2,3,1,1,1,1,1,1,1,2,2,2,2,1,1,2,1,1,3,2,2,2,1,2,3,3,2,1,2,1,2,3,2,3,1,2,1,2,2,1,2,1,1,3,1,2,3,1,1,1,1,1,2,3,2,2,1,2,2,2,2,1,3,1,2,1,2,2,1,1,3,2,2,1,2,2,1,2,3,1,3,1,1,2,2,1,2,1,2,2,1,1,2,2,2,2,1,2,3,1,2,1,1,2,3,2,3,2,1,3,1,2,3,2,2,3,1,2,2,1,1,4,2,1,2,1,1,2,2,1,2,1,2,2,2,1,1,1,2,2,1,1,2,2,1,2,2,3,2,4,1,1,1,3,1,1,1,1,2,2,1,1,3,3,3,3,2,1,1,3,3,3,2,2,1,1,2,2,3,1,3,1,3,2,1,1,1,1,1,2,2,3,1,2,2,2,1,2,1,2,3,4,2,4,1,1,1,1,2,2,1,2,3,1,2,1,2,2,2,1,1,2,1,1,3,2,2,2,2,3,1,1,2,2,1,1,2,3,2,3,1,1,1,3,3,1,2,1,1,2,1,3,1,1,1,1,2,2,1,2,1,1,1,2,3,1,2,1,1,3,3,3,1,2,1,3,2,2,1,3,2,2,1,1,2,3,3,1,1,2,2,1,2,1,1,2,2,1,2,2,3,3,2,1,3,1,1,2,1,2,2,1,2,1,2,3,1,1,2,1,2,3,2,1,2,3,3,1,2,3,2,2,1,2,1,2,1,1,1,1,1,1,2,2,3,2,2,2,2,1,2,1,1,3,2,1,2,2,2,1,1,2,1,2,2,3,3,2,2,2,3,1,3,2,1,1,2,2,1,1,2,2,2,2,2,2,2,2,1,1,1,1,2,1,1,1,1,1,2,1,2,3,2,1,3,2,1,1,2,2,2,1,3,3,2,2,1,1,2,2,1,1,1,1,1,2,2,1,1,2,3,3,2,1,2,2,2,1,2,1,3,2,2,2,2,2,1,1,1,3,2,2,2,1,3,2,1,2,2,2,1,3,2,2,1,3,1,2,2,1,2,2,1,1,3,2,2,2,1,3,1,1,2,2,2,2,1,2,2,1,2,2,4,1,2,2,1,1,2,2,1,1,4,2,3,3,2,1,2,2,1,2,1,4,1,3,2,2,2,1,1,1,2,2,1,2,4,3,1,3,2,2,2,4,3,2,2,2,4,3,2,2,2,2,2,1,2,1,2,2,1,1,2,2,2,1,2,2,2,2,2,1,2,2,1,2,3,3,1,3,2,2,2,1,1,3,1,1,3,2,1,2,1,2,2,1,2,2,2,1,2,1,3,1,1,1,1,2,3,4,1,1,2,2,1,2,1,2,2,1,1,2,2,3,2,2,3,1,1,2,2,1,3,1,1,2,2,3,2,2,2,1,3,1,1,2,2,2,2,1,2,2,2,2,3,1,1,1,2,2,2,1,1,2,2,3,2,3,2,2,2,1,2,1,2,2,3,2,1,1,1,1,1,2,1,3,1,2,2,2,2,2,2,3,3,2,1,2,1,2,3,3,2,2,1,2,2,2,2,2,2,3,2,2,1,1,2,1,2,1,2,1,3,1,3,1,1,2,2,2,1,1,1,2,1,2,4,2,2,1,1,1,1,2,2,2,2,2,1,3,1,2,1,1,1,2,2,3,2,1,1,2,1,2,3,3,1,1,3,2,1,1,2,2,2,2,2,1,1,3,2,1,1,1,2,1,3,1,2,1,1,2,1,1,2,1,1,1,1,1,2,2,1,1,1,2,3,1,1,1,2,1,3,2,2,1,1,1,1,2,1,1,1,3,1,2,2,3,1,2,2,2,4,1,1,1,2,3,4,1,2,2,3,1,4,2,1,3,2,2,1,1,1,4,1,3,3,2,1,2,4,2,2,1,1,2,1,2,2,2,3,1,1,1,2,2,1,1,1,3,1,1,1,2,1,1,1,3,2,3,1,3,2,3,1,1,1,1,2,2,1,3,3,2,1,2,2,1,2,2,3,2,2,1,3,2,1,1,1,1,2,2,3,2,1,1,3,2,1,1,3,1,3,3,1,2,1,2,3,2,3,1,3,2,2,1,2,2,2,3,2,2,2,1,1,1,2,1,2,2,2,1,1,1,2,2,1,2,1,1,2,1,2,2,2,1,2,2,2,2,2,3,1,1,1,2,1,2,2,3,2,1,2,3,2,2,1,3,2,2,1,2,1,1,2,2,2,1,3,4,1,3,1,1,1,2,2,1,2,1,2,1,2,2,1,2,1,2,2,2,2,2,3,1,3,2,3,2,2,3,2,2,2,1,1,3,1,2,2,2,2,2,1,1,2,2,3,2,1,1,3,3,1,2,3,3,3,2,1,1,2,2,2,1,2,2,1,2,2,1,2,3,1,2,1,1,1,2,1,1,2,1,4,1,3,1,1,1,1,3,1,1,2,1,1,1,2,2,2,1,2,2,1,1,1,2,2,1,2,2,2,3,3,1,2,2,2,3,1,1,1,2,2,2,1,2,2,1,2,3,1,1,3,1,2,2,2,1,3,2,2,2,3,2,2,2,1,1,1,3,1,1,1,2,2,2,2,1,2,2,1,2,1,1,2,1,1,2,2,2,1,1,3,3,3,1,2,1,2,1,3,3,2,1,2,2,3,2,1,1,2,3,2,3,2,1,1,2,2,2,2,2,2,2,2,2,1,1,2,2,1,2,2,3,3,3,1,1,3,1,2,1,1,2,3,2,4,2,2,2,4,1,1,2,2,1,2,1,2,2,1,2,1,1,2,1,2,1,2,1,2,2,2,2,1,3,3,3,1,3,2,1,1,2,2,2,2,2,1,2,3,2,2,1,2,2,3,2,1,1,2,3,2,1,3,2,1,1,2,3,2,3,4,1,3,1,1,2,2,1,1,2,2,3,3,3,1,2,1,2,1,1,2,2,2,2,2,1,2,3,1,2,3,1,1,2,2,1,2,2,3,1,3,1,2,2,1,2,3,1,2,2,2,2,2,3,2,2,1,2,2,2,3,3,2,1,2,2,2,2,1,2,2,2,1,1,1,1,1,2,2,2,2,2,2,2,2,2,1,1,2,2,1,2,2,3,2,2,2,3,2,3,2,3,1,1,2,3,1,1,1,2,3,2,2,2,1,3,1,2,2,2,3,1,2,3,2,1,2,3,1,1,2,2,2,1,2,1,2,1,2,2,2,1,2,2,4,3,2,2,3,2,1,1,2,1,2,2,2,1,1,1,3,3,1,3,3,1,1,1,2,2,2,1,2,2,2,1,2,1,1,1,1,2,2,1,1,3,3,4,1,1,1,1,1,2,1,2,1,1,2,2,2,2,2,2,1,2,2,1,2,2,1,2,2,1,2,2,2,2,3,2,1,1,2,2,3,2,1,2,2,2,1,2,4,2,2,1,2,2,1,3,1,3,3,2,2,1,2,1,3,2,3,2,1,2,2,2,1,2,2,2,1,2,2,1,1,2,3,1,2,3,2,2,2,2,1,2,2,1,3,1,2,1,2,2,3,2,1,2,2,1,2,3,1,2,1,2,2,1,1,2,2,1,2,2,1,2,1,2,1,4,2,2,3,2,3,2,2,1,1,2,2,1,3,1,1,1,1,1,2,3,1,2,3,2,1,3,2,2,2,2,1,1,2,3,2,1,2,2,2,3,3,3,2,1,1,3,2,1,2,2,1,2,3,2,2,2,3,1,2,2,3,2,3,2,1,1,1,1,1,3,1,1,2,1,3,3,3,2,1,2,1,2,2,1,2,2,1,1,3,1,1,1,1,2,2,2,1,4,1,2,3,2,1,2,3,2,2,2,1,2,1,2,1,1,2,2,1,2,2,2,3,2,2,1,1,2,2,3,2,2,3,2,2,2,2,1,2,2,2,2,1,2,3,1,2,1,3,2,1,2,1,2,1,1,2,1,1,1,2,2,2,2,1,4,1,2,1,3,2,2,1,2,1,2,1,2,2,2,2,1,2,3,1,2,2,2,2,1,1,2,2,2,1,2,1,1,1,2,2,2,2,1,2,1,1,2,3,1,1,2,1,2,1,1,4,2,3,1,2,3,3,2,1,2,2,1,2,2,2,2,1,1,2,1,2,1,1,1,3,3,2,2,1,1,2,2,1,2,2,2,2,2,1,3,1,1,2,2,2,2,2,2,1,3,2,2,2,2,1,2,3,2,1,2,1,2,2,1,1,2,2,2,2,3,3,1,1,2,1,1,3,1,2,3,1,1,1,3,2,2,2,2,1,3,2,2,2,2,2,1,3,2,1,1,1,2,1,2,2,2,4,1,3,1,2,2,2,2,1,2,2,1,1,2,3,1,2,2,2,3,2,1,2,3,1,1,1,2,1,2,1,2,1,2,2,3,1,3,1,2,2,1,2,1,1,1,2,1,3,1,2,2,2,2,1,1,1,2,2,2,2,2,2,1,1,1,1,1,2,1,2,1,2,2,1,1,2,1,2,1,1,1,2,2,3,2,1,1,1,1,1,2,1,1,3,1,2,1,3,1,2,1,2,3,1,1,3,2,1,2,2,1,1,2,1,2,2,3,2,2,2,2,2,1,2,2,2,1,1,2,1,1,1,2,3,2,2,3,1,2,3,1,3,3,2,2,2,2,1,2,2,1,2,2,3,2,1,2,2,3,2,1,2,2,1,3,1,1,1,2,1,1,3,1,2,1,2,1,2,1,1,2,3,2,3,2,1,2,3,3,2,1,2,1,2,2,2,1,3,1,3,1,1,1,2,2,2,1,2,2,1,2,2,1,1,2,3,1,3,2,2,2,1,2,1,1,1,1,2,2,1,2,2,2,1,1,1,2,1,2,1,3,1,2,3,3,1,2,2,2,1,1,2,1,1,2,3,1,2,2,1,1,2,2,1,1,2,1,3,2,2,2,2,3,3,2,1,2,4,1,1,2,2,4,1,1,1,3,1,1,4,1,3,1,1,3,2,1,3,2,1,2,2,2,1,2,3,1,1,3,2,2,1,2,1,2,1,3,2,3,2,1,2,2,1,1,1,2,2,1,2,3,2,1,2,3,2,2,1,1,2,1,1,2,1,1,1,1,1,2,2,1,1,2,1,1,3,1,2,1,3,2,2,2,2,3,1,2,1,1,1,1,2,1,1,2,2,1,1,1,2,1,1,1,1,3,3,2,2,2,2,2,2,1,2,2,2,2,1,1,1,1,3,1,2,1,1,2,2,2,1,2,4,1,2,1,1,1,2,3,2,2,1,2,3,1,3,2,2,2,2,1,2,1,1,2,2,1,2,1,3,1,2,3,2,2,1,4,3,2,1,2,1,2,1,1,1,2,1,2,1,1,1,1,2,2,2,2,2,3,1,1,3,2,2,1,3,2,2,1,1,2,2,1,1,2,2,2,2,3,3,1,2,3,2,3,2,3,3,2,1,3,3,3,2,1,2,1,3,1,3,2,1,1,2,1,2,3,2,1,1,2,2,1,2,3,2,1,2,2,1,3,1,2,1,2,2,3,1,2,2,3,1,2,3,1,2,3,3,3,2,2,1,2,1,3,1,1,1,1,2,1,3,1,2,2,2,3,2,2,1,1,2,1,3,4,1,2,2,1,2,2,2,1,2,2,1,1,1,2,2,2,3,1,2,1,2,1,1,3,2,1,3,2,2,2,2,3,2,3,2,1,1,3,2,2,2,1,3,2,2,2,1,1,2,3,1,2,2,2,3,1,2,2,1,2,2,2,2,2,1,1,3,2,1,1,2,2,4,1,2,2,2,2,1,2,2,2,2,1,4,2,1,2,3,3,2,2,2,2,2,2,2,3,2,2,1,1,1,2,1,2,2,2,1,1,2,1,3,1,1,3,3,2,3,1,2,1,2,1,1,2,2,2,2,2,1,2,3,2,2,3,2,3,2,1,1,1,2,2,2,2,2,2,1,1,1,2,2,3,1,2,2,1,1,1,1,2,2,2,2,2,2,1,1,2,2,2,3,4,1,2,2,3,2,2,2,2,3,1,1,2,2,2,1,2,1,3,1,3,3,1,1,1,2,1,3,1,1,2,2,2,1,2,1,1,2,3,1,2,1,2,1,2,1,2,1,3,2,1,1,1,2,2,2,2,2,3,1,2,1,1,3,2,1,2,2,1,1,2,3,2,4,2,1,2,2,3,1,1,2,3,1,2,2,2,2,1,2,1,2,3,1,2,2,3,1,2,1,1,1,1,2,1,1,2,3,2,1,2,3,1,2,2,1,1,1,2,2,1,1,1,1,2,2,2,1,1,1,2,2,2,2,2,2,2,2,2,2,1,1,2,1,1,2,1,1,1,2,3,2,1,1,1,1,1,1,2,4,1,1,2,1,2,2,1,2,1,1,1,2,1,3,3,3,2,1,2,2,1,1,2,2,1,2,1,1,2,3,2,1,1,2,1,1,1,3,2,1,2,2,3,4,2,3,2,3,2,1,2,1,2,3,2,1,1,2,1,1,3,3,1,2,2,2,4,1,3,1,2,2,2,2,1,1,2,3,3,2,3,1,1,1,3,3,1,1,2,3,1,4,3,1,2,3,2,1,1,3,1,1,2,1,3,2,2,3,1,2,3,1,2,1,2,2,2,2,3,2,2,1,3,3,1,1,1,2,2,1,1,2,1,1,1,1,2,2,3,2,3,2,1,2,2,3,2,2,3,1,3,1,3,2,2,3,1,2,2,1,2,1,3,2,1,2,2,2,1,1,2,2,2,1,1,4,1,1,2,3,1,2,2,2,2,1,3,1,1,2,2,2,3,2,3,2,2,3,3,1,1,2,1,2,1,2,3,1,2,2,2,1,1,3,2,1,2,2,1,2,1,2,1,1,2,2,1,1,2,3,2,2,3,2,3,1,2,2,2,2,2,2,1,1,1,2,2,3,1,1,2,1,2,3,2,2,3,2,4,3,1,2,2,3,1,1,2,2,2,2,1,3,1,2,1,2,2,2,2,1,1,1,3,3,1,1,3,1,2,2,2,2,1,2,2,1,1,1,2,3,2,1,1,2,1,2,3,1,2,1,2,1,2,1,2,2,2,1,3,2,2,2,2,3,2,1,1,2,1,3,1,1,2,2,1,1,1,1,2,1,3,3,2,2,2,2,2,2,2,1,1,2,1,3,2,1,2,2,2,2,2,1,1,3,2,1,1,3,3,1,2,1,1,3,1,1,2,3,3,1,1,1,2,2,2,1,2,3,2,1,2,2,1,3,2,2,2,2,2,1,3,1,2,2,1,2,1,3,2,2,2,2,2,1,1,1,2,1,3,3,1,2,1,3,2,1,2,2,1,2,2,3,1,1,1,2,3,2,2,1,3,2,3,2,2,2,1,1,1,2,1,2,3,2,2,1,2,2,2,2,1,1,2,3,2,2,2,1,2,1,3,1,2,2,1,2,1,2,2,1,2,1,3,2,2,3,2,2,2,2,1,1,2,2,2,1,2,2,1,1,2,3,1,3,2,1,2,2,2,2,3,1,1,1,1,2,1,2,1,2,3,1,1,3,3,2,1,1,3,1,3,1,1,1,1,2,2,1,2,1,1,1,1,3,2,2,1,1,2,1,2,2,3,1,1,3,2,2,3,1,2,3,2,3,1,3,2,3,1,2,2,2,1,3,2,2,1,2,1,3,2,3,1,2,1,1,2,2,1,1,2,1,2,1,1,2,2,2,1,2,1,1,1,3,2,3,1,2,1,1,2,3,1,1,2,3,1,1,1,2,3,1,2,2,1,1,3,2,2,1,2,2,3,2,1,1,2,2,3,4,2,1,2,1,1,2,3,2,3,2,2,1,3,1,1,2,1,2,2,2,2,1,1,1,2,1,2,2,3,1,2,3,1,3,4,1,1,1,3,2,2,2,1,2,1,2,1,1,2,1,2,2,2,1,2,1,1,1,1,1,2,1,1,1,1,2,1,1,2,2,1,1,2,3,2,2,3,1,1,2,2,2,2,1,1,3,1,2,3,1,2,2,2,2,2,3,1,1,2,1,1,2,2,2,3,2,2,2,2,2,3,2,3,1,1,1,2,2,1,2,2,2,3,3,1,2,1,1,2,2,2,4,1,3,2,1,4,2,4,1,1,2,1,1,3,2,2,2,2,1,2,2,1,1,2,1,2,1,2,3,2,2,3,2,2,2,2,3,2,2,1,3,1,2,2,2,3,2,1,2,2,1,2,2,1,1,1,1,1,2,2,1,2,2,2,1,2,2,3,2,2,1,1,1,3,2,1,1,1,1,3,2,3,2,1,2,2,1,2,1,1,4,2,3,3,3,2,2,3,2,3,2,3,2,2,2,1,1,1,1,1,2,2,1,3,2,2,1,2,1,2,2,1,2,1,2,2,1,3,1,3,1,2,1,1,1,1,2,2,1,2,1,3,1,1,3,1,2,2,2,3,2,2,3,2,2,2,1,4,1,2,1,3,2,3,2,2,1,2,2,2,3,2,1,2,1,2,1,1,2,2,1,2,2,2,2,1,4,2,1,2,2,2,1,2,1,2,2,1,2,1,1,1,2,2,3,2,3,3,1,2,1,2,1,2,3,2,1,1,2,1,3,2,3,3,1,2,2,1,1,2,3,1,3,2,1,2,1,1,2,2,2,2,2,2,3,2,1,2,3,2,1,1,1,3,1,1,2,2,2,1,3,2,2,1,2,3,1,1,1,2,4,2,1,2,2,1,2,2,2,2,4,2,1,1,3,2,2,1,2,2,3,1,1,1,2,2,4,1,2,1,2,2,3,3,2,2,2,2,2,1,1,3,3,2,1,2,2,2,2,1,2,3,1,3,1,1,2,1,3,1,3,1,1,2,2,1,3,3,2,1,1,2,2,2,3,3,1,1,2,3,1,1,2,1,2,2,1,1,1,2,2,1,2,3,1,3,1,1,2,1,2,1,1,3,2,1,2,3,1,3,2,2,2,1,1,1,1,1,1,2,2,2,2,2,2,2,1,1,2,3,1,1,1,1,2,2,1,2,1,1,1,2,2,2,1,2,4,1,2,3,2,2,2,2,2,2,3,3,1,2,2,2,1,2,1,2,1,3,1,1,3,3,1,1,2,1,2,2,2,1,1,2,1,3,3,1,2,2,2,2,1,2,2,3,2,2,2,3,1,2,1,2,1,2,2,1,2,3,2,3,1,1,1,2,1,1,2,2,1,2,2,2,1,1,1,1,2,3,2,2,2,2,2,1,1,2,2,2,1,3,1,3,2,1,2,1,3,2,1,1,1,4,1,1,2,2,2,2,3,1,1,1,2,1,1,1,2,3,2,1,2,1,2,2,2,1,2,2,2,4,2,1,2,3,1,2,2,1,3,2,3,3,1,2,2,3,2,2,1,1,1,2,2,1,1,2,3,1,3,2,3,2,2,1,2,2,1,1,2,2,3,2,2,2,3,2,1,1,1,3,1,2,2,1,3,2,2,1,3,3,2,1,2,2,1,1,1,2,1,2,2,1,1,1,1,1,1,2,3,3,2,2,1,1,3,2,1,1,3,2,2,2,1,2,2,2,2,2,1,3,1,2,3,1,2,3,1,1,2,1,4,2,2,2,1,1,1,2,1,3,1,3,2,1,2,3,2,2,3,3,2,1,2,2,2,2,2,1,2,2,3,4,2,1,1,2,2,2,2,2,2,2,2,2,1,1,2,2,1,2,1,2,2,1,2,1,2,1,2,2,3,1,2,2,1,2,1,1,1,1,1,2,3,2,2,2,2,2,2,2,2,2,2,3,2,3,2,2,1,2,2,2,2,1,1,3,1,4,2,2,2,3,1,2,1,2,2,2,1,1,1,1,2,2,2,1,2,1,1,1,1,2,2,2,2,1,2,2,1,1,1,2,1,2,2,2,2,2,2,2,2,2,2,2,1,2,3,1,2,1,3,2,2,2,2,1,3,1,1,2,1,2,1,3,2,1,1,2,2,1,3,1,1,2,1,2,2,1,1,1,1,1,1,2,1,1,1,1,3,3,1,1,1,2,3,1,2,1,1,1,3,2,1,1,1,2,2,2,1,1,1,2,3,1,3,2,2,1,2,2,2,2,2,2,2,2,2,2,2,2,1,3,1,2,2,1,3,2,2,1,1,2,2,2,3,2,3,1,2,3,1,1,1,1,1,2,3,2,3,1,2,2,1,2,1,3,2,1,2,2,3,3,3,2,2,2,1,2,1,1,1,1,2,2,3,3,2,1,3,1,2,2,2,1,2,2,3,1,2,1,1,2,4,2,1,2,1,2,2,1,1,2,3,2,2,2,1,1,1,2,2,1,2,2,2,2,2,3,1,2,2,2,3,1,2,3,2,1,2,2,2,2,3,1,1,1,4,1,3,2,1,1,3,2,3,1,2,1,1,1,2,2,2,2,3,1,2,2,2,1,2,2,2,3,3,2,2,1,1,2,2,1,2,2,3,3,2,2,1,2,1,2,1,1,1,2,2,2,4,1,3,1,3,3,1,2,1,2,2,1,2,2,2,2,1,2,2,1,1,2,3,2,2,2,1,2,1,1,1,1,2,2,3,1,2,2,2,1,2,3,2,1,3,3,3,3,2,1,2,1,1,1,3,3,2,3,2,2,3,2,3,1,3,1,2,1,1,3,2,1,3,2,4,2,1,1,2,1,2,2,1,1,3,2,2,2,1,1,1,3,1,3,1,3,3,2,2,1,2,1,3,1,3,2,1,2,1,2,2,1,2,1,1,2,1,2,2,1,1,3,1,1,2,1,1,1,2,1,2,1,2,2,2,2,1,2,1,2,2,3,3,2,1,1,2,4,2,3,1,4,2,1,1,2,3,1,2,2,3,2,1,3,2,2,1,2,1,1,4,2,1,2,2,1,1,2,2,1,2,2,2,2,3,2,2,1,3,1,2,3,1,2,1,1,3,3,1,3,2,1,2,2,1,2,2,3,1,2,1,1,1,2,1,1,2,1,3,2,2,1,3,1,1,1,2,2,2,1,1,1,1,2,2,2,2,3,2,3,2,2,2,1,2,1,1,2,1,3,1,2,2,2,1,3,3,1,2,2,2,2,1,1,2,1,1,2,1,2,2,2,1,2,2,1,1,2,1,2,1,1,2,1,1,1,2,1,2,2,2,3,1,3,2,2,1,2,1,1,2,2,2,1,1,2,2,1,2,1,2,3,2,1,2,1,1,3,2,2,1,1,1,1,2,3,2,2,1,2,2,2,2,3,3,2,1,1,1,2,2,2,3,2,2,2,1,2,2,1,2,1,2,1,2,2,2,1,1,2,3,2,3,2,2,2,1,2,1,2,2,1,1,1,4,1,2,3,1,3,1,2,1,2,1,2,1,2,2,4,1,1,1,4,2,1,2,3,2,2,1,1,3,2,4,1,1,1,2,1,2,3,1,1,2,1,2,1,2,1,2,2,1,1,1,2,3,2,2,1,3,2,1,1,3,1,1,2,3,1,1,1,1,2,3,2,1,2,3,1,1,1,2,2,3,2,2,2,1,2,1,2,1,1,1,1,1,3,3,1,3,2,2,2,2,1,3,1,1,1,1,1,2,3,3,3,1,1,2,2,2,2,1,1,1,1,1,1,2,1,3,2,2,1,1,2,2,3,3,1,2,3,1,3,1,2,1,1,2,2,1,2,2,2,2,1,1,2,2,2,2,1,2,2,1,1,1,2,2,2,2,2,1,2,1,2,3,2,2,2,1,2,1,1,2,1,4,1,3,2,1,3,2,2,2,1,2,1,1,1,2,1,1,2,3,2,2,2,1,1,2,2,2,2,3,3,2,3,3,2,2,3,3,2,3,2,2,1,2,1,3,2,4,3,3,2,1,3,1,2,2,2,2,1,2,1,2,1,2,2,2,1,2,3,1,2,2,1,2,3,1,3,2,2,2,1,2,2,2,4,2,2,3,2,1,4,2,2,2,2,1,1,2,2,1,2,2,1,3,1,1,1,1,1,1,3,1,3,1,1,1,1,2,1,1,1,1,2,2,1,1,1,4,2,3,1,2,3,3,1,2,1,1,1,1,3,3,2,1,1,1,1,2,1,3,2,1,2,3,3,1,2,1,3,1,3,2,2,2,2,1,1,1,3,2,1,2,2,1,2,1,3,1,2,1,2,1,1,1,1,2,2,3,1,1,2,1,2,2,1,1,2,2,1,3,2,3,2,2,2,2,1,2,2,2,1,3,2,1,2,1,2,1,2,1,2,2,3,2,1,2,2,2,3,3,2,2,1,1,2,1,1,2,1,1,1,3,1,3,1,2,2,2,2,1,2,2,1,1,1,3,2,1,2,1,2,1,3,2,2,2,2,2,1,1,3,1,1,3,1,2,1,3,1,3,2,1,2,1,2,1,2,3,2,2,2,1,1,1,2,2,2,3,1,1,2,3,2,2,2,2,2,1,1,2,3,1,1,2,1,1,2,1,2,1,1,2,2,2,2,1,2,1,1,1,1,1,1,2,2,1,1,1,2,2,1,1,2,1,3,1,2,2,2,2,2,3,2,2,1,1,2,2,2,1,2,1,2,2,2,2,2,1,1,2,1,3,1,2,1,1,3,2,2,2,1,3,2,1,2,1,2,3,2,2,2,1,1,1,1,1,1,1,1,1,1,2,3,1,1,2,1,1,2,3,3,1,2,2,2,2,2,2,3,1,1,2,2,1,3,2,3,2,1,1,1,1,2,2,1,2,1,1,2,1,3,2,2,1,1,1,2,1,2,2,2,1,1,1,4,1,1,1,2,1,2,3,3,3,1,2,2,3,1,1,1,1,2,2,2,2,1,2,1,1,3,2,1,2,1,2,2,2,2,2,2,2,2,1,2,3,2,1,2,1,2,1,2,2,3,1,1,3,3,2,1,2,2,2,2,2,1,2,3,2,1,2,3,1,2,3,1,1,2,1,2,1,2,1,2,1,1,2,2,2,2,1,2,2,2,2,1,1,2,2,2,2,1,1,2,3,1,3,2,1,2,3,3,2,3,1,3,3,1,1,2,2,2,1,2,1,1,2,1,2,1,2,2,2,1,3,2,1,2,1,3,2,1,3,2,1,2,1,2,1,2,2,2,2,1,1,3,2,1,1,1,2,1,1,2,1,1,4,1,2,1,2,2,2,3,2,1,2,1,2,1,1,3,2,3,2,1,2,3,2,2,1,3,3,3,1,1,2,1,1,2,2,3,1,2,1,3,2,1,1,1,2,2,2,2,1,1,1,1,2,3,1,1,1,1,2,2,1,3,2,2,1,3,1,1,2,2,1,2,1,2,2,2,2,2,3,2,3,1,2,2,3,1,1,1,1,2,2,2,1,1,2,2,3,3,3,1,1,2,2,2,1,1,2,2,2,1,1,1,3,2,1,1,3,1,1,3,2,1,2,1,1,2,2,3,1,1,3,1,1,2,3,3,3,1,2,1,2,1,3,1,2,1,3,2,1,1,1,1,1,3,1,1,1,2,1,2,3,1,1,2,1,1,3,2,1,2,2,2,1,2,1,3,2,1,2,4,1,2,2,1,2,2,3,3,1,2,1,1,2,1,1,3,3,1,2,3,2,2,3,2,1,3,2,1,1,3,2,2,2,1,2,1,1,2,2,2,2,4,2,1,2,1,3,3,3,1,3,3,2,2,1,1,2,2,2,2,2,4,1,2,2,1,1,2,2,3,2,1,1,1,2,2,1,2,3,4,1,2,1,2,2,1,1,2,2,2,2,2,1,2,2,1,2,3,2,2,1,2,2,2,2,1,1,3,2,1,2,2,1,2,1,1,2,2,3,2,1,1,1,2,2,2,1,2,1,1,2,1,1,1,2,4,1,1,1,1,2,1,2,2,1,1,1,3,2,2,2,2,1,1,1,2,2,2,2,1,2,2,3,1,2,1,3,1,1,2,1,2,1,1,2,1,2,1,2,2,2,3,2,2,3,1,1,2,2,1,2,2,3,1,2,2,3,2,2,1,3,1,2,1,1,1,3,2,3,2,2,1,2,3,2,3,1,1,1,1,1,2,1,2,3,2,1,3,3,1,3,1,1,2,2,3,2,2,1,2,2,1,2,1,2,2,1,1,1,1,1,2,2,2,1,1,2,2,1,1,3,1,1,2,2,3,2,1,3,3,1,3,2,1,3,1,2,1,4,3,3,2,2,3,1,1,1,1,2,2,1,2,1,1,2,1,2,3,1,3,2,2,1,2,1,1,2,3,1,2,2,3,3,1,1,1,3,1,1,2,2,1,1,1,1,1,2,3,1,2,3,3,2,2,3,2,2,3,3,3,1,2,2,2,1,2,1,2,1,2,2,2,2,3,1,1,3,2,1,1,1,2,2,2,2,1,1,2,4,2,1,3,2,3,2,1,3,3,2,2,3,1,1,2,1,2,2,2,1,3,1,1,2,1,1,1,2,1,2,2,1,4,1,2,2,1,2,2,1,1,2,2,1,2,2,3,2,1,1,2,4,1,1,2,1,2,2,1,2,1,4,4,2,1,3,1,3,2,1,3,3,2,2,1,2,3,2,1,3,1,1,1,2,1,1,2,1,1,2,1,2,3,1,1,2,2,2,1,1,1,2,1,2,2,2,1,1,2,2,1,2,2,2,3,1,2,2,3,2,1,2,2,1,2,4,1,2,1,2,1,1,1,1,1,1,1,2,1,1,1,1,1,2,2,2,1,3,3,1,1,1,2,1,2,1,1,1,1,1,1,2,2,1,1,1,2,1,3,2,2,2,3,3,2,3,2,1,1,3,1,2,2,3,2,3,2,1,3,2,1,1,1,2,2,1,2,1,2,2,2,2,2,2,2,1,1,2,2,2,2,1,2,2,2,2,2,2,3,2,2,2,2,2,1,1,1,1,2,2,2,1,3,1,3,3,3,1,1,3,2,3,2,2,1,3,2,2,3,2,1,2,1,1,2,2,3,1,1,3,1,1,2,1,2,3,1,2,2,1,1,3,1,1,1,1,2,1,2,2,1,2,3,3,1,1,1,1,1,1,1,2,2,3,1,2,2,3,2,2,1,2,1,3,2,1,2,2,2,2,2,2,1,1,1,1,1,2,1,1,3,2,1,3,1,2,1,2,1,3,2,2,2,1,1,1,2,2,2,3,1,3,1,2,1,2,1,2,1,2,2,1,1,2,1,1,3,3,2,2,2,1,4,3,2,2,2,2,2,2,2,2,2,2,2,2,1,2,2,3,1,2,1,1,3,2,3,2,2,1,1,2,3,2,1,3,1,1,3,2,1,3,1,2,2,1,2,2,3,3,2,2,3,2,2,1,2,2,3,1,1,1,1,1,1,4,1,1,1,3,2,3,1,4,3,2,1,2,1,3,3,1,2,1,2,3,2,2,1,2,1,1,1,1,3,2,2,2,2,2,2,1,2,2,2,2,3,3,3,1,1,2,2,1,2,1,1,2,2,1,1,1,1,2,1,2,2,2,1,1,2,2,2,2,3,1,1,1,2,2,1,2,3,2,3,1,2,1,1,3,2,3,2,2,3,2,2,1,2,2,2,4,1,1,1,1,2,1,2,2,1,1,1,1,3,1,1,3,1,1,1,1,2,2,1,1,2,2,3,1,1,2,2,3,1,1,1,1,1,2,2,3,3,1,2,2,2,1,1,1,1,2,1,2,2,2,2,1,3,3,3,1,2,2,2,2,1,4,1,2,2,1,3,1,1,2,2,1,1,2,2,2,1,1,2,2,2,2,2,2,1,3,3,3,3,1,1,3,1,1,1,2,1,1,3,2,1,3,2,2,1,3,1,2,3,2,2,2,2,1,2,1,1,1,2,3,1,4,2,2,2,1,1,2,1,1,1,2,1,2,2,2,2,1,2,2,1,1,2,2,1,1,1,2,2,2,1,2,3,2,2,2,1,1,2,1,2,2,1,1,2,2,2,3,2,2,2,2,2,3,1,2,1,1,1,2,1,1,2,1,2,2,2,1,2,2,2,2,2,3,2,1,2,2,2,2,2,1,2,2,2,2,2,2,1,1,2,1,1,2,3,2,2,2,2,1,2,3,3,2,2,1,2,1,2,1,3,1,1,2,3,3,1,2,3,1,2,3,1,3,2,3,1,1,1,2,1,1,2,1,2,2,1,4,2,2,1,1,2,1,2,1,2,1,1,1,4,1,2,1,1,1,1,1,1,1,1,1,4,2,2,2,3,1,2,1,1,2,3,2,1,2,1,2,3,2,1,2,3,2,2,1,2,2,2,3,1,1,2,1,3,2,2,2,2,2,2,2,2,2,2,3,2,2,2,2,1,1,2,1,2,1,2,2,2,2,2,1,2,2,1,2,2,3,2,1,2,2,1,2,2,1,1,2,3,2,2,2,1,1,1,2,2,2,3,2,2,2,2,2,2,2,2,2,1,2,3,1,2,3,2,2,2,2,2,2,1,1,1,1,2,1,1,2,2,2,3,1,2,2,1,2,3,1,2,2,2,4,2,2,1,2,2,2,2,2,1,1,1,1,1,2,3,1,2,2,2,2,1,3,2,1,3,2,2,3,2,2,3,1,2,3,1,3,1,1,1,3,1,2,1,3,2,3,3,1,1,2,1,2,1,1,2,1,2,2,2,2,2,2,1,3,2,2,3,3,2,1,1,1,2,1,2,2,2,2,2,2,1,1,1,2,1,1,1,2,3,2,2,3,4,2,1,1,2,2,3,4,1,2,2,2,3,3,3,3,3,2,2,4,3,3,3,3,2,4,2,2,2,1,1,1,1,2,2,2,3,1,2,2,2,2,1,2,1,1,2,2,2,1,3,1,2,3,1,2,2,1,2,1,1,1,2,1,3,2,1,2,3,2,1,2,3,1,2,1,2,1,2,2,2,2,3,3,1,1,2,2,3,1,2,3,2,2,2,1,2,3,3,2,2,3,2,3,2,2,2,3,2,2,2,1,2,2,2,1,1,1,1,2,1,2,2,1,2,2,1,1,2,1,2,1,1,3,1,1,2,2,1,1,1,2,1,2,1,1,1,2,3,1,2,3,2,1,2,1,2,1,3,2,2,2,1,1,3,1,2,2,3,2,2,2,1,1,1,2,3,2,1,1,2,1,2,1,2,2,2,2,1,2,2,2,1,2,1,2,1,2,2,1,2,2,2,2,3,2,2,2,2,2,2,2,2,1,3,1,2,3,2,2,2,2,3,3,1,1,1,2,1,1,1,1,1,1,1,2,3,2,1,2,2,2,2,1,1,2,2,2,2,1,3,2,3,2,2,2,1,2,1,1,2,2,1,1,2,2,2,2,1,2,4,2,2,2,1,1,1,2,2,2,1,2,2,1,2,1,2,1,2,2,2,2,1,1,2,1,3,3,2,2,1,2,3,1,2,2,3,2,2,2,2,1,2,2,2,2,2,2,1,2,1,2,3,2,2,2,2,1,2,2,2,2,3,1,2,2,2,2,1,2,2,1,2,2,1,1,1,2,2,2,2,1,2,2,2,1,1,2,1,2,2,2,2,2,2,2,2,1,1,2,2,2,2,2,1,1,2,2,1,1,1,1,2,2,1,1,2,2,1,1,1,2,2,2,2,2,1,2,2,2,2,1,2,2,2,1,2,2,2,1,2,4,2,3,2,1,3,2,2,1,2,1,2,1,2,2,2,2,2,2,2,2,2,2,2,2,3,2,1,1,3,2,1,2,2,3,2,1,1,2,2,1,1,2,2,2,3,2,3,2,2,3,3,2,3,3,2,3,2,3,2,2,1,1,2,2,2,2,2,2,2,2,1,2,2,2,1,3,2,2,3,2,1,2,2,1,1,1,3,2,1,2,2,2,3,2,2,2,2,3,3,3,1,2,1,3,2,1,3,2,3,2,2,2,3,2,2,2,2,2,2,1,2,2,2,3,2,2,2,2,2,1,2,2,2,2,2,2,1,2,2,1,4,2,2,1,2,2,2,2,3,2,2,2,1,2,2,2,2,3,2,2,2,2,3,3,2,2,2,3,3,1,2,2,2,2,1,2,2,2,3,3,3,2,2,1,2,2,2,1,2,2,2,1,1,2,1,2,3,1,2,3,2,1,2,3,1,2,2,3,2,3,1,2,2,3,2,2,2,2,2,1,1,1,1,3,2,2,2,1,1,2,2,3,1,3,1,3,2,2,1,2,1,2,2,2,1,2,3,2,4,2,2,3,2,2,2,1,2,3,3,1,2,1,2,2,4,2,2,2,2,1,2,2,2,2,3,3,2,2,3,1,2,2,2,2,3,2,2,3,2,3,4,2,3,3,2,1,2,1,3,2,2,2,2,1,2,3,1,1,2,4,2,1,2,4,1,2,3,2,1,3,1,1,2,1,2,1,1,1,1,1,2,3,2,1,1,3,1,2,2,1,2,3,2,2,1,2,3,3,3,2,3,2,2,1,3,1,1,2,2,2,2,1,1,2,2,1,1,2,2,3,2,4,1,3,2,4,3,1,3,3,4,2,2,2,3,3,1,2,3,2,2,1,3,1,2,3,3,3,2,1,1,3,3,2,3,4,3,3,2,2,2,2,1,3,3,2,1,2,2,2,3,2,1,1,2,2,2,2,3,2,1,1,1,2,1,2,2,2,2,1,2,1,1,2,2,3,2,1,2,1,2,2,2,1,2,2,1,2,2,1,2,2,2,2,2,2,2,2,2,2,1,1,1,3,2,1,2,1,2,2,2,3,2,2,2,2,2,1,2,2,2,1,3,1,1,2,3,2,1,2,1,1,2,2,1,1,2,3,2,2,1,2,2,1,1,3,2,3,1,2,2,2,1,1,1,2,2,1,1,2,1,2,2,1,2,3,1,2,2,3,1,2,2,3,3,2,2,2,3,2,2,4,2,3,3,3,3,3,2,3,2,2,1,2,1,3,3,2,4,2,3,1,3,2,2,1,3,2,3,3,3,2,2,2,3,1,3,2,2,1,3,2,2,1,2,2,2,2,2,2,2,3,2,2,1,2,2,2,2,3,2,3,3,1,3,2,2,4,1,2,2,1,2,2,2,3,2,2,1,2,3,2,2,3,2,2,2,3,2,2,4,3,2,2,1,2,2,2,1,4,1,1,2,3,2,1,3,2,2,2,1,2,2,1,1,3,1,1,3,2,1,2,2,1,2,1,3,2,2,2,4,2,1,2,2,2,2,2,1,2,1,4,1,1,3,3,2,3,3,1,4,1,3,2,2,3,2,1,3,2,1,3,2,2,2,2,3,2,1,2,2,3,3,1,2,2,3,3,3,2,2,3,4,1,2,4,3,2,3,1,2,3,1,1,1,1,2,3,3,2,3,1,2,3,3,1,1,3,2,1,1,3,2,2,3,2,2,1,2,2,3,1,2,1,2,1,2,2,1,1,2,1,2,1,2,3,2,2,1,1,2,2,1,1,1,2,2,3,2,2,3,2,3,1,1,2,2,2,2,2,1,2,2,2,2,2,2,2,2,1,1,2,1,1,2,2,2,2,2,1,1,2,2,2,2,2,1,3,1,2,2,2,2,1,1,2,1,2,3,2,2,1,2,2,1,2,2,2,1,2,1,2,2,1,1,2,1,1,1,1,1,2,2,2,2,2,3,3,3,1,1,1,3,3,2,2,1,1,1,2,2,2,1,3,2,2,1,1,1,1,2,4,2,2,2,1,2,1,1,2,2,2,3,2,1,1,2,2,3,2,3,2,2,2,2,1,1,2,2,2,3,2,2,1,2,3,3,3,2,2,2,2,2,2,3,2,3,2,3,3,2,3,3,2,3,2,2,2,3,3,1,1,2,2,2,2,1,3,3,2,2,2,1,2,3,1,3,2,2,3,1,2,2,2,1,1,2,3,2,2,2,4,2,2,3,2,2,2,2,1,2,2,1,3,2,3,1,3,1,3,1,2,1,2,2,2,2,3,2,2,3,3,1,2,2,2,1,2,3,2,2,3,2,1,1,2,2,1,2,3,1,2,1,2,2,2,1,1,2,2,1,2,1,1,2,2,1,2,2,2,2,3,1,2,3,2,3,2,4,2,3,2,2,2,2,1,2,2,2,2,2,1,2,2,3,1,1,2,1,1,2,2,2,2,2,1,2,3,3,2,3,1,2,1,2,1,2,3,2,2,1,2,1,4,1,1,3,1,2,2,2,3,1,2,3,2,1,3,2,2,3,2,2,1,1,1,1,2,2,2,1,2,2,2,2,1,1,3,4,3,2,2,3,2,3,3,2,2,3,3,2,2,2,2,2,2,3,2,2,2,2,2,2,2,1,2,2,2,2,3,1,1,2,1,1,2,3,3,1,3,3,3,2,2,1,3,3,1,3,2,2,1,4,2,2,3,2,3,2,1,2,3,2,1,2,2,1,2,1,1,1,1,1,1,2,2,2,2,1,2,1,2,2,1,1,1,2,2,1,3,1,3,1,2,1,1,3,2,2,2,2,2,3,2,2,2,2,1,2,1,2,1,2,2,1,1,1,2,1,1,3,1,3,2,1,1,1,1,2,2,2,2,1,1,2,2,2,1,2,1,1,1,1,1,1,1,1,1,2,2,2,1,1,1,2,2,1,1,2,2,1,3,2,3,3,1,3,2,2,3,3,3,2,3,2,3,3,3,2,3,3,1,3,3,2,3,3,3,1,2,3,3,3,3,3,2,2,3,3,2,1,2,2,3,2,2,2,3,1,2,1,1,1,4,1,2,2,2,2,2,2,3,2,2,3,2,2,1,1,4,1,2,2,2,2,2,3,2,2,2,2,2,2,2,1,2,2,1,2,1,2,2,1,2,2,2,1,2,1,1,2,1,1,1,2,2,2,1,2,2,3,2,1,1,1,2,2,1,1,1,1,1,2,2,2,3,2,2,2,3,1,1,2,2,3,2,2,1,2,2,1,1,1,3,2,1,1,2,2,3,2,2,2,2,3,3,2,2,3,2,3,3,2,2,1,1,3,1,1,1,2,2,2,2,2,2,2,2,3,2,3,2,1,3,1,3,2,3,2,1,3,1,1,3,1,1,2,2,2,1,2,2,1,2,2,3,3,1,2,3,1,3,1,3,2,2,2,1,1,3,2,1,2,3,2,2,2,2,1,3,2,2,3,2,1,2,2,1,3,1,2,2,1,1,2,1,2,3,2,2,1,2,3,2,1,1,1,2,2,2,2,1,1,3,1,3,1,1,1,3,2,1,1,1,1,4,1,3,2,2,1,1,2,2,2,1,3,1,3,1,1,1,1,1,1,1,1,1,1,1,2,3,1,1,1,2,1,1,3,1,1,2,1,2,1,1,2,2,1,2,1,1,2,2,2,2,3,2,1,2,1,2,2,1,2,2,3,1,3,2,3,2,2,2,2,1,1,2,1,1,1,1,1,3,2,2,1,2,3,2,1,3,2,2,2,2,3,3,3,3,3,3,3,1,2,1,3,2,3,1,3,3,1,3,1,3,1,1,2,3,1,1,1,1,3,3,1,1,1,2,2,3,1,1,2,1,1,2,1,2,2,1,2,3,1,3,1,2,2,1,3,3,1,3,2,1,3,2,2,2,1,2,2,2,2,2,2,1,1,1,2,1,1,2,2,3,1,2,1,2,2,1,2,2,2,1,1,2,2,1,1,2,2,1,1,1,2,2,2,1,2,1,2,1,2,2,2,1,1,4,2,3,1,1,4,1,1,2,2,2,2,2,2,2,3,2,1,1,1,2,2,2,2,4,1,2,2,2,2,2,2,2,2,1,2,3,3,1,2,1,4,1,3,2,2,4,2,1,2,1,2,2,2,1,2,1,2,2,2,1,3,2,1,1,1,1,2,2,2,2,2,2,2,2,1,3,2,2,3,2,2,2,2,2,1,1,2,1,2,4,1,2,2,3,3,2,1,1,2,2,2,4,2,2,2,2,3,2,2,2,1,1,2,2,3,2,1,3,2,2,2,2,2,2,2,2,2,2,2,2,1,2,2,1,2,1,2,4,2,2,2,1,1,2,1,4,2,2,1,2,1,1,1,2,2,2,1,1,1,3,2,3,2,1,1,3,2,1,2,2,3,1,1,2,1,2,1,2,1,1,1,1,2,1,1,1,2,3,4,2,1,1,2,1,2,1,2,1,1,2,1,2,1,2,1,1,3,2,1,1,2,1,2,1,1,2,2,2,1,2,2,2,2,2,1,1,2,1,2,2,1,2,2,3,2,2,1,1,2,1,1,2,1,2,2,3,2,2,1,1,1,1,1,2,1,2,1,1,1,3,2,1,2,1,1,1,1,2,2,1,2,2,2,2,2,2,2,2,2,2,2,2,1,1,2,4,1,2,2,2,2,2,2,2,2,1,2,2,1,2,1,2,1,2,1,1,1,1,2,1,2,2,1,1,1,2,1,3,1,1,1,1,2,1,1,1,2,2,2,2,2,1,2,3,2,1,1,2,2,1,1,1,3,2,1,1,1,1,2,1,2,2,4,2,2,1,3,1,1,1,1,3,2,2,3,2,1,2,1,2,2,1,2,2,3,1,1,2,3,1,1,1,1,2,4,2,1,2,1,2,1,2,3,1,2,1,1,1,2,1,1,2,1,1,1,2,2,2,3,2,2,1,2,2,2,2,2,1,2,1,1,2,1,2,1,1,1,1,2,1,1,2,1,2,2,2,2,1,1,2,1,2,3,2,2,1,2,1,2,1,2,1,1,2,3,2,1,2,1,4,1,2,1,2,2,1,1,4,1,1,1,1,1,1,1,1,1,1,2,2,2,2,2,1,2,1,1,2,2,2,1,2,1,2,2,2,1,1,1,1,2,2,2,1,4,1,3,1,3,4,2,2,1,1,1,2,2,2,2,3,2,2,2,2,1,2,3,2,2,1,2,1,2,1,1,2,2,1,4,1,1,2,2,2,2,1,3,2,2,1,1,2,3,3,1,1,1,3,1,2,2,1,3,2,3,2,2,2,1,1,2,3,1,3,2,1,1,2,3,3,3,3,2,2,2,2,1,2,2,1,3,3,2,3,2,1,2,3,3,2,2,2,3,1,2,3,4,3,3,2,2,3,2,2,1,1,3,3,2,2,2,2,3,2,1,2,3,2,3,2,3,3,3,2,2,2,2,1,3,1,2,2,2,2,2,2,1,1,2,1,1,2,2,2,2,2,2,1,2,2,1,2,1,1,2,1,2,1,2,3,4,1,3,2,3,2,1,2,3,2,1,1,2,1,1,2,3,2,3,2,2,2,1,1,2,2,1,1,2,2,1,2,3,2,4,3,2,1,2,1,1,3,2,2,2,1,1,2,3,2,2,1,2,2,1,2,2,2,3,1,2,2,1,1,1,1,2,1,3,1,2,1,2,1,2,2,2,2,2,1,3,2,2,3,3,1,3,3,3,3,2,2,4,3,2,2,3,1,2,2,1,2,2,2,2,1,3,1,2,2,3,3,4,2,3,2,2,2,3,2,2,2,3,2,4,2,2,1,2,2,2,1,2,3,2,1,2,1,2,3,1,2,1,2,1,2,2,2,2,2,1,2,2,1,1,1,2,1,1,3,1,1,1,1,1,1,2,2,2,2,3,2,1,2,2,2,2,1,1,2,1,1,1,3,1,4,1,1,2,1,2,1,1,1,1,2,2,2,2,1,2,3,3,2,1,2,2,1,2,2,2,1,3,2,2,1,2,2,1,1,2,1,2,2,3,1,1,4,1,1,4,1,1,1,2,2,2,2,3,1,1,1,2,1,1,1,2,1,2,2,2,3,2,1,2,3,1,2,1,1,1,1,2,2,3,3,2,1,3,4,2,2,1,2,3,1,2,3,2,2,2,3,3,2,2,3,1,2,2,2,2,1,2,2,1,2,1,2,2,1,2,1,1,2,1,1,1,1,1,2,1,1,2,2,4,2,2,2,1,2,1,2,2,3,2,4,2,2,2,2,2,2,2,2,1,1,2,2,1,4,1,1,1,1,2,1,2,2,2,2,2,1,1,1,2,1,2,1,2,2,3,2,3,2,2,2,2,2,2,1,1,1,2,2,2,2,2,3,3,1,1,2,2,3,2,3,1,2,3,1,1,3,2,2,1,2,4,1,1,1,2,1,3,1,1,3,3,1,1,2,2,3,1,2,3,2,2,2,1,1,1,2,3,2,1,2,1,3,2,1,2,2,2,1,1,1,2,1,1,2,3,2,3,2,1,3,3,4,2,3,1,2,1,2,3,1,2,2,2,1,1,1,1,2,1,1,3,2,2,2,1,3,2,2,2,2,2,2,3,3,1,2,2,3,2,1,2,3,2,2,2,3,2,1,3,2,2,2,3,2,2,4,2,2,2,1,1,1,2,2,1,1,4,2,2,2,1,1,1,1,3,2,1,2,2,1,2,1,2,1,2,2,3,2,2,1,1,1,2,2,1,2,1,3,3,2,3,1,2,2,3,2,3,2,2,1,2,1,2,1,2,2,3,2,3,1,2,2,4,2,2,2,2,3,2,2,1,1,2,2,1,2,1,1,2,2,1,1,2,2,3,2,2,3,3,2,1,2,2,1,2,2,3,2,1,3,1,2,1,1,1,1,2,2,1,1,2,1,1,2,2,2,1,2,2,1,2,1,1,2,2,2,1,2,2,2,2,2,1,1,1,1,2,2,1,1,3,1,1,3,1,1,2,2,1,1,3,2,1,3,1,2,4,2,3,2,3,1,2,2,2,2,2,2,2,2,3,2,1,2,3,2,1,1,2,1,2,2,1,1,4,1,2,1,1,2,1,1,1,1,2,1,1,2,1,1,2,2,2,4,1,2,3,3,2,2,2,1,2,1,2,2,1,1,2,1,2,2,1,2,2,2,1,1,2,1,1,2,1,3,1,2,2,2,2,3,1,2,2,2,2,2,2,1,3,1,3,3,1,2,2,3,2,1,2,3,2,2,1,1,2,2,2,1,2,2,1,2,1,2,1,2,2,2,1,2,1,1,1,1,4,2,1,1,1,2,1,1,1,2,4,3,1,2,2,1,2,1,2,3,1,3,3,2,3,3,2,1,2,2,2,3,2,3,2,4,3,3,2,3,3,2,3,3,2,3,2,2,2,3,3,1,4,1,3,2,2,2,3,3,2,3,2,3,2,2,3,3,3,3,2,3,1,1,2,1,3,4,3,2,3,3,2,3,1,1,1,3,2,2,1,3,1,3,3,2,3,1,2,2,3,2,3,3,3,2,3,3,1,1,2,2,4,2,1,1,2,2,2,3,3,3,4,3,3,3,2,3,3,3,2,2,1,2,3,1,2,2,1,2,1,1,1,2,2,4,2,1,2,2,2,3,1,2,2,2,2,4,2,2,2,1,2,2,2,2,1,4,2,2,2,1,2,1,1,2,2,3,3,3,3,1,1,2,2,1,2,2,2,2,1,2,4,2,2,3,2,3,2,2,1,1,1,3,2,2,2,1,3,1,1,1,2,1,1,1,1,1,2,1,4,2,2,3,2,1,2,2,2,2,1,3,2,1,4,3,2,3,4,2,1,1,2,3,2,1,4,1,2,2,2,2,1,2,4,2,1,2,2,1,2,2,2,2,1,1,1,2,2,2,2,4,1,2,4,1,2,1,1,2,2,1,3,1,1,1,1,1,2,2,2,2,2,3,3,4,2,2,1,3,1,1,2,2,2,2,3,2,2,3,1,2,1,1,1,1,2,2,1,2,3,4,2,1,4,2,2,1,1,1,2,1,1,2,2,3,1,2,2,3,1,2,3,2,1,1,1,1,2,2,2,1,3,2,2,2,2,1,2,2,3,3,2,2,2,4,3,2,1,1,3,2,1,1,2,3,3,2,2,1,2,1,1,1,3,2,2,2,3,2,3,1,2,2,2,1,1,2,2,3,2,1,3,2,2,3,3,1,1,3,2,2,2,3,1,3,2,1,2,1,3,1,3,1,2,2,2,2,2,2,1,2,1,2,1,2,2,2,1,3,1,2,3,1,1,1,1,2,3,1,1,1,1,2,1,1,2,3,2,2,1,2,1,2,2,2,4,3,3,1,3,2,2,2,2,1,1,2,2,1,1,1,2,3,1,1,2,2,3,1,1,4,1,1,1,4,3,2,2,2,2,1,2,1,2,2,2,2,2,2,2,3,2,1,4,1,3,1,1,1,3,2,1,1,1,2,1,1,2,2,1,1,1,1,2,1,2,2,1,2,2,3,2,2,1,1,1,2,2,1,3,2,2,1,1,1,1,2,2,3,1,3,2,2,3,2,3,2,1,2,3,1,2,2,1,1,2,2,2,1,2,1,1,1,1,2,1,1,2,1,2,3,2,3,1,4,2,2,1,2,1,1,2,1,1,2,2,2,2,3,2,2,1,4,3,2,2,2,2,2,1,1,1,2,1,2,2,2,2,3,2,1,3,3,2,3,2,1,2,3,3,2,2,3,2,3,3,2,3,2,2,1,1,1,2,1,1,1,1,2,1,1,1,2,2,1,1,1,1,1,2,2,4,2,3,1,4,3,2,1,2,1,1,1,1,3,2,2,3,3,2,2,1,2,1,2,1,2,2,2,2,2,1,1,1,2,1,1,1,1,2,1,3,2,1,2,2,2,3,1,2,1,1,1,1,1,2,2,2,3,3,1,2,1,1,1,2,4,3,1,1,2,3,3,1,1,2,2,3,1,1,1,2,1,2,2,2,2,2,3,1,2,1,1,2,2,1,2,2,2,1,3,2,1,2,2,2,2,2,2,2,2,1,2,1,1,1,3,2,3,2,1,1,1,2,1,3,1,3,1,2,1,2,2,2,3,2,3,1,1,3,3,3,2,3,2,1,1,2,2,2,2,3,2,3,1,3,3,3,2,3,1,1,2,2,2,1,2,2,2,1,3,2,1,3,3,3,1,2,2,1,1,1,1,3,2,2,1,1,2,2,4,3,3,3,1,2,3,1,1,2,1,1,2,3,3,1,3,2,3,2,1,1,2,2,1,2,2,2,3,2,2,2,3,2,2,3,1,2,1,2,2,1,1,1,1,1,1,1,3,2,1,1,2,3,2,1,2,2,2,3,3,1,2,3,4,2,1,3,1,2,3,1,1,2,2,2,2,1,1,1,1,4,3,1,2,1,3,2,1,1,2,1,1,1,2,2,3,1,3,2,3,2,1,1,1,1,2,1,2,1,2,2,3,2,1,1,1,2,1,2,1,1,1,1,2,2,2,2,1,2,2,1,1,1,2,1,1,2,1,2,2,2,2,2,3,1,2,2,2,1,1,1,1,2,2,2,2,2,2,2,2,2,1,2,3,2,2,2,3,2,2,1,2,1,1,1,3,2,2,2,3,2,3,1,1,1,2,1,2,3,1,2,1,1,2,2,1,2,2,1,1,2,2,2,2,2,1,1,1,2,2,1,2,2,3,2,1,3,2,2,2,2,2,2,2,2,1,1,1,2,2,1,1,2,2,2,1,3,3,1,2,2,1,1,1,2,1,1,2,1,1,1,2,1,1,2,2,2,1,2,1,1,1,2,1,4,2,3,2,2,1,1,2,2,2,1,2,2,2,1,2,2,3,2,1,4,1,3,2,2,1,1,2,3,2,1,4,3,1,2,2,2,3,1,3,2,3,1,2,2,2,1,1,3,2,2,3,2,1,1,3,1,1,3,1,2,2,2,1,1,1,1,2,2,2,2,1,2,1,1,2,1,1,2,1,2,1,1,2,3,2,1,2,1,1,2,2,2,1,2,1,1,3,2,1,1,1,4,2,3,1,2,2,2,2,1,1,3,4,1,1,2,2,1,1,2,1,1,1,1,1,3,2,1,3,1,1,1,2,1,1,2,1,4,2,2,2,2,1,2,2,1,1,4,2,2,2,1,3,3,1,2,1,1,1,2,1,1,1,3,2,2,1,1,2,2,2,1,1,2,2,3,4,3,1,1,2,1,2,2,2,2,2,2,1,1,1,1,3,2,2,2,2,2,2,1,2,1,2,2,2,2,2,2,2,2,1,1,1,4,2,1,1,2,1,2,1,2,1,2,2,3,3,3,1,2,1,2,1,1,1,1,2,1,2,1,2,2,2,2,1,2,2,2,2,2,2,1,2,2,2,1,3,1,1,2,1,2,1,2,1,1,2,1,1,2,2,2,1,2,1,1,1,1,2,1,2,2,1,2,1,2,2,2,1,2,1,1,2,1,1,1,1,1,2,1,1,2,1,2,3,4,1,3,1,1,3,1,1,2,2,1,2,2,3,1,1,2,1,1,2,3,1,2,1,1,1,2,2,2,1,2,2,1,2,1,2,2,1,1,1,1,2,2,2,1,2,1,1,2,1,1,2,2,1,2,2,2,1,2,2,1,2,2,1,1,1,1,2,2,2,2,2,2,1,2,3,2,4,1,1,2,1,2,2,2,1,1,1,1,2,1,2,1,2,1,2,1,2,2,1,1,1,1,1,2,3,1,1,1,1,2,2,1,2,2,3,2,2,1,1,2,2,3,3,2,1,1,1,3,2,1,1,1,1,1,2,2,2,2,1,2,2,2,1,2,2,2,1,2,2,1,1,1,1,1,1,1,2,1,1,1,1,2,3,2,3,2,1,1,2,1,2,1,3,2,2,1,1,3,2,3,3,2,1,1,2,2,1,1,2,2,2,1,1,1,1,2,2,4,3,3,2,2,2,1,1,2,3,1,2,2,2,1,1,1,1,2,2,1,2,2,3,2,2,1,2,2,3,2,1,1,1,4,1,2,1,2,1,2,1,2,1,3,1,1,1,1,1,2,2,2,1,2,1,2,2,1,1,1,1,2,2,1,1,2,1,2,2,2,2,1,2,2,2,1,2,2,1,2,1,2,2,1,2,1,2,2,1,2,1,1,2,2,2,1,2,2,1,2,2,1,2,3,1,1,4,1,2,1,2,2,2,3,2,2,2,3,2,3,2,2,2,2,1,1,3,2,2,2,1,2,1,3,3,1,2,2,3,2,2,2,2,3,1,2,2,2,2,2,2,1,3,2,2,3,1,2,2,2,2,3,2,3,3,3,2,2,4,2,1,4,1,3,3,2,3,2,3,1,2,3,3,3,2,2,2,2,1,2,2,3,2,2,2,2,2,2,2,3,3,1,2,2,1,2,4,3,3,1,4,3,2,1,2,1,2,2,2,1,1,1,1,3,3,1,4,2,2,2,3,2,2,1,1,1,2,2,1,1,2,2,1,2,2,1,3,2,4,1,2,1,3,2,1,3,1,3,3,1,1,2,2,3,3,4,2,2,2,2,2,1,2,2,2,3,2,1,3,1,2,2,2,3,2,1,3,2,1,2,2,3,4,3,1,2,2,3,3,1,1,2,3,3,2,2,2,2,1,2,2,3,1,2,3,3,3,3,3,1,1,1,3,3,2,2,2,1,3,1,2,1,2,1,1,3,2,2,1,2,2,2,2,2,3,1,1,1,2,2,2,2,2,3,2,2,2,1,2,3,1,2,3,1,3,2,3,2,4,2,2,2,2,2,1,1,4,2,1,1,2,3,1,1,3,1,1,1,2,2,1,2,2,2,3,3,2,2,3,2,2,3,1,2,3,2,2,2,1,1,1,3,2,2,2,1,1,3,2,2,3,3,2,2,1,1,1,2,1,2,2,1,1,1,1,1,1,1,2,2,4,3,2,1,2,2,2,1,3,1,1,3,2,2,1,1,3,3,1,1,2,1,1,1,2,3,2,3,2,3,2,1,1,2,2,3,3,3,2,2,2,1,2,3,2,3,2,2,2,1,4,1,1,3,3,4,3,1,1,1,1,1,1,2,2,1,2,2,2,2,2,3,2,1,2,2,2,1,1,2,2,1,4,3,2,2,1,2,2,1,2,2,1,2,4,2,1,2,1,2,2,1,2,1,2,2,2,3,2,1,4,2,2,2,2,2,3,2,2,3,3,2,1,3,2,1,2,1,1,2,1,1,1,2,1,1,2,2,2,1,2,2,2,2,1,2,1,2,1,1,1,3,2,2,2,1,2,1,1,2,4,2,1,3,1,1,2,1,2,2,2,1,2,1,1,2,4,2,2,1,2,2,1,1,2,3,1,4,3,2,2,2,1,2,2,4,1,1,2,3,1,2,2,2,1,1,2,2,1,1,1,1,2,1,1,2,2,1,1,1,1,1,1,4,2,2,2,1,1,2,2,2,4,2,3,1,2,2,1,3,1,3,2,1,1,2,2,2,2,2,3,2,4,4,3,2,2,4,2,2,2,3,1,3,2,3,3,4,1,1,2,2,2,2,2,3,1,2,2,2,1,2,2,2,2,1,3,2,3,1,2,1,2,2,2,1,2,2,2,2,2,3,1,2,1,3,2,2,2,2,2,1,2,1,2,3,3,2,3,2,2,1,2,2,2,2,1,1,4,4,2,2,2,1,1,2,3,2,3,3,2,3,1,1,2,3,1,2,1,1,2,4,2,1,2,3,1,2,3,1,3,3,2,3,2,2,2,1,3,2,2,2,2,2,1,1,1,2,2,2,3,4,2,2,1,2,2,2,2,2,3,1,2,3,3,3,3,1,2,2,2,1,2,3,3,2,2,2,2,2,2,3,2,2,4,1,1,2,1,2,1,2,3,1,2,1,2,1,1,2,2,1,2,2,2,2,1,1,1,1,2,2,1,1,1,3,2,3,3,1,1,2,3,2,1,4,1,2,1,1,2,2,4,1,1,2,2,1,2,2,1,2,3,3,2,2,2,2,3,2,1,3,1,3,1,2,2,2,4,2,2,2,2,1,2,2,3,1,1,2,2,3,2,1,2,2,2,1,2,2,2,3,1,2,1,2,2,2,2,3,4,3,1,2,2,1,1,1,3,2,2,1,1,1,4,3,1,3,1,1,3,1,1,1,1,1,2,2,1,1,1,1,2,3,2,1,1,1,1,1,2,1,2,2,2,1,1,1,1,1,2,1,1,2,1,2,1,1,2,2,2,3,2,2,1,2,3,1,2,1,1,2,1,1,2,1,2,1,1,3,1,1,2,2,1,2,1,2,2,1,2,2,1,2,4,3,1,2,1,1,2,2,2,2,2,1,1,2,2,2,2,1,2,1,1,4,1,2,1,1,1,3,2,1,2,2,2,2,2,2,2,2,1,1,1,2,1,1,3,1,1,4,2,1,3,2,2,3,2,2,3,3,1,1,2,2,2,2,1,2,2,2,1,3,2,1,1,2,1,2,2,2,1,3,1,2,2,1,2,2,2,1,1,1,3,3,1,2,2,3,1,2,3,1,3,1,2,3,3,1,2,2,3,1,3,2,3,2,2,2,2,1,2,3,2,3,3,1,3,3,3,3,3,3,3,2,1,3,2,3,3,2,3,2,2,2,2,2,2,3,3,2,3,3,4,2,1,2,4,2,1,1,1,1,1,1,2,1,2,3,3,1,2,2,1,3,2,1,2,2,3,2,3,3,2,2,2,3,2,3,3,2,1,2,3,3,2,1,1,2,2,2,3,2,3,3,3,1,2,1,3,2,2,1,3,2,1,3,3,3,1,1,2,2,2,3,3,1,2,1,1,2,2,2,3,1,2,2,2,1,1,1,2,1,1,2,2,2,2,2,1,2,1,1,1,1,2,1,3,1,1,2,3,2,1,2,2,3,1,2,3,2,2,2,1,2,3,2,2,2,2,1,2,1,3,2,1,1,2,3,2,2,2,2,2,4,2,3,2,2,2,2,2,3,4,1,2,2,2,3,2,3,2,2,2,2,2,2,1,2,2,1,2,1,2,2,1,1,1,2,2,1,2,1,1,1,2,2,3,2,2,2,2,2,2,3,2,3,2,2,2,2,2,2,4,2,2,4,3,2,3,2,3,1,2,2,2,1,2,1,2,1,2,1,2,2,2,1,1,1,2,2,1,1,1,1,2,2,2,2,2,1,4,3,3,3,2,1,4,4,2,2,2,2,1,2,1,2,3,2,2,2,1,1,2,1,1,1,2,1,1,2,1,2,1,1,1,2,1,1,2,4,1,1,4,2,2,2,2,1,3,1,2,2,2,2,2,1,2,1,2,2,3,4,1,1,1,2,1,1,1,1,3,2,2,2,1,1,1,2,2,4,1,2,1,1,2,1,1,1,3,2,1,1,1,1,1,1,4,2,1,1,1,2,1,1,3,2,3,2,1,2,2,1,1,1,2,1,2,2,1,2,2,2,1,2,2,2,1,1,2,1,1,3,3,2,2,1,1,1,1,3,1,1,1,2,1,2,2,1,2,1,1,1,1,3,2,1,1,1,2,2,1,3,2,1,1,2,2,2,1,2,1,2,2,1,2,1,2,1,2,3,2,1,1,2,1,1,2,2,2,3,1,1,2,2,1,1,2,1,2,1,1,2,3,4,3,2,2,2,1,3,2,2,2,1,1,4,2,2,2,1,3,1,1,1,3,3,2,2,2,2,3,2,3,1,2,3,1,2,2,1,2,2,2,1,1,2,1,2,1,1,2,2,2,1,1,3,1,2,3,1,3,2,1,2,2,4,2,2,1,1,1,2,3,1,1,1,1,4,3,1,1,1,3,1,4,2,1,2,2,2,2,3,2,2,3,1,3,1,2,2,2,2,1,2,1,3,2,1,1,1,1,2,1,1,1,2,1,1,1,1,3,1,1,4,2,3,2,2,2,3,2,1,3,1,1,2,2,1,1,2,1,1,3,1,2,3,2,1,2,3,2,2,3,2,3,2,2,1,3,1,2,1,1,2,2,1,2,1,2,2,1,1,3,2,2,1,3,2,2,2,1,3,1,2,1,1,2,2,3,2,2,2,2,3,2,1,2,1,2,4,4,2,1,1,1,3,2,1,2,3,2,3,2,1,3,1,1,2,2,2,1,1,1,1,1,2,2,2,2,1,2,2,2,1,1,1,3,1,1,2,2,3,1,1,1,1,2,3,1,2,3,2,3,2,1,1,2,1,2,2,3,1,2,2,2,2,2,1,2,1,2,3,1,2,1,2,2,1,2,2,1,2,2,2,1,1,1,1,1,1,1,1,2,2,3,1,1,1,2,1,1,1,2,3,3,3,2,1,2,2,2,2,1,3,2,1,1,1,1,3,1,1,2,3,2,2,2,3,2,4,2,2,1,2,2,1,2,3,1,1,1,1,1,2,2,2,2,2,2,1,2,2,1,4,1,2,1,2,1,3,2,3,2,2,4,2,2,2,4,2,2,1,2,1,2,1,2,1,2,3,1,1,2,2,1,2,1,2,2,3,2,2,3,3,2,2,2,1,3,2,1,2,3,3,3,2,2,2,3,1,2,1,1,1,1,4,1,2,2,3,2,3,2,1,2,1,1,2,1,2,2,3,2,2,1,2,1,1,1,2,2,2,1,2,1,1,2,2,1,2,1,2,1,2,1,2,1,2,2,1,1,1,2,1,1,3,2,1,2,2,1,1,2,2,3,2,4,2,1,1,2,2,1,1,3,1,1,2,1,1,1,1,1,1,2,2,1,2,2,1,3,3,2,1,1,1,2,2,1,1,2,1,2,1,1,1,2,1,1,3,2,1,2,1,1,2,4,1,2,4,2,2,1,2,1,2,2,2,1,2,1,1,1,2,3,2,3,2,1,1,2,1,4,3,3,1,2,3,3,1,3,2,1,2,1,1,2,2,3,3,3,2,3,1,2,1,3,3,2,2,2,1,2,1,1,3,2,2,3,2,1,3,3,2,4,2,2,3,1,1,3,1,3,2,3,1,2,2,1,2,1,1,1,2,1,1,3,2,1,1,1,1,1,1,2,1,3,3,1,4,3,1,1,2,1,1,2,2,3,3,3,2,2,2,1,3,1,2,4,1,1,1,3,1,1,1,3,1,1,2,3,3,2,3,1,2,3,2,2,3,2,2,1,3,2,3,2,2,1,3,2,2,1,3,2,3,2,1,2,2,2,2,3,1,3,2,2,2,2,2,1,3,2,2,2,2,2,1,2,2,2,1,2,1,1,2,2,2,1,3,1,2,1,2,2,2,1,2,1,2,1,2,2,2,1,2,3,1,2,2,3,2,1,2,1,2,1,1,2,2,2,2,2,2,2,2,2,1,2,2,2,2,2,2,2,2,2,2,2,2,3,3,1,2,1,2,3,3,2,2,2,1,1,1,1,2,2,2,2,2,2,1,3,2,2,1,1,2,1,2,1,1,2,1,2,2,3,1,2,3,4,1,2,3,1,2,1,3,3,1,1,2,2,1,2,2,4,2,1,2,1,1,2,1,1,1,2,2,1,3,2,2,2,1,2,2,2,1,1,1,1,1,2,1,3,1,1,1,3,2,2,2,1,1,1,1,2,1,1,4,1,1,2,1,2,1,1,2,1,2,1,1,1,1,2,2,1,1,2,1,1,1,1,2,2,3,1,1,2,1,3,1,1,1,1,1,2,2,1,2,2,1,2,3,2,1,2,2,2,2,1,2,2,2,1,1,2,4,2,3,2,1,4,1,1,1,4,1,1,1,2,2,1,1,3,2,1,2,3,3,3,2,1,3,1,1,1,2,2,2,1,1,1,1,1,2,3,1,2,1,1,1,2,2,1,1,2,1,3,1,1,2,1,3,1,2,2,3,1,2,1,2,3,2,1,2,2,3,2,2,3,1,2,1,1,2,2,1,1,2,2,1,2,2,3,2,3,3,1,1,2,2,3,2,2,2,1,2,3,2,2,1,3,3,3,3,4,2,1,1,1,2,1,2,2,2,1,2,2,2,1,1,1,2,2,3,1,1,2,1,1,2,1,3,1,3,1,1,2,1,1,2,2,1,1,2,1,1,1,1,1,2,1,1,1,2,2,2,2,3,2,2,2,1,2,2,1,2,3,2,2,1,2,2,2,2,3,2,2,3,2,1,2,2,2,3,3,1,1,3,2,2,3,1,1,3,1,1,1,1,3,2,1,3,1,2,2,2,2,2,1,2,1,1,3,1,3,3,3,1,1,2,2,1,1,2,2,2,1,1,3,2,4,2,2,3,2,2,1,1,1,1,1,1,1,1,2,2,2,1,2,2,2,3,2,2,3,1,2,2,2,1,1,2,2,1,1,2,2,2,4,3,2,3,1,2,1,2,2,3,1,1,1,1,1,1,1,3,1,1,2,2,1,2,2,2,1,2,2,1,2,2,3,1,2,4,2,4,2,2,2,2,1,2,2,1,2,1,2,1,1,2,1,1,2,2,1,2,2,1,1,2,2,2,2,2,2,3,1,2,3,3,2,2,2,1,1,2,3,2,2,1,2,2,1,3,2,1,2,1,3,1,1,1,2,1,2,2,2,1,2,1,1,1,3,2,2,1,1,3,1,1,2,2,2,2,1,1,1,2,2,2,1,2,3,2,1,1,1,2,1,1,2,1,3,1,1,4,1,2,2,2,3,2,2,2,2,4,1,2,3,2,3,2,2,2,2,3,2,2,2,1,1,1,2,3,2,2,2,1,2,2,2,2,2,1,2,3,1,2,2,1,2,3,2,2,2,3,1,1,1,2,1,1,2,2,2,1,1,2,1,2,2,3,1,3,3,2,2,3,2,1,2,1,1,1,1,1,1,1,1,2,4,4,1,2,1,3,2,2,1,2,3,2,2,2,3,2,3,1,2,3,1,1,2,3,1,2,1,2,2,1,2,3,2,3,1,2,1,2,2,2,1,2,2,1,2,2,2,1,2,2,2,2,2,2,2,1,3,3,2,2,3,1,3,1,2,3,1,2,1,2,3,1,1,4,3,3,1,1,2,2,3,2,1,3,2,2,1,1,2,2,2,2,1,3,1,1,2,2,1,2,1,2,1,1,1,1,3,3,1,2,4,2,2,1,2,2,1,1,2,2,3,1,2,2,1,1,1,1,1,1,2,1,2,3,1,2,2,2,1,2,2,3,3,1,2,2,2,2,2,2,1,1,2,2,1,1,1,1,1,2,2,2,1,1,1,3,1,1,2,3,2,1,2,3,2,3,2,1,1,1,2,2,2,1,2,2,3,3,1,1,2,2,2,1,2,2,3,2,2,3,2,2,1,2,1,1,1,3,2,4,2,2,1,1,1,2,2,2,2,1,1,1,1,1,2,2,1,2,2,1,1,1,2,1,3,1,2,3,2,3,2,1,3,1,1,1,2,2,2,3,1,3,2,1,3,2,1,2,2,2,3,2,1,3,1,1,2,2,1,2,1,1,3,1,2,2,3,1,1,1,1,1,1,1,2,2,2,1,2,1,2,1,1,1,2,2,2,1,1,2,2,1,1,1,3,2,1,1,1,2,1,1,3,3,2,2,1,2,1,3,2,3,1,3,2,2,3,2,3,3,2,3,2,3,3,2,3,3,1,2,3,2,1,3,3,3,2,2,3,2,1,2,3,3,3,3,2,3,1,3,3,3,3,2,2,2,2,3,1,3,3,2,2,3,2,2,4,2,3,1,2,3,3,2,2,3,2,4,3,3,2,2,1,1,3,1,2,3,3,3,3,3,3,3,3,3,1,3,3,1,2,3,3,2,1,2,3,2,1,2,2,2,3,1,2,1,2,2,3,2,2,2,1,1,2,1,2,2,2,2,2,2,2,2,1,2,2,1,3,2,2,3,1,2,1,1,1,1,1,2,1,2,2,1,4,1,3,2,2,2,2,1,2,3,1,2,2,1,2,1,4,3,1,2,2,1,2,1,1,1,1,2,2,1,1,2,2,3,2,2,2,3,1,1,1,2,1,2,1,3,1,3,1,1,1,1,2,2,2,1,1,1,1,1,2,1,1,1,2,1,1,1,3,3,2,2,1,2,1,1,1,3,2,1,2,3,2,1,2,1,1,2,1,1,1,1,2,2,1,2,1,2,1,3,1,2,1,1,3,2,1,2,2,1,2,1,1,1,1,1,2,2,1,1,1,1,2,2,2,1,2,1,2,1,1,1,2,1,1,1,3,1,2,1,1,3,1,1,1,2,3,1,1,1,2,1,2,3,1,1,2,1,3,1,3,1,2,3,3,1,1,2,2,1,1,2,3,1,1,2,4,2,1,1,1,4,3,2,1,2,2,1,3,2,1,3,1,2,2,2,2,2,2,1,1,1,2,2,3,1,2,1,2,1,2,1,1,3,2,3,1,1,1,2,1,4,2,1,1,1,2,1,1,2,2,2,1,2,2,2,3,1,3,2,1,1,2,2,1,2,1,2,2,3,2,1,1,1,1,3,2,3,1,2,1,2,2,1,2,2,2,1,1,1,2,2,2,2,1,2,2,4,1,2,1,2,1,2,3,1,1,2,2,3,2,1,1,2,3,2,1,1,1,1,2,3,2,2,2,3,1,1,1,2,2,3,1,3,1,3,3,4,2,3,2,3,2,3,1,2,2,1,1,1,3,1,2,2,2,1,2,1,2,1,2,4,3,2,2,2,1,3,2,2,1,1,2,3,2,1,2,3,2,3,2,2,1,2,3,3,1,2,1,1,1,1,1,1,1,1,3,2,2,3,2,2,2,1,2,4,2,1,3,1,1,3,2,4,3,2,1,2,2,3,1,1,2,1,1,3,2,2,1,1,1,3,1,1,1,2,1,3,1,1,1,2,3,1,1,2,2,3,3,2,2,2,1,1,1,2,1,3,3,1,1,2,1,1,2,4,1,1,1,1,2,3,1,1,2,2,1,2,3,1,2,1,3,2,1,3,3,3,1,1,3,2,2,1,2,2,4,1,1,1,2,2,2,2,1,3,1,1,1,1,1,2,1,1,3,2,3,1,2,2,1,1,1,3,2,2,3,1,2,2,1,1,2,4,3,1,3,2,3,2,2,2,3,3,2,2,2,2,2,2,3,1,2,1,3,1,1,2,2,1,2,2,2,1,1,1,1,2,2,2,1,2,3,1,2,2,2,1,1,1,2,3,2,3,3,3,1,1,2,2,1,1,1,2,2,3,2,3,2,2,3,1,2,1,1,4,3,3,2,2,2,1,3,2,2,1,3,2,2,2,3,2,2,1,1,1,2,2,1,1,1,1,1,1,3,3,1,1,2,2,1,1,3,2,1,2,3,3,3,2,2,1,4,2,2,3,1,1,2,3,3,1,1,3,1,3,3,1,4,2,3,1,3,2,1,3,2,2,2,2,2,3,1,3,2,3,2,2,2,3,2,2,2,3,3,3,2,2,3,1,3,2,3,3,2,3,3,1,3,3,1,3,2,1,2,3,2,1,2,1,1,3,2,1,2,3,2,1,1,3,2,3,1,2,1,1,2,1,2,1,2,2,2,3,1,2,1,2,2,1,2,2,2,1,1,2,2,3,2,1,2,1,2,2,2,2,1,2,1,2,2,2,3,2,1,3,1,1,2,2,2,2,2,2,1,2,2,2,2,2,2,1,3,2,1,2,1,2,2,1,2,1,1,3,1,3,1,2,2,2,2,2,1,2,1,2,2,2,1,2,2,1,3,1,1,1,2,3,2,1,2,2,1,2,1,2,2,2,3,1,3,2,1,1,1,1,2,1,1,2,1,2,2,2,3,2,2,2,2,2,2,1,4,2,2,2,2,1,1,2,1,2,1,1,2,2,2,1,2,4,1,1,2,3,2,3,1,2,2,1,1,1,2,2,1,3,2,2,2,2,1,2,1,2,2,1,1,2,2,1,1,2,2,1,3,2,1,3,2,1,1,1,1,3,1,1,2,1,3,1,3,3,1,2,2,3,2,1,1,2,3,1,2,1,1,4,2,2,1,1,2,1,1,3,1,1,2,2,1,2,2,1,2,2,1,1,2,1,1,3,3,2,1,3,1,3,2,1,1,2,2,1,2,2,1,1,3,1,1,1,1,2,1,1,1,1,2,1,2,1,2,2,2,2,1,2,1,1,1,1,2,3,1,1,2,2,1,2,1,1,2,2,1,2,2,2,1,1,1,2,2,1,1,3,3,1,1,1,1,1,3,2,1,2,1,2,2,1,2,2,1,2,2,1,1,2,4,1,1,1,1,2,2,1,1,2,4,1,2,2,2,2,1,2,2,3,2,2,2,2,1,1,1,3,1,1,1,2,1,1,4,1,1,1,2,2,1,2,2,2,1,3,2,1,3,2,3,1,2,2,1,2,4,2,1,1,2,3,1,2,2,2,3,2,2,1,2,3,2,3,2,1,2,1,1,2,1,1,2,4,2,2,3,2,1,2,1,1,2,1,2,2,1,1,3,3,2,3,2,1,3,3,3,3,1,1,3,4,1,2,2,2,1,3,3,1,1,1,1,2,2,2,4,1,3,1,3,1,1,2,2,1,2,2,2,2,1,3,1,2,2,2,2,1,2,2,3,2,1,3,3,3,2,2,2,1,1,2,2,2,2,2,1,1,3,1,3,3,3,2,2,1,1,3,1,2,3,2,1,2,2,2,3,3,2,3,1,2,2,2,1,2,1,1,2,1,3,2,3,3,1,3,2,2,2,2,3,3,2,2,3,3,1,2,2,3,3,2,3,2,2,3,2,2,3,1,1,2,2,1,2,2,2,3,2,2,2,3,2,2,1,3,3,1,3,1,2,2,4,2,2,3,1,2,2,1,2,3,1,2,4,1,3,2,1,3,2,2,2,2,3,2,3,3,1,3,3,2,1,2,2,2,2,2,3,1,1,1,3,2,1,2,2,3,3,2,2,2,2,4,2,2,3,3,2,3,3,1,1,2,3,2,2,2,3,2,3,1,1,1,2,2,1,2,2,1,3,2,2,2,1,3,2,1,1,2,2,2,1,1,1,1,2,1,2,2,1,1,2,2,3,1,1,3,2,1,2,2,2,2,2,2,2,3,2,2,2,3,3,3,3,2,1,2,2,3,2,2,2,3,2,3,3,2,2,3,2,1,2,2,3,3,3,2,2,3,1,2,1,2,2,3,2,1,2,2,3,2,2,2,1,2,3,1,2,1,1,2,3,2,2,2,1,1,2,2,2,2,2,3,1,2,1,2,3,1,1,2,2,2,1,2,1,2,2,3,2,2,3,2,1,2,2,3,1,1,1,3,3,1,1,2,2,4,1,2,2,1,1,2,1,1,3,3,2,1,1,1,3,2,1,2,3,2,1,1,3,2,3,2,2,2,2,3,3,3,3,1,1,3,2,2,4,3,2,3,1,1,2,1,1,2,2,2,3,1,2,3,1,2,1,1,2,3,2,3,3,2,3,1,3,2,3,1,1,3,2,2,1,2,1,1,2,2,1,1,1,2,2,1,1,1,2,2,2,2,2,1,3,3,1,2,4,1,2,2,1,1,3,1,2,3,1,3,2,2,1,1,2,1,4,1,2,2,2,2,1,1,1,2,2,3,1,1,3,1,2,2,1,1,1,1,2,1,1,2,1,2,2,2,2,1,2,1,2,2,2,1,2,1,3,2,1,2,1,1,1,2,1,2,2,1,4,2,4,3,1,4,2,1,4,1,3,3,2,1,2,2,1,2,3,1,1,1,1,4,3,1,1,1,1,2,1,2,2,2,1,4,2,3,2,1,2,2,2,2,2,2,3,2,1,2,2,1,1,2,1,1,1,2,2,3,1,2,4,4,1,1,2,1,2,3,1,2,1,1,1,2,1,1,2,1,2,2,1,2,1,1,3,1,3,2,2,1,3,3,3,4,4,3,2,2,1,2,2,1,1,1,2,2,1,2,1,1,2,1,2,2,1,2,1,1,2,1,3,2,3,3,3,1,2,1,1,2,1,1,1,2,1,2,1,1,2,3,3,1,2,3,1,1,2,1,1,1,1,2,1,1,1,1,2,4,1,1,1,2,2,2,1,1,3,1,1,3,2,1,2,2,1,2,3,3,3,3,1,2,3,2,2,2,1,2,2,1,1,2,1,1,2,1,2,1,2,1,1,1,3,2,1,1,1,1,3,3,3,2,2,3,3,1,2,3,2,3,3,2,3,3,3,1,3,2,3,3,3,2,1,3,2,4,2,1,3,2,3,2,1,1,1,3,3,3,2,2,2,2,3,3,3,3,2,3,2,2,2,1,1,2,3,3,3,3,2,1,2,3,3,2,3,1,2,3,2,1,1,1,4,2,3,2,3,1,1,2,1,2,3,2,2,3,3,3,3,3,1,2,2,2,3,3,3,3,3,1,2,3,3,3,3,1,1,3,2,2,2,3,2,2,2,3,2,3,2,3,3,2,2,2,1,1,2,2,2,2,3,2,2,2,1,2,1,2,2,1,2,2,2,2,1,2,2,2,2,3,2,1,2,2,1,2,2,2,2,3,2,1,2,3,3,1,2,2,2,2,2,2,2,1,2,3,2,1,1,1,1,1,2,2,2,1,1,2,2,1,2,2,2,1,1,2,2,3,2,1,2,3,3,2,2,3,3,2,4,1,2,2,1,3,2,3,1,1,1,1,2,2,1,2,2,2,1,4,2,2,1,1,2,1,1,1,2,2,1,1,1,3,1,2,1,2,2,2,2,2,3,1,2,2,1,2,1,2,2,1,3,2,2,1,1,1,2,4,1,3,2,2,1,1,2,2,1,1,1,2,3,2,2,2,2,2,3,1,2,2,2,2,2,2,4,2,1,2,1,2,2,2,1,2,2,1,1,2,1,1,1,2,1,2,4,2,2,1,1,1,1,2,1,4,2,1,2,4,1,2,1,1,1,2,1,2,1,2,2,1,3,1,3,1,2,1,3,2,3,3,4,2,1,2,2,1,2,2,2,1,1,3,2,2,2,1,1,2,2,2,3,2,3,1,2,2,3,2,2,2,2,2,1,1,2,1,2,3,2,4,2,2,1,2,1,2,1,1,1,1,2,2,1,2,3,3,2,3,2,2,3,1,3,2,2,1,2,2,1,3,2,2,2,1,1,3,4,2,2,2,1,2,2,2,3,1,1,4,1,3,2,1,3,3,2,2,1,2,2,2,1,2,2,2,2,1,2,1,3,1,1,1,2,2,2,1,1,3,3,2,2,3,2,1,1,2,1,1,2,3,1,2,1,3,3,3,3,2,2,2,3,2,1,1,1,3,1,1,1,1,2,2,2,1,2,1,2,1,1,1,3,2,3,2,2,2,2,2,2,3,3,3,2,2,1,2,1,1,2,2,2,2,1,2,2,2,1,2,2,1,2,3,3,1,1,1,3,3,3,1,1,2,1,2,3,3,3,2,2,2,3,1,1,1,2,2,1,3,2,2,2,3,3,2,1,1,1,2,2,1,2,2,2,1,2,2,2,2,2,3,4,2,3,2,1,2,2,2,1,2,2,3,2,2,2,2,3,4,1,4,1,1,1,2,4,2,3,2,2,2,3,3,2,3,1,1,1,2,1,1,2,2,2,2,1,1,2,2,2,3,1,3,2,2,3,2,1,3,1,1,1,2,2,3,1,3,1,2,1,1,1,2,2,1,2,1,2,1,3,1,2,2,2,3,2,3,1,2,3,2,2,2,2,1,3,1,1,1,1,2,1,2,1,1,2,3,1,2,1,2,1,1,2,2,2,2,1,3,1,2,1,2,1,3,2,2,2,1,1,1,1,1,2,3,1,3,3],\"xaxis\":\"x\",\"yaxis\":\"y\",\"type\":\"histogram\"}],                        {\"template\":{\"data\":{\"histogram2dcontour\":[{\"type\":\"histogram2dcontour\",\"colorbar\":{\"outlinewidth\":0,\"ticks\":\"\"},\"colorscale\":[[0.0,\"#0d0887\"],[0.1111111111111111,\"#46039f\"],[0.2222222222222222,\"#7201a8\"],[0.3333333333333333,\"#9c179e\"],[0.4444444444444444,\"#bd3786\"],[0.5555555555555556,\"#d8576b\"],[0.6666666666666666,\"#ed7953\"],[0.7777777777777778,\"#fb9f3a\"],[0.8888888888888888,\"#fdca26\"],[1.0,\"#f0f921\"]]}],\"choropleth\":[{\"type\":\"choropleth\",\"colorbar\":{\"outlinewidth\":0,\"ticks\":\"\"}}],\"histogram2d\":[{\"type\":\"histogram2d\",\"colorbar\":{\"outlinewidth\":0,\"ticks\":\"\"},\"colorscale\":[[0.0,\"#0d0887\"],[0.1111111111111111,\"#46039f\"],[0.2222222222222222,\"#7201a8\"],[0.3333333333333333,\"#9c179e\"],[0.4444444444444444,\"#bd3786\"],[0.5555555555555556,\"#d8576b\"],[0.6666666666666666,\"#ed7953\"],[0.7777777777777778,\"#fb9f3a\"],[0.8888888888888888,\"#fdca26\"],[1.0,\"#f0f921\"]]}],\"heatmap\":[{\"type\":\"heatmap\",\"colorbar\":{\"outlinewidth\":0,\"ticks\":\"\"},\"colorscale\":[[0.0,\"#0d0887\"],[0.1111111111111111,\"#46039f\"],[0.2222222222222222,\"#7201a8\"],[0.3333333333333333,\"#9c179e\"],[0.4444444444444444,\"#bd3786\"],[0.5555555555555556,\"#d8576b\"],[0.6666666666666666,\"#ed7953\"],[0.7777777777777778,\"#fb9f3a\"],[0.8888888888888888,\"#fdca26\"],[1.0,\"#f0f921\"]]}],\"heatmapgl\":[{\"type\":\"heatmapgl\",\"colorbar\":{\"outlinewidth\":0,\"ticks\":\"\"},\"colorscale\":[[0.0,\"#0d0887\"],[0.1111111111111111,\"#46039f\"],[0.2222222222222222,\"#7201a8\"],[0.3333333333333333,\"#9c179e\"],[0.4444444444444444,\"#bd3786\"],[0.5555555555555556,\"#d8576b\"],[0.6666666666666666,\"#ed7953\"],[0.7777777777777778,\"#fb9f3a\"],[0.8888888888888888,\"#fdca26\"],[1.0,\"#f0f921\"]]}],\"contourcarpet\":[{\"type\":\"contourcarpet\",\"colorbar\":{\"outlinewidth\":0,\"ticks\":\"\"}}],\"contour\":[{\"type\":\"contour\",\"colorbar\":{\"outlinewidth\":0,\"ticks\":\"\"},\"colorscale\":[[0.0,\"#0d0887\"],[0.1111111111111111,\"#46039f\"],[0.2222222222222222,\"#7201a8\"],[0.3333333333333333,\"#9c179e\"],[0.4444444444444444,\"#bd3786\"],[0.5555555555555556,\"#d8576b\"],[0.6666666666666666,\"#ed7953\"],[0.7777777777777778,\"#fb9f3a\"],[0.8888888888888888,\"#fdca26\"],[1.0,\"#f0f921\"]]}],\"surface\":[{\"type\":\"surface\",\"colorbar\":{\"outlinewidth\":0,\"ticks\":\"\"},\"colorscale\":[[0.0,\"#0d0887\"],[0.1111111111111111,\"#46039f\"],[0.2222222222222222,\"#7201a8\"],[0.3333333333333333,\"#9c179e\"],[0.4444444444444444,\"#bd3786\"],[0.5555555555555556,\"#d8576b\"],[0.6666666666666666,\"#ed7953\"],[0.7777777777777778,\"#fb9f3a\"],[0.8888888888888888,\"#fdca26\"],[1.0,\"#f0f921\"]]}],\"mesh3d\":[{\"type\":\"mesh3d\",\"colorbar\":{\"outlinewidth\":0,\"ticks\":\"\"}}],\"scatter\":[{\"fillpattern\":{\"fillmode\":\"overlay\",\"size\":10,\"solidity\":0.2},\"type\":\"scatter\"}],\"parcoords\":[{\"type\":\"parcoords\",\"line\":{\"colorbar\":{\"outlinewidth\":0,\"ticks\":\"\"}}}],\"scatterpolargl\":[{\"type\":\"scatterpolargl\",\"marker\":{\"colorbar\":{\"outlinewidth\":0,\"ticks\":\"\"}}}],\"bar\":[{\"error_x\":{\"color\":\"#2a3f5f\"},\"error_y\":{\"color\":\"#2a3f5f\"},\"marker\":{\"line\":{\"color\":\"#E5ECF6\",\"width\":0.5},\"pattern\":{\"fillmode\":\"overlay\",\"size\":10,\"solidity\":0.2}},\"type\":\"bar\"}],\"scattergeo\":[{\"type\":\"scattergeo\",\"marker\":{\"colorbar\":{\"outlinewidth\":0,\"ticks\":\"\"}}}],\"scatterpolar\":[{\"type\":\"scatterpolar\",\"marker\":{\"colorbar\":{\"outlinewidth\":0,\"ticks\":\"\"}}}],\"histogram\":[{\"marker\":{\"pattern\":{\"fillmode\":\"overlay\",\"size\":10,\"solidity\":0.2}},\"type\":\"histogram\"}],\"scattergl\":[{\"type\":\"scattergl\",\"marker\":{\"colorbar\":{\"outlinewidth\":0,\"ticks\":\"\"}}}],\"scatter3d\":[{\"type\":\"scatter3d\",\"line\":{\"colorbar\":{\"outlinewidth\":0,\"ticks\":\"\"}},\"marker\":{\"colorbar\":{\"outlinewidth\":0,\"ticks\":\"\"}}}],\"scattermapbox\":[{\"type\":\"scattermapbox\",\"marker\":{\"colorbar\":{\"outlinewidth\":0,\"ticks\":\"\"}}}],\"scatterternary\":[{\"type\":\"scatterternary\",\"marker\":{\"colorbar\":{\"outlinewidth\":0,\"ticks\":\"\"}}}],\"scattercarpet\":[{\"type\":\"scattercarpet\",\"marker\":{\"colorbar\":{\"outlinewidth\":0,\"ticks\":\"\"}}}],\"carpet\":[{\"aaxis\":{\"endlinecolor\":\"#2a3f5f\",\"gridcolor\":\"white\",\"linecolor\":\"white\",\"minorgridcolor\":\"white\",\"startlinecolor\":\"#2a3f5f\"},\"baxis\":{\"endlinecolor\":\"#2a3f5f\",\"gridcolor\":\"white\",\"linecolor\":\"white\",\"minorgridcolor\":\"white\",\"startlinecolor\":\"#2a3f5f\"},\"type\":\"carpet\"}],\"table\":[{\"cells\":{\"fill\":{\"color\":\"#EBF0F8\"},\"line\":{\"color\":\"white\"}},\"header\":{\"fill\":{\"color\":\"#C8D4E3\"},\"line\":{\"color\":\"white\"}},\"type\":\"table\"}],\"barpolar\":[{\"marker\":{\"line\":{\"color\":\"#E5ECF6\",\"width\":0.5},\"pattern\":{\"fillmode\":\"overlay\",\"size\":10,\"solidity\":0.2}},\"type\":\"barpolar\"}],\"pie\":[{\"automargin\":true,\"type\":\"pie\"}]},\"layout\":{\"autotypenumbers\":\"strict\",\"colorway\":[\"#636efa\",\"#EF553B\",\"#00cc96\",\"#ab63fa\",\"#FFA15A\",\"#19d3f3\",\"#FF6692\",\"#B6E880\",\"#FF97FF\",\"#FECB52\"],\"font\":{\"color\":\"#2a3f5f\"},\"hovermode\":\"closest\",\"hoverlabel\":{\"align\":\"left\"},\"paper_bgcolor\":\"white\",\"plot_bgcolor\":\"#E5ECF6\",\"polar\":{\"bgcolor\":\"#E5ECF6\",\"angularaxis\":{\"gridcolor\":\"white\",\"linecolor\":\"white\",\"ticks\":\"\"},\"radialaxis\":{\"gridcolor\":\"white\",\"linecolor\":\"white\",\"ticks\":\"\"}},\"ternary\":{\"bgcolor\":\"#E5ECF6\",\"aaxis\":{\"gridcolor\":\"white\",\"linecolor\":\"white\",\"ticks\":\"\"},\"baxis\":{\"gridcolor\":\"white\",\"linecolor\":\"white\",\"ticks\":\"\"},\"caxis\":{\"gridcolor\":\"white\",\"linecolor\":\"white\",\"ticks\":\"\"}},\"coloraxis\":{\"colorbar\":{\"outlinewidth\":0,\"ticks\":\"\"}},\"colorscale\":{\"sequential\":[[0.0,\"#0d0887\"],[0.1111111111111111,\"#46039f\"],[0.2222222222222222,\"#7201a8\"],[0.3333333333333333,\"#9c179e\"],[0.4444444444444444,\"#bd3786\"],[0.5555555555555556,\"#d8576b\"],[0.6666666666666666,\"#ed7953\"],[0.7777777777777778,\"#fb9f3a\"],[0.8888888888888888,\"#fdca26\"],[1.0,\"#f0f921\"]],\"sequentialminus\":[[0.0,\"#0d0887\"],[0.1111111111111111,\"#46039f\"],[0.2222222222222222,\"#7201a8\"],[0.3333333333333333,\"#9c179e\"],[0.4444444444444444,\"#bd3786\"],[0.5555555555555556,\"#d8576b\"],[0.6666666666666666,\"#ed7953\"],[0.7777777777777778,\"#fb9f3a\"],[0.8888888888888888,\"#fdca26\"],[1.0,\"#f0f921\"]],\"diverging\":[[0,\"#8e0152\"],[0.1,\"#c51b7d\"],[0.2,\"#de77ae\"],[0.3,\"#f1b6da\"],[0.4,\"#fde0ef\"],[0.5,\"#f7f7f7\"],[0.6,\"#e6f5d0\"],[0.7,\"#b8e186\"],[0.8,\"#7fbc41\"],[0.9,\"#4d9221\"],[1,\"#276419\"]]},\"xaxis\":{\"gridcolor\":\"white\",\"linecolor\":\"white\",\"ticks\":\"\",\"title\":{\"standoff\":15},\"zerolinecolor\":\"white\",\"automargin\":true,\"zerolinewidth\":2},\"yaxis\":{\"gridcolor\":\"white\",\"linecolor\":\"white\",\"ticks\":\"\",\"title\":{\"standoff\":15},\"zerolinecolor\":\"white\",\"automargin\":true,\"zerolinewidth\":2},\"scene\":{\"xaxis\":{\"backgroundcolor\":\"#E5ECF6\",\"gridcolor\":\"white\",\"linecolor\":\"white\",\"showbackground\":true,\"ticks\":\"\",\"zerolinecolor\":\"white\",\"gridwidth\":2},\"yaxis\":{\"backgroundcolor\":\"#E5ECF6\",\"gridcolor\":\"white\",\"linecolor\":\"white\",\"showbackground\":true,\"ticks\":\"\",\"zerolinecolor\":\"white\",\"gridwidth\":2},\"zaxis\":{\"backgroundcolor\":\"#E5ECF6\",\"gridcolor\":\"white\",\"linecolor\":\"white\",\"showbackground\":true,\"ticks\":\"\",\"zerolinecolor\":\"white\",\"gridwidth\":2}},\"shapedefaults\":{\"line\":{\"color\":\"#2a3f5f\"}},\"annotationdefaults\":{\"arrowcolor\":\"#2a3f5f\",\"arrowhead\":0,\"arrowwidth\":1},\"geo\":{\"bgcolor\":\"white\",\"landcolor\":\"#E5ECF6\",\"subunitcolor\":\"white\",\"showland\":true,\"showlakes\":true,\"lakecolor\":\"white\"},\"title\":{\"x\":0.05},\"mapbox\":{\"style\":\"light\"}}},\"xaxis\":{\"anchor\":\"y\",\"domain\":[0.0,1.0],\"title\":{\"text\":\"Education\"},\"ticktext\":[\"Graduate\",\"University\",\"High School\",\"Others\"],\"tickvals\":[1,2,3,4]},\"yaxis\":{\"anchor\":\"x\",\"domain\":[0.0,1.0],\"title\":{\"text\":\"Number of Customers\"}},\"legend\":{\"title\":{\"text\":\"Payment Status\"},\"tracegroupgap\":0},\"title\":{\"text\":\"Distribution by Education\"},\"barmode\":\"group\",\"bargap\":0.2},                        {\"responsive\": true}                    ).then(function(){\n",
              "                            \n",
              "var gd = document.getElementById('efca4263-5837-4883-8efe-0788306ea26e');\n",
              "var x = new MutationObserver(function (mutations, observer) {{\n",
              "        var display = window.getComputedStyle(gd).display;\n",
              "        if (!display || display === 'none') {{\n",
              "            console.log([gd, 'removed!']);\n",
              "            Plotly.purge(gd);\n",
              "            observer.disconnect();\n",
              "        }}\n",
              "}});\n",
              "\n",
              "// Listen for the removal of the full notebook cells\n",
              "var notebookContainer = gd.closest('#notebook-container');\n",
              "if (notebookContainer) {{\n",
              "    x.observe(notebookContainer, {childList: true});\n",
              "}}\n",
              "\n",
              "// Listen for the clearing of the current output cell\n",
              "var outputEl = gd.closest('.output');\n",
              "if (outputEl) {{\n",
              "    x.observe(outputEl, {childList: true});\n",
              "}}\n",
              "\n",
              "                        })                };                            </script>        </div>\n",
              "</body>\n",
              "</html>"
            ]
          },
          "metadata": {}
        }
      ]
    },
    {
      "cell_type": "code",
      "source": [
        "# Let's check the marriage status\n",
        "!pip install -U kaleido\n",
        "\n",
        "fig_mar = px.histogram(\n",
        "    combined_data,\n",
        "    x=\"marriage\",\n",
        "    color=\"default\",\n",
        "    color_discrete_map={0: \"#636EFA\", 1 : \"#EF553B\"},\n",
        "    title=\"Distribution by Marriage Status\",\n",
        "    barmode=\"group\",\n",
        "    text_auto=True\n",
        ")\n",
        "\n",
        "fig_mar.update_layout(bargap=0.2,\n",
        "                      yaxis_title=\"Number of Customers\",\n",
        "                      xaxis_title=\"Marriage Status\",\n",
        "                      legend=dict(\n",
        "                          title_text=\"Payment Status\"\n",
        "                      ))\n",
        "\n",
        "fig_mar.for_each_trace(lambda t: t.update(name=t.name.replace('0', 'Not Default').replace('1', 'Default')))\n",
        "\n",
        "fig_mar.update_xaxes(\n",
        "    ticktext=['Married', 'Single', 'Others'],\n",
        "    tickvals=[1,2,3]\n",
        ")\n",
        "\n",
        "fig_mar.show(\"png\")"
      ],
      "metadata": {
        "colab": {
          "base_uri": "https://localhost:8080/",
          "height": 534
        },
        "id": "hNG4qXchvlmK",
        "outputId": "01a32966-67eb-46a6-a07a-5bae6209c0c7"
      },
      "execution_count": 20,
      "outputs": [
        {
          "output_type": "stream",
          "name": "stdout",
          "text": [
            "Requirement already satisfied: kaleido in /usr/local/lib/python3.11/dist-packages (0.2.1)\n"
          ]
        },
        {
          "output_type": "display_data",
          "data": {
            "image/png": "[encoded data removed]"
          },
          "metadata": {}
        }
      ]
    }
  ],
  "metadata": {
    "colab": {
      "provenance": [],
      "authorship_tag": "ABX9TyPM/IEFsRVtiY321Ry/oVp+"
    },
    "kernelspec": {
      "display_name": "Python 3",
      "name": "python3"
    },
    "language_info": {
      "name": "python"
    }
  },
  "nbformat": 4,
  "nbformat_minor": 0
}